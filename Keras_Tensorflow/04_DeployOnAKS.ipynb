{
 "cells": [
  {
   "cell_type": "markdown",
   "metadata": {},
   "source": [
    "# Deploy Web App on Azure Container Services (AKS)\n"
   ]
  },
  {
   "cell_type": "markdown",
   "metadata": {},
   "source": [
    "In this notebook, we will set up an Azure Container Service which will be managed by Kubernetes. We will then take the Docker image we created earlier that contains our app and deploy it to the AKS cluster. Then, we will check everything is working by sending an image to it and getting it scored. \n",
    "\n",
    "The process is split into the following steps:\n",
    "- Define our resource names\n",
    "- Login to Azure\n",
    "- Create resource group and create AKS\n",
    "- Connect to AKS\n",
    "- Deploy our app\n",
    "- Tear it all down\n",
    "\n",
    "We assume that this notebook is running on Linux and Azure CLI is installed before proceeding."
   ]
  },
  {
   "cell_type": "markdown",
   "metadata": {},
   "source": [
    "## Setup"
   ]
  },
  {
   "cell_type": "markdown",
   "metadata": {},
   "source": [
    "Below are the various name definitions for the resources needed to setup AKS as well as the name of the Docker image we will be using. If you wish to use the image that you previously pushed to your account, make sure you change this."
   ]
  },
  {
   "cell_type": "code",
   "execution_count": 1,
   "metadata": {},
   "outputs": [],
   "source": [
    "# Please modify the below as you see fit\n",
    "resource_group = \"mabouaks\"\n",
    "aks_name = \"mabouaks\"\n",
    "location = \"eastus\"\n",
    "\n",
    "docker_login = 'mabouatmicrosoft'  # 'fboylu/kerastf-gpu' Feel free to use this image if you want to \n",
    "image_name = docker_login + '/kerastf-gpu' # skip creating your own container\n",
    "\n",
    "selected_subscription = \"'Boston-DS-Brandon-Dev'\" # If you have multiple subscriptions select \n",
    "                                                # the subscription you want to use here"
   ]
  },
  {
   "cell_type": "markdown",
   "metadata": {},
   "source": [
    "## Azure account login"
   ]
  },
  {
   "cell_type": "markdown",
   "metadata": {},
   "source": [
    "The command below will initiate a login to your Azure account. It will pop up with an url to go to where you will enter a one off code and log into your Azure account using your browser."
   ]
  },
  {
   "cell_type": "code",
   "execution_count": 2,
   "metadata": {},
   "outputs": [
    {
     "name": "stdout",
     "output_type": "stream",
     "text": [
      "\u001b[33mNote, we have launched a browser for you to login. For old experience with device code, use \"az login --use-device-code\"\u001b[0m\n",
      "\n",
      "(firefox:82222): LIBDBUSMENU-GLIB-WARNING **: Unable to get session bus: Error spawning command line 'dbus-launch --autolaunch=e05d81ec9eea4cb7abfd3fd9ec6f3655 --binary-syntax --close-stderr': Child process exited with code 1\n",
      "\u001b[33mYou have logged in. Now let us find all subscriptions you have access to...\u001b[0m\n",
      "CloudName    IsDefault    Name                                State     TenantId\n",
      "-----------  -----------  ----------------------------------  --------  ------------------------------------\n",
      "AzureCloud   False        Boston DS Dev                       Enabled   72f988bf-86f1-41af-91ab-2d7cd011db47\n",
      "AzureCloud   False        Solution Template Testing           Enabled   72f988bf-86f1-41af-91ab-2d7cd011db47\n",
      "AzureCloud   False        CTS-DS                              Disabled  72f988bf-86f1-41af-91ab-2d7cd011db47\n",
      "AzureCloud   False        DEMO - how RepDemo are you          Enabled   72f988bf-86f1-41af-91ab-2d7cd011db47\n",
      "AzureCloud   False        Microsoft Azure Internal - Demos    Enabled   72f988bf-86f1-41af-91ab-2d7cd011db47\n",
      "AzureCloud   False        Core-ES-BLD                         Enabled   72f988bf-86f1-41af-91ab-2d7cd011db47\n",
      "AzureCloud   False        Boston Engineering                  Enabled   72f988bf-86f1-41af-91ab-2d7cd011db47\n",
      "AzureCloud   False        ADLTrainingMS                       Enabled   72f988bf-86f1-41af-91ab-2d7cd011db47\n",
      "AzureCloud   False        Internal Consumption                Enabled   72f988bf-86f1-41af-91ab-2d7cd011db47\n",
      "AzureCloud   False        Data Wrangling Preview              Enabled   72f988bf-86f1-41af-91ab-2d7cd011db47\n",
      "AzureCloud   False        Project Vienna Demo 1               Enabled   72f988bf-86f1-41af-91ab-2d7cd011db47\n",
      "AzureCloud   False        Microsoft Azure Internal - Mohamed  Enabled   72f988bf-86f1-41af-91ab-2d7cd011db47\n",
      "AzureCloud   True         Boston-DS-Brandon-Dev               Enabled   72f988bf-86f1-41af-91ab-2d7cd011db47\n",
      "AzureCloud   False        Team TJ                             Enabled   72f988bf-86f1-41af-91ab-2d7cd011db47\n",
      "AzureCloud   False        Azure Internal - TATK               Enabled   72f988bf-86f1-41af-91ab-2d7cd011db47\n"
     ]
    }
   ],
   "source": [
    "!az login -o table"
   ]
  },
  {
   "cell_type": "code",
   "execution_count": 3,
   "metadata": {},
   "outputs": [],
   "source": [
    "!az account set --subscription $selected_subscription"
   ]
  },
  {
   "cell_type": "code",
   "execution_count": 4,
   "metadata": {},
   "outputs": [
    {
     "name": "stdout",
     "output_type": "stream",
     "text": [
      "{\r\n",
      "  \"environmentName\": \"AzureCloud\",\r\n",
      "  \"id\": \"e984a9db-1a27-4f54-98fc-282cf0dcda04\",\r\n",
      "  \"isDefault\": true,\r\n",
      "  \"name\": \"Boston-DS-Brandon-Dev\",\r\n",
      "  \"state\": \"Enabled\",\r\n",
      "  \"tenantId\": \"72f988bf-86f1-41af-91ab-2d7cd011db47\",\r\n",
      "  \"user\": {\r\n",
      "    \"name\": \"mabou@microsoft.com\",\r\n",
      "    \"type\": \"user\"\r\n",
      "  }\r\n",
      "}\r\n"
     ]
    }
   ],
   "source": [
    "!az account show"
   ]
  },
  {
   "cell_type": "markdown",
   "metadata": {},
   "source": [
    "You will also need to register the container service resources on your subscription if you haven't already done so."
   ]
  },
  {
   "cell_type": "code",
   "execution_count": 5,
   "metadata": {},
   "outputs": [
    {
     "name": "stdout",
     "output_type": "stream",
     "text": [
      "\u001b[33mRegistering is still on-going. You can monitor using 'az provider show -n Microsoft.ContainerService'\u001b[0m\r\n"
     ]
    }
   ],
   "source": [
    "!az provider register -n Microsoft.ContainerService"
   ]
  },
  {
   "cell_type": "code",
   "execution_count": 6,
   "metadata": {},
   "outputs": [
    {
     "name": "stdout",
     "output_type": "stream",
     "text": [
      "{\r\n",
      "  \"authorization\": {\r\n",
      "    \"applicationId\": \"7319c514-987d-4e9b-ac3d-d38c4f427f4c\",\r\n",
      "    \"managedByRoleDefinitionId\": \"8e3af657-a8ff-443c-a75c-2fe8c4bcb635\",\r\n",
      "    \"roleDefinitionId\": \"1b4a0c7f-2217-416f-acfa-cf73452fdc1c\"\r\n",
      "  },\r\n",
      "  \"id\": \"/subscriptions/e984a9db-1a27-4f54-98fc-282cf0dcda04/providers/Microsoft.ContainerService\",\r\n",
      "  \"namespace\": \"Microsoft.ContainerService\",\r\n",
      "  \"registrationState\": \"Registered\",\r\n",
      "  \"resourceTypes\": [\r\n",
      "    {\r\n",
      "      \"aliases\": null,\r\n",
      "      \"apiVersions\": [\r\n",
      "        \"2017-07-01\",\r\n",
      "        \"2017-01-31\",\r\n",
      "        \"2016-09-30\",\r\n",
      "        \"2016-03-30\"\r\n",
      "      ],\r\n",
      "      \"capabilities\": \"None\",\r\n",
      "      \"locations\": [\r\n",
      "        \"Japan East\",\r\n",
      "        \"Central US\",\r\n",
      "        \"East US 2\",\r\n",
      "        \"Japan West\",\r\n",
      "        \"East Asia\",\r\n",
      "        \"South Central US\",\r\n",
      "        \"Australia East\",\r\n",
      "        \"Australia Southeast\",\r\n",
      "        \"Brazil South\",\r\n",
      "        \"Southeast Asia\",\r\n",
      "        \"West US\",\r\n",
      "        \"North Central US\",\r\n",
      "        \"West Europe\",\r\n",
      "        \"North Europe\",\r\n",
      "        \"East US\",\r\n",
      "        \"UK West\",\r\n",
      "        \"UK South\",\r\n",
      "        \"West Central US\",\r\n",
      "        \"West US 2\",\r\n",
      "        \"South India\",\r\n",
      "        \"Central India\",\r\n",
      "        \"West India\",\r\n",
      "        \"Canada East\",\r\n",
      "        \"Canada Central\",\r\n",
      "        \"Korea South\",\r\n",
      "        \"Korea Central\"\r\n",
      "      ],\r\n",
      "      \"properties\": null,\r\n",
      "      \"resourceType\": \"containerServices\"\r\n",
      "    },\r\n",
      "    {\r\n",
      "      \"aliases\": null,\r\n",
      "      \"apiVersions\": [\r\n",
      "        \"2018-03-31\",\r\n",
      "        \"2017-08-31\"\r\n",
      "      ],\r\n",
      "      \"capabilities\": \"None\",\r\n",
      "      \"locations\": [\r\n",
      "        \"East US\",\r\n",
      "        \"West Europe\",\r\n",
      "        \"Central US\",\r\n",
      "        \"Canada Central\",\r\n",
      "        \"Canada East\",\r\n",
      "        \"UK South\",\r\n",
      "        \"West US\",\r\n",
      "        \"West US 2\",\r\n",
      "        \"Australia East\",\r\n",
      "        \"North Europe\",\r\n",
      "        \"Japan East\",\r\n",
      "        \"East US 2\"\r\n",
      "      ],\r\n",
      "      \"properties\": null,\r\n",
      "      \"resourceType\": \"managedClusters\"\r\n",
      "    },\r\n",
      "    {\r\n",
      "      \"aliases\": null,\r\n",
      "      \"apiVersions\": [\r\n",
      "        \"2017-08-31\",\r\n",
      "        \"2017-01-31\",\r\n",
      "        \"2016-09-30\",\r\n",
      "        \"2016-03-30\",\r\n",
      "        \"2015-11-01-preview\"\r\n",
      "      ],\r\n",
      "      \"locations\": [],\r\n",
      "      \"properties\": null,\r\n",
      "      \"resourceType\": \"locations\"\r\n",
      "    },\r\n",
      "    {\r\n",
      "      \"aliases\": null,\r\n",
      "      \"apiVersions\": [\r\n",
      "        \"2017-08-31\",\r\n",
      "        \"2016-03-30\"\r\n",
      "      ],\r\n",
      "      \"locations\": [\r\n",
      "        \"East US\",\r\n",
      "        \"West Europe\",\r\n",
      "        \"Central US\",\r\n",
      "        \"UK West\",\r\n",
      "        \"West Central US\",\r\n",
      "        \"West US 2\",\r\n",
      "        \"South India\",\r\n",
      "        \"Central India\",\r\n",
      "        \"West India\",\r\n",
      "        \"Canada East\",\r\n",
      "        \"Canada Central\",\r\n",
      "        \"Korea South\",\r\n",
      "        \"Korea Central\",\r\n",
      "        \"UK South\",\r\n",
      "        \"Australia East\",\r\n",
      "        \"North Europe\",\r\n",
      "        \"Japan East\",\r\n",
      "        \"East US 2\"\r\n",
      "      ],\r\n",
      "      \"properties\": null,\r\n",
      "      \"resourceType\": \"locations/operationresults\"\r\n",
      "    },\r\n",
      "    {\r\n",
      "      \"aliases\": null,\r\n",
      "      \"apiVersions\": [\r\n",
      "        \"2017-07-01\",\r\n",
      "        \"2017-01-31\",\r\n",
      "        \"2016-09-30\",\r\n",
      "        \"2016-03-30\"\r\n",
      "      ],\r\n",
      "      \"locations\": [\r\n",
      "        \"Japan East\",\r\n",
      "        \"Central US\",\r\n",
      "        \"East US 2\",\r\n",
      "        \"Japan West\",\r\n",
      "        \"East Asia\",\r\n",
      "        \"South Central US\",\r\n",
      "        \"Australia East\",\r\n",
      "        \"Australia Southeast\",\r\n",
      "        \"Brazil South\",\r\n",
      "        \"Southeast Asia\",\r\n",
      "        \"West US\",\r\n",
      "        \"North Central US\",\r\n",
      "        \"West Europe\",\r\n",
      "        \"North Europe\",\r\n",
      "        \"East US\",\r\n",
      "        \"UK West\",\r\n",
      "        \"UK South\",\r\n",
      "        \"West Central US\",\r\n",
      "        \"West US 2\",\r\n",
      "        \"South India\",\r\n",
      "        \"Central India\",\r\n",
      "        \"West India\",\r\n",
      "        \"Canada East\",\r\n",
      "        \"Canada Central\",\r\n",
      "        \"Korea South\",\r\n",
      "        \"Korea Central\"\r\n",
      "      ],\r\n",
      "      \"properties\": null,\r\n",
      "      \"resourceType\": \"locations/operations\"\r\n",
      "    },\r\n",
      "    {\r\n",
      "      \"aliases\": null,\r\n",
      "      \"apiVersions\": [\r\n",
      "        \"2018-03-31\",\r\n",
      "        \"2017-08-31\",\r\n",
      "        \"2017-07-01\",\r\n",
      "        \"2017-01-31\",\r\n",
      "        \"2016-09-30\",\r\n",
      "        \"2016-03-30\",\r\n",
      "        \"2015-11-01-preview\"\r\n",
      "      ],\r\n",
      "      \"locations\": [],\r\n",
      "      \"properties\": null,\r\n",
      "      \"resourceType\": \"operations\"\r\n",
      "    },\r\n",
      "    {\r\n",
      "      \"aliases\": null,\r\n",
      "      \"apiVersions\": [\r\n",
      "        \"2017-09-30\"\r\n",
      "      ],\r\n",
      "      \"locations\": [\r\n",
      "        \"East US\",\r\n",
      "        \"West Europe\",\r\n",
      "        \"Central US\",\r\n",
      "        \"Canada East\",\r\n",
      "        \"Canada Central\",\r\n",
      "        \"UK South\",\r\n",
      "        \"West US\",\r\n",
      "        \"West US 2\",\r\n",
      "        \"Australia East\",\r\n",
      "        \"North Europe\",\r\n",
      "        \"Japan East\",\r\n",
      "        \"East US 2\"\r\n",
      "      ],\r\n",
      "      \"properties\": null,\r\n",
      "      \"resourceType\": \"locations/orchestrators\"\r\n",
      "    }\r\n",
      "  ]\r\n",
      "}\r\n"
     ]
    }
   ],
   "source": [
    "!az provider show -n Microsoft.ContainerService"
   ]
  },
  {
   "cell_type": "markdown",
   "metadata": {},
   "source": [
    "## Create resources and dependencies"
   ]
  },
  {
   "cell_type": "markdown",
   "metadata": {},
   "source": [
    "### Create resource group and AKS cluster"
   ]
  },
  {
   "cell_type": "markdown",
   "metadata": {},
   "source": [
    "Azure encourages the use of groups to organize all the Azure components you deploy. That way it is easier to find them but also we can delete a number of resources simply by deleting the group."
   ]
  },
  {
   "cell_type": "code",
   "execution_count": 7,
   "metadata": {},
   "outputs": [
    {
     "name": "stdout",
     "output_type": "stream",
     "text": [
      "{\r\n",
      "  \"id\": \"/subscriptions/e984a9db-1a27-4f54-98fc-282cf0dcda04/resourceGroups/mabouaks\",\r\n",
      "  \"location\": \"eastus\",\r\n",
      "  \"managedBy\": null,\r\n",
      "  \"name\": \"mabouaks\",\r\n",
      "  \"properties\": {\r\n",
      "    \"provisioningState\": \"Succeeded\"\r\n",
      "  },\r\n",
      "  \"tags\": null\r\n",
      "}\r\n"
     ]
    }
   ],
   "source": [
    "!az group create --name $resource_group --location $location"
   ]
  },
  {
   "cell_type": "markdown",
   "metadata": {},
   "source": [
    "Below, we create the AKS cluster in the resource group we created earlier. This could take 5-10 minutes."
   ]
  },
  {
   "cell_type": "code",
   "execution_count": 8,
   "metadata": {},
   "outputs": [
    {
     "name": "stdout",
     "output_type": "stream",
     "text": [
      "\u001b[K{- Finished ..\n",
      "  \"aadProfile\": null,\n",
      "  \"addonProfiles\": null,\n",
      "  \"agentPoolProfiles\": [\n",
      "    {\n",
      "      \"count\": 1,\n",
      "      \"dnsPrefix\": null,\n",
      "      \"fqdn\": null,\n",
      "      \"maxPods\": 110,\n",
      "      \"name\": \"nodepool1\",\n",
      "      \"osDiskSizeGb\": null,\n",
      "      \"osType\": \"Linux\",\n",
      "      \"ports\": null,\n",
      "      \"storageProfile\": \"ManagedDisks\",\n",
      "      \"vmSize\": \"Standard_NC6\",\n",
      "      \"vnetSubnetId\": null\n",
      "    }\n",
      "  ],\n",
      "  \"dnsPrefix\": \"mabouaks-mabouaks-e984a9\",\n",
      "  \"enableRbac\": true,\n",
      "  \"fqdn\": \"mabouaks-mabouaks-e984a9-91280f94.hcp.eastus.azmk8s.io\",\n",
      "  \"id\": \"/subscriptions/e984a9db-1a27-4f54-98fc-282cf0dcda04/resourcegroups/mabouaks/providers/Microsoft.ContainerService/managedClusters/mabouaks\",\n",
      "  \"kubernetesVersion\": \"1.9.9\",\n",
      "  \"linuxProfile\": {\n",
      "    \"adminUsername\": \"azureuser\",\n",
      "    \"ssh\": {\n",
      "      \"publicKeys\": [\n",
      "        {\n",
      "          \"keyData\": \"ssh-rsa AAAAB3NzaC1yc2EAAAADAQABAAABAQDA912ocZhmAUJbpPW/mOg5anphH0ehCLNlgofEvuCCwIV/2oRBL2uC6F2fDImkOjwSLQwOdhK+IvLOBUTdBOSXwOG+Dv6kd0n+YIKrykI60UJJjx+gYw3lFqeSgkjavKQpcQO1jhnemsn4wM6B3dPJVp8fDU86C3KM7KkoJkfgaQrJ1pfnzqEE+sFYrguhAjHJvJ+tz+JY0quG5tK5ARm7VMLW7JOxR1KFGNN4Kxcax0S4r2xG1px0rUFht4hG6isASbVsvIA2+3DnfWG7wNNeX5zKITJqUFH48uuZqN/QPam+2m03oibEzEu6B/C8KSOkGnpKsJfiGNykqlahNILz\"\n",
      "        }\n",
      "      ]\n",
      "    }\n",
      "  },\n",
      "  \"location\": \"eastus\",\n",
      "  \"name\": \"mabouaks\",\n",
      "  \"networkProfile\": {\n",
      "    \"dnsServiceIp\": \"10.0.0.10\",\n",
      "    \"dockerBridgeCidr\": \"172.17.0.1/16\",\n",
      "    \"networkPlugin\": \"kubenet\",\n",
      "    \"networkPolicy\": null,\n",
      "    \"podCidr\": \"10.244.0.0/16\",\n",
      "    \"serviceCidr\": \"10.0.0.0/16\"\n",
      "  },\n",
      "  \"nodeResourceGroup\": \"MC_mabouaks_mabouaks_eastus\",\n",
      "  \"provisioningState\": \"Succeeded\",\n",
      "  \"resourceGroup\": \"mabouaks\",\n",
      "  \"servicePrincipalProfile\": {\n",
      "    \"clientId\": \"367110e1-3cb9-4259-ad39-314778cdde89\",\n",
      "    \"keyVaultSecretRef\": null,\n",
      "    \"secret\": null\n",
      "  },\n",
      "  \"tags\": null,\n",
      "  \"type\": \"Microsoft.ContainerService/ManagedClusters\"\n",
      "}\n",
      "\u001b[0mCPU times: user 6.48 s, sys: 2.86 s, total: 9.34 s\n",
      "Wall time: 11min 16s\n"
     ]
    }
   ],
   "source": [
    "%%time\n",
    "!az aks create --resource-group $resource_group --name $aks_name --node-count 1 --generate-ssh-keys -s Standard_NC6"
   ]
  },
  {
   "cell_type": "markdown",
   "metadata": {},
   "source": [
    "### Install kubectl CLI"
   ]
  },
  {
   "cell_type": "markdown",
   "metadata": {},
   "source": [
    "To connect to the Kubernetes cluster, we will use kubectl, the Kubernetes command-line client. To install, run the following:"
   ]
  },
  {
   "cell_type": "code",
   "execution_count": 9,
   "metadata": {},
   "outputs": [
    {
     "name": "stdout",
     "output_type": "stream",
     "text": [
      "\u001b[33mDownloading client to /usr/local/bin/kubectl from https://storage.googleapis.com/kubernetes-release/release/v1.11.0/bin/linux/amd64/kubectl\u001b[0m\n",
      "\u001b[33mPlease ensure that /usr/local/bin is in your search PATH, so the `kubectl` command can be found.\u001b[0m\n"
     ]
    }
   ],
   "source": [
    "!sudo env \"PATH=$PATH\" az aks install-cli"
   ]
  },
  {
   "cell_type": "markdown",
   "metadata": {},
   "source": [
    "## Connect to AKS cluster"
   ]
  },
  {
   "cell_type": "markdown",
   "metadata": {},
   "source": [
    "To configure kubectl to connect to the Kubernetes cluster, run the following command:"
   ]
  },
  {
   "cell_type": "code",
   "execution_count": 12,
   "metadata": {},
   "outputs": [
    {
     "name": "stdout",
     "output_type": "stream",
     "text": [
      "Merged \"mabouaks\" as current context in /home/mabou/.kube/config\r\n"
     ]
    }
   ],
   "source": [
    "!az aks get-credentials --resource-group $resource_group --name $aks_name"
   ]
  },
  {
   "cell_type": "markdown",
   "metadata": {},
   "source": [
    "Let's verify connection by listing the nodes."
   ]
  },
  {
   "cell_type": "code",
   "execution_count": 13,
   "metadata": {},
   "outputs": [
    {
     "name": "stdout",
     "output_type": "stream",
     "text": [
      "NAME                       STATUS    ROLES     AGE       VERSION\r\n",
      "aks-nodepool1-99663626-0   Ready     agent     9m        v1.9.9\r\n"
     ]
    }
   ],
   "source": [
    "!kubectl get nodes"
   ]
  },
  {
   "cell_type": "markdown",
   "metadata": {},
   "source": [
    "Let's check the pods on our cluster."
   ]
  },
  {
   "cell_type": "code",
   "execution_count": 14,
   "metadata": {},
   "outputs": [
    {
     "name": "stdout",
     "output_type": "stream",
     "text": [
      "NAMESPACE     NAME                                    READY     STATUS    RESTARTS   AGE\r\n",
      "kube-system   azureproxy-5fc9fc6976-b6kvl             1/1       Running   2          9m\r\n",
      "kube-system   heapster-56c6f9566f-vfkqj               2/2       Running   0          9m\r\n",
      "kube-system   kube-dns-v20-7c556f89c5-qxtxs           3/3       Running   0          9m\r\n",
      "kube-system   kube-dns-v20-7c556f89c5-zxrq2           3/3       Running   0          9m\r\n",
      "kube-system   kube-proxy-g2lzq                        1/1       Running   0          9m\r\n",
      "kube-system   kube-svc-redirect-b4njg                 1/1       Running   0          9m\r\n",
      "kube-system   kubernetes-dashboard-6c6d86c85c-sgs4w   1/1       Running   3          9m\r\n",
      "kube-system   tunnelfront-6667d47b7f-jtsdn            1/1       Running   0          9m\r\n"
     ]
    }
   ],
   "source": [
    "!kubectl get pods --all-namespaces"
   ]
  },
  {
   "cell_type": "markdown",
   "metadata": {},
   "source": [
    "## Deploy application"
   ]
  },
  {
   "cell_type": "markdown",
   "metadata": {},
   "source": [
    "Below we define our Kubernetes manifest file for our service and load balancer. Note that we have to specify the volume mounts to the drivers that are located on the node."
   ]
  },
  {
   "cell_type": "code",
   "execution_count": 15,
   "metadata": {},
   "outputs": [],
   "source": [
    "app_template = {\n",
    "  \"apiVersion\": \"apps/v1beta1\",\n",
    "  \"kind\": \"Deployment\",\n",
    "  \"metadata\": {\n",
    "      \"name\": \"azure-dl\"\n",
    "  },\n",
    "  \"spec\":{\n",
    "      \"replicas\":1,\n",
    "      \"template\":{\n",
    "          \"metadata\":{\n",
    "              \"labels\":{\n",
    "                  \"app\":\"azure-dl\"\n",
    "              }\n",
    "          },\n",
    "          \"spec\":{\n",
    "              \"containers\":[\n",
    "                  {\n",
    "                      \"name\": \"azure-dl\",\n",
    "                      \"image\": docker_login + \"/kerastf-gpu\",\n",
    "                      \"env\":[\n",
    "                          {\n",
    "                              \"name\": \"LD_LIBRARY_PATH\",\n",
    "                              \"value\": \"$LD_LIBRARY_PATH:/usr/local/nvidia/lib64:/opt/conda/envs/py3.5/lib\"\n",
    "                          }\n",
    "                      ],\n",
    "                      \"ports\":[\n",
    "                          {\n",
    "                              \"containerPort\":80,\n",
    "                              \"name\":\"model\"\n",
    "                          }\n",
    "                      ],\n",
    "                      \"volumeMounts\":[\n",
    "                          {\n",
    "                              \"mountPath\":\"/usr/local/nvidia\",\n",
    "                              \"name\": \"nvidia\",\n",
    "                          }\n",
    "                      ],\n",
    "                      \"resources\":{\n",
    "                           \"requests\":{\n",
    "                               \"alpha.kubernetes.io/nvidia-gpu\": 1\n",
    "                           },\n",
    "                           \"limits\":{\n",
    "                               \"alpha.kubernetes.io/nvidia-gpu\": 1\n",
    "                           }\n",
    "                       }  \n",
    "                  }\n",
    "              ],\n",
    "              \"volumes\":[\n",
    "                  {\n",
    "                      \"name\": \"nvidia\",\n",
    "                      \"hostPath\":{\n",
    "                          \"path\":\"/usr/local/nvidia\"\n",
    "                      },\n",
    "                  },\n",
    "              ]\n",
    "          }\n",
    "      }\n",
    "  }\n",
    "}\n",
    "\n",
    "service_temp = {\n",
    "  \"apiVersion\": \"v1\",\n",
    "  \"kind\": \"Service\",\n",
    "  \"metadata\": {\n",
    "      \"name\": \"azure-dl\"\n",
    "  },\n",
    "  \"spec\":{\n",
    "      \"type\": \"LoadBalancer\",\n",
    "      \"ports\":[\n",
    "          {\n",
    "              \"port\":80\n",
    "          }\n",
    "      ],\n",
    "      \"selector\":{\n",
    "            \"app\":\"azure-dl\"\n",
    "      }\n",
    "   }\n",
    "}"
   ]
  },
  {
   "cell_type": "code",
   "execution_count": 16,
   "metadata": {},
   "outputs": [],
   "source": [
    "import json\n",
    "def write_json_to_file(json_dict, filename, mode='w'):\n",
    "    with open(filename, mode) as outfile:\n",
    "        json.dump(json_dict, outfile, indent=4, sort_keys=True)\n",
    "        outfile.write('\\n\\n')"
   ]
  },
  {
   "cell_type": "code",
   "execution_count": 17,
   "metadata": {},
   "outputs": [],
   "source": [
    "write_json_to_file(app_template, 'az-dl.json')"
   ]
  },
  {
   "cell_type": "code",
   "execution_count": 18,
   "metadata": {},
   "outputs": [],
   "source": [
    "write_json_to_file(service_temp, 'az-dl.json', mode='a')"
   ]
  },
  {
   "cell_type": "markdown",
   "metadata": {},
   "source": [
    "Let's check the manifest created."
   ]
  },
  {
   "cell_type": "code",
   "execution_count": 19,
   "metadata": {},
   "outputs": [
    {
     "name": "stdout",
     "output_type": "stream",
     "text": [
      "{\r\n",
      "    \"apiVersion\": \"apps/v1beta1\",\r\n",
      "    \"kind\": \"Deployment\",\r\n",
      "    \"metadata\": {\r\n",
      "        \"name\": \"azure-dl\"\r\n",
      "    },\r\n",
      "    \"spec\": {\r\n",
      "        \"replicas\": 1,\r\n",
      "        \"template\": {\r\n",
      "            \"metadata\": {\r\n",
      "                \"labels\": {\r\n",
      "                    \"app\": \"azure-dl\"\r\n",
      "                }\r\n",
      "            },\r\n",
      "            \"spec\": {\r\n",
      "                \"containers\": [\r\n",
      "                    {\r\n",
      "                        \"env\": [\r\n",
      "                            {\r\n",
      "                                \"name\": \"LD_LIBRARY_PATH\",\r\n",
      "                                \"value\": \"$LD_LIBRARY_PATH:/usr/local/nvidia/lib64:/opt/conda/envs/py3.5/lib\"\r\n",
      "                            }\r\n",
      "                        ],\r\n",
      "                        \"image\": \"mabouatmicrosoft/kerastf-gpu\",\r\n",
      "                        \"name\": \"azure-dl\",\r\n",
      "                        \"ports\": [\r\n",
      "                            {\r\n",
      "                                \"containerPort\": 80,\r\n",
      "                                \"name\": \"model\"\r\n",
      "                            }\r\n",
      "                        ],\r\n",
      "                        \"resources\": {\r\n",
      "                            \"limits\": {\r\n",
      "                                \"alpha.kubernetes.io/nvidia-gpu\": 1\r\n",
      "                            },\r\n",
      "                            \"requests\": {\r\n",
      "                                \"alpha.kubernetes.io/nvidia-gpu\": 1\r\n",
      "                            }\r\n",
      "                        },\r\n",
      "                        \"volumeMounts\": [\r\n",
      "                            {\r\n",
      "                                \"mountPath\": \"/usr/local/nvidia\",\r\n",
      "                                \"name\": \"nvidia\"\r\n",
      "                            }\r\n",
      "                        ]\r\n",
      "                    }\r\n",
      "                ],\r\n",
      "                \"volumes\": [\r\n",
      "                    {\r\n",
      "                        \"hostPath\": {\r\n",
      "                            \"path\": \"/usr/local/nvidia\"\r\n",
      "                        },\r\n",
      "                        \"name\": \"nvidia\"\r\n",
      "                    }\r\n",
      "                ]\r\n",
      "            }\r\n",
      "        }\r\n",
      "    }\r\n",
      "}\r\n",
      "\r\n",
      "{\r\n",
      "    \"apiVersion\": \"v1\",\r\n",
      "    \"kind\": \"Service\",\r\n",
      "    \"metadata\": {\r\n",
      "        \"name\": \"azure-dl\"\r\n",
      "    },\r\n",
      "    \"spec\": {\r\n",
      "        \"ports\": [\r\n",
      "            {\r\n",
      "                \"port\": 80\r\n",
      "            }\r\n",
      "        ],\r\n",
      "        \"selector\": {\r\n",
      "            \"app\": \"azure-dl\"\r\n",
      "        },\r\n",
      "        \"type\": \"LoadBalancer\"\r\n",
      "    }\r\n",
      "}\r\n",
      "\r\n"
     ]
    }
   ],
   "source": [
    "!cat az-dl.json"
   ]
  },
  {
   "cell_type": "markdown",
   "metadata": {},
   "source": [
    "Next, we will use kubectl create command to deploy our application."
   ]
  },
  {
   "cell_type": "code",
   "execution_count": 20,
   "metadata": {},
   "outputs": [
    {
     "name": "stdout",
     "output_type": "stream",
     "text": [
      "deployment.apps/azure-dl created\n",
      "service/azure-dl created\n"
     ]
    }
   ],
   "source": [
    "!kubectl create -f az-dl.json"
   ]
  },
  {
   "cell_type": "markdown",
   "metadata": {},
   "source": [
    "Let's check if the pod is deployed. It may take as many as 10 minutes for the container to be ready."
   ]
  },
  {
   "cell_type": "code",
   "execution_count": 22,
   "metadata": {},
   "outputs": [
    {
     "name": "stdout",
     "output_type": "stream",
     "text": [
      "NAMESPACE     NAME                                    READY     STATUS    RESTARTS   AGE\r\n",
      "default       azure-dl-57cfdc6bb4-8fpwf               1/1       Running   0          8m\r\n",
      "kube-system   azureproxy-5fc9fc6976-b6kvl             1/1       Running   2          18m\r\n",
      "kube-system   heapster-56c6f9566f-vfkqj               2/2       Running   0          18m\r\n",
      "kube-system   kube-dns-v20-7c556f89c5-qxtxs           3/3       Running   0          18m\r\n",
      "kube-system   kube-dns-v20-7c556f89c5-zxrq2           3/3       Running   0          18m\r\n",
      "kube-system   kube-proxy-g2lzq                        1/1       Running   0          18m\r\n",
      "kube-system   kube-svc-redirect-b4njg                 1/1       Running   0          18m\r\n",
      "kube-system   kubernetes-dashboard-6c6d86c85c-sgs4w   1/1       Running   3          18m\r\n",
      "kube-system   tunnelfront-6667d47b7f-jtsdn            1/1       Running   0          18m\r\n"
     ]
    }
   ],
   "source": [
    "!kubectl get pods --all-namespaces"
   ]
  },
  {
   "cell_type": "markdown",
   "metadata": {},
   "source": [
    "If anything goes wrong you can use the commands below to observe the events on the node as well as review the logs."
   ]
  },
  {
   "cell_type": "code",
   "execution_count": 23,
   "metadata": {},
   "outputs": [
    {
     "name": "stdout",
     "output_type": "stream",
     "text": [
      "LAST SEEN   FIRST SEEN   COUNT     NAME                                         KIND         SUBOBJECT                   TYPE      REASON                    SOURCE                                 MESSAGE\r\n",
      "20m         20m          1         aks-nodepool1-99663626-0.1540603782692417    Node                                     Normal    Starting                  kubelet, aks-nodepool1-99663626-0      Starting kubelet.\r\n",
      "18m         20m          8         aks-nodepool1-99663626-0.15406037840ee1c8    Node                                     Normal    NodeHasSufficientDisk     kubelet, aks-nodepool1-99663626-0      Node aks-nodepool1-99663626-0 status is now: NodeHasSufficientDisk\r\n",
      "18m         20m          8         aks-nodepool1-99663626-0.15406037840f08d8    Node                                     Normal    NodeHasSufficientMemory   kubelet, aks-nodepool1-99663626-0      Node aks-nodepool1-99663626-0 status is now: NodeHasSufficientMemory\r\n",
      "19m         20m          7         aks-nodepool1-99663626-0.15406037840f2ad4    Node                                     Normal    NodeHasNoDiskPressure     kubelet, aks-nodepool1-99663626-0      Node aks-nodepool1-99663626-0 status is now: NodeHasNoDiskPressure\r\n",
      "20m         20m          1         aks-nodepool1-99663626-0.1540603784ea52fd    Node                                     Normal    NodeAllocatableEnforced   kubelet, aks-nodepool1-99663626-0      Updated Node Allocatable limit across pods\r\n",
      "18m         18m          1         aks-nodepool1-99663626-0.1540604d9053b474    Node                                     Normal    RegisteredNode            node-controller                        Node aks-nodepool1-99663626-0 event: Registered Node aks-nodepool1-99663626-0 in Controller\r\n",
      "17m         17m          1         aks-nodepool1-99663626-0.154060590da48d9b    Node                                     Normal    Starting                  kube-proxy, aks-nodepool1-99663626-0   Starting kube-proxy.\r\n",
      "8m          8m           1         azure-dl-57cfdc6bb4-8fpwf.154060d5db486aa1   Pod                                      Normal    Scheduled                 default-scheduler                      Successfully assigned azure-dl-57cfdc6bb4-8fpwf to aks-nodepool1-99663626-0\r\n",
      "8m          8m           1         azure-dl-57cfdc6bb4-8fpwf.154060d5e6d7e754   Pod                                      Normal    SuccessfulMountVolume     kubelet, aks-nodepool1-99663626-0      MountVolume.SetUp succeeded for volume \"nvidia\" \r\n",
      "8m          8m           1         azure-dl-57cfdc6bb4-8fpwf.154060d5ead46070   Pod                                      Normal    SuccessfulMountVolume     kubelet, aks-nodepool1-99663626-0      MountVolume.SetUp succeeded for volume \"default-token-zfgth\" \r\n",
      "8m          8m           1         azure-dl-57cfdc6bb4-8fpwf.154060d629235e0e   Pod          spec.containers{azure-dl}   Normal    Pulling                   kubelet, aks-nodepool1-99663626-0      pulling image \"mabouatmicrosoft/kerastf-gpu\"\r\n",
      "1m          1m           1         azure-dl-57cfdc6bb4-8fpwf.15406137dd66b90b   Pod          spec.containers{azure-dl}   Normal    Pulled                    kubelet, aks-nodepool1-99663626-0      Successfully pulled image \"mabouatmicrosoft/kerastf-gpu\"\r\n",
      "1m          1m           1         azure-dl-57cfdc6bb4-8fpwf.1540613bfb991bfd   Pod          spec.containers{azure-dl}   Normal    Created                   kubelet, aks-nodepool1-99663626-0      Created container\r\n",
      "1m          1m           1         azure-dl-57cfdc6bb4-8fpwf.1540613c0400ca1a   Pod          spec.containers{azure-dl}   Normal    Started                   kubelet, aks-nodepool1-99663626-0      Started container\r\n",
      "8m          8m           1         azure-dl-57cfdc6bb4.154060d5d9c976b8         ReplicaSet                               Normal    SuccessfulCreate          replicaset-controller                  Created pod: azure-dl-57cfdc6bb4-8fpwf\r\n",
      "8m          8m           1         azure-dl.154060d5d6539ecf                    Deployment                               Normal    ScalingReplicaSet         deployment-controller                  Scaled up replica set azure-dl-57cfdc6bb4 to 1\r\n",
      "8m          8m           1         azure-dl.154060d5dec26310                    Service                                  Normal    EnsuringLoadBalancer      service-controller                     Ensuring load balancer\r\n",
      "6m          6m           1         azure-dl.154060eeb10240cd                    Service                                  Normal    EnsuredLoadBalancer       service-controller                     Ensured load balancer\r\n"
     ]
    }
   ],
   "source": [
    "!kubectl get events"
   ]
  },
  {
   "cell_type": "markdown",
   "metadata": {},
   "source": [
    "Check the logs for the application pod."
   ]
  },
  {
   "cell_type": "code",
   "execution_count": 24,
   "metadata": {},
   "outputs": [],
   "source": [
    "pod_json = !kubectl get pods -o json\n",
    "pod_dict = json.loads(''.join(pod_json))"
   ]
  },
  {
   "cell_type": "code",
   "execution_count": 25,
   "metadata": {},
   "outputs": [
    {
     "name": "stdout",
     "output_type": "stream",
     "text": [
      "2018-07-11 17:39:43,751 CRIT Supervisor running as root (no user in config file)\r\n",
      "2018-07-11 17:39:43,752 INFO supervisord started with pid 1\r\n",
      "2018-07-11 17:39:44,755 INFO spawned: 'program_exit' with pid 9\r\n",
      "2018-07-11 17:39:44,756 INFO spawned: 'nginx' with pid 10\r\n",
      "2018-07-11 17:39:44,757 INFO spawned: 'gunicorn' with pid 11\r\n",
      "2018-07-11 17:39:45,783 INFO success: program_exit entered RUNNING state, process has stayed up for > than 1 seconds (startsecs)\r\n",
      "2018-07-11 17:39:45.934152: I tensorflow/core/platform/cpu_feature_guard.cc:137] Your CPU supports instructions that this TensorFlow binary was not compiled to use: SSE4.1 SSE4.2 AVX AVX2 FMA\r\n",
      "2018-07-11 17:39:46.073231: I tensorflow/core/common_runtime/gpu/gpu_device.cc:1030] Found device 0 with properties: \r\n",
      "name: Tesla K80 major: 3 minor: 7 memoryClockRate(GHz): 0.8235\r\n",
      "pciBusID: 2e67:00:00.0\r\n",
      "totalMemory: 11.17GiB freeMemory: 11.10GiB\r\n",
      "2018-07-11 17:39:46.073275: I tensorflow/core/common_runtime/gpu/gpu_device.cc:1120] Creating TensorFlow device (/device:GPU:0) -> (device: 0, name: Tesla K80, pci bus id: 2e67:00:00.0, compute capability: 3.7)\r\n",
      "2018-07-11 17:39:50,075 INFO success: nginx entered RUNNING state, process has stayed up for > than 5 seconds (startsecs)\r\n",
      "Downloading data from https://github.com/adamcasson/resnet152/releases/download/v0.1/resnet152_weights_tf.h5\r\n",
      "\r\n",
      "     8192/243179624 [..............................] - ETA: 50s\r\n",
      "   925696/243179624 [..............................] - ETA: 13s\r\n",
      "  3604480/243179624 [..............................] - ETA: 6s \r\n",
      "  6725632/243179624 [..............................] - ETA: 5s\r\n",
      "  9887744/243179624 [>.............................] - ETA: 4s\r\n",
      " 13148160/243179624 [>.............................] - ETA: 4s\r\n",
      " 16121856/243179624 [>.............................] - ETA: 4s\r\n",
      " 19447808/243179624 [=>............................] - ETA: 4s\r\n",
      " 22929408/243179624 [=>............................] - ETA: 3s\r\n",
      " 26533888/243179624 [==>...........................] - ETA: 3s\r\n",
      " 30285824/243179624 [==>...........................] - ETA: 3s\r\n",
      " 34160640/243179624 [===>..........................] - ETA: 3s\r\n",
      " 38182912/243179624 [===>..........................] - ETA: 3s\r\n",
      " 42287104/243179624 [====>.........................] - ETA: 3s\r\n",
      " 45858816/243179624 [====>.........................] - ETA: 3s\r\n",
      " 49602560/243179624 [=====>........................] - ETA: 2s\r\n",
      " 53895168/243179624 [=====>........................] - ETA: 2s\r\n",
      " 58318848/243179624 [======>.......................] - ETA: 2s\r\n",
      " 61890560/243179624 [======>.......................] - ETA: 2s\r\n",
      " 65019904/243179624 [=======>......................] - ETA: 2s\r\n",
      " 68206592/243179624 [=======>......................] - ETA: 2s\r\n",
      " 71483392/243179624 [=======>......................] - ETA: 2s\r\n",
      " 74964992/243179624 [========>.....................] - ETA: 2s\r\n",
      " 78618624/243179624 [========>.....................] - ETA: 2s\r\n",
      " 82362368/243179624 [=========>....................] - ETA: 2s\r\n",
      " 86245376/243179624 [=========>....................] - ETA: 2s\r\n",
      " 90071040/243179624 [==========>...................] - ETA: 2s\r\n",
      " 93626368/243179624 [==========>...................] - ETA: 2s\r\n",
      " 97681408/243179624 [===========>..................] - ETA: 2s\r\n",
      "101908480/243179624 [===========>..................] - ETA: 2s\r\n",
      "106274816/243179624 [============>.................] - ETA: 1s\r\n",
      "110673920/243179624 [============>.................] - ETA: 1s\r\n",
      "115310592/243179624 [=============>................] - ETA: 1s\r\n",
      "119996416/243179624 [=============>................] - ETA: 1s\r\n",
      "124805120/243179624 [==============>...............] - ETA: 1s\r\n",
      "129589248/243179624 [==============>...............] - ETA: 1s\r\n",
      "134553600/243179624 [===============>..............] - ETA: 1s\r\n",
      "139476992/243179624 [================>.............] - ETA: 1s\r\n",
      "144441344/243179624 [================>.............] - ETA: 1s\r\n",
      "149209088/243179624 [=================>............] - ETA: 1s\r\n",
      "154329088/243179624 [==================>...........] - ETA: 1s\r\n",
      "159358976/243179624 [==================>...........] - ETA: 1s\r\n",
      "164405248/243179624 [===================>..........] - ETA: 1s\r\n",
      "169885696/243179624 [===================>..........] - ETA: 0s\r\n",
      "175472640/243179624 [====================>.........] - ETA: 0s\r\n",
      "180232192/243179624 [=====================>........] - ETA: 0s\r\n",
      "185917440/243179624 [=====================>........] - ETA: 0s\r\n",
      "191471616/243179624 [======================>.......] - ETA: 0s\r\n",
      "193847296/243179624 [======================>.......] - ETA: 0s\r\n",
      "198778880/243179624 [=======================>......] - ETA: 0s\r\n",
      "203481088/243179624 [========================>.....] - ETA: 0s\r\n",
      "209461248/243179624 [========================>.....] - ETA: 0s\r\n",
      "215072768/243179624 [=========================>....] - ETA: 0s\r\n",
      "221421568/243179624 [==========================>...] - ETA: 0s\r\n",
      "227639296/243179624 [===========================>..] - ETA: 0s\r\n",
      "233996288/243179624 [===========================>..] - ETA: 0s\r\n",
      "240345088/243179624 [============================>.] - ETA: 0s\r\n",
      "243187712/243179624 [==============================] - 3s 0us/step\r\n",
      "2018-07-11 17:40:05,628 INFO success: gunicorn entered RUNNING state, process has stayed up for > than 20 seconds (startsecs)\r\n",
      "{\"tags\": [], \"timestamp\": \"2018-07-11T17:40:11.117307Z\", \"message\": \"Model loading time: 25214.44 ms\", \"stack_info\": null, \"path\": \"/code/driver.py\", \"level\": \"INFO\", \"host\": \"azure-dl-57cfdc6bb4-8fpwf\", \"logger\": \"model_driver\"}\r\n",
      "Initialising\r\n",
      "{\"tags\": [], \"timestamp\": \"2018-07-11T17:40:11.121988Z\", \"message\": \" * Running on http://127.0.0.1:5000/ (Press CTRL+C to quit)\", \"stack_info\": null, \"path\": \"/opt/conda/envs/py3.5/lib/python3.5/site-packages/werkzeug/_internal.py\", \"level\": \"INFO\", \"host\": \"azure-dl-57cfdc6bb4-8fpwf\", \"msg\": \" * Running on %s://%s:%d/ %s\", \"logger\": \"werkzeug\"}\r\n"
     ]
    }
   ],
   "source": [
    "!kubectl logs {pod_dict['items'][0]['metadata']['name']}"
   ]
  },
  {
   "cell_type": "code",
   "execution_count": 26,
   "metadata": {},
   "outputs": [
    {
     "name": "stdout",
     "output_type": "stream",
     "text": [
      "NAME       DESIRED   CURRENT   UP-TO-DATE   AVAILABLE   AGE\r\n",
      "azure-dl   1         1         1            1           9m\r\n"
     ]
    }
   ],
   "source": [
    "!kubectl get deployment"
   ]
  },
  {
   "cell_type": "markdown",
   "metadata": {},
   "source": [
    "It can take a few minutes for the service to populate the EXTERNAL-IP field below. This will be the IP you use to call the service. You can also specify an IP to use, please see the AKS documentation for further details."
   ]
  },
  {
   "cell_type": "code",
   "execution_count": 27,
   "metadata": {},
   "outputs": [
    {
     "name": "stdout",
     "output_type": "stream",
     "text": [
      "NAME       TYPE           CLUSTER-IP     EXTERNAL-IP      PORT(S)        AGE\r\n",
      "azure-dl   LoadBalancer   10.0.213.103   137.117.35.216   80:31203/TCP   9m\r\n"
     ]
    }
   ],
   "source": [
    "!kubectl get service azure-dl"
   ]
  },
  {
   "cell_type": "markdown",
   "metadata": {},
   "source": [
    "Next, we will [test our web application deployed on AKS](05_TestWebApp.ipynb). Once, we are done with all the notebooks of the tutorial, below instructions can be used to delete the cluster and free resources."
   ]
  },
  {
   "cell_type": "markdown",
   "metadata": {},
   "source": [
    "# Tear it all down"
   ]
  },
  {
   "cell_type": "markdown",
   "metadata": {},
   "source": [
    "Once you are done with your cluster you can use the following two commands to destroy it all."
   ]
  },
  {
   "cell_type": "code",
   "execution_count": 2,
   "metadata": {},
   "outputs": [
    {
     "name": "stdout",
     "output_type": "stream",
     "text": [
      "deployment.apps \"azure-dl\" deleted\n",
      "service \"azure-dl\" deleted\n"
     ]
    }
   ],
   "source": [
    "!kubectl delete -f az-dl.json"
   ]
  },
  {
   "cell_type": "code",
   "execution_count": 3,
   "metadata": {},
   "outputs": [
    {
     "name": "stdout",
     "output_type": "stream",
     "text": [
      "\u001b[K\u001b[0minished .."
     ]
    }
   ],
   "source": [
    "!az aks delete -n $aks_name -g $resource_group -y"
   ]
  },
  {
   "cell_type": "code",
   "execution_count": 4,
   "metadata": {},
   "outputs": [
    {
     "name": "stdout",
     "output_type": "stream",
     "text": [
      "\u001b[K\u001b[0minished .."
     ]
    }
   ],
   "source": [
    "!az group delete --name $resource_group -y"
   ]
  },
  {
   "cell_type": "code",
   "execution_count": null,
   "metadata": {},
   "outputs": [],
   "source": []
  }
 ],
 "metadata": {
  "kernelspec": {
   "display_name": "Python [conda env:AksDeployment]",
   "language": "python",
   "name": "conda-env-AksDeployment-py"
  },
  "language_info": {
   "codemirror_mode": {
    "name": "ipython",
    "version": 3
   },
   "file_extension": ".py",
   "mimetype": "text/x-python",
   "name": "python",
   "nbconvert_exporter": "python",
   "pygments_lexer": "ipython3",
   "version": "3.5.5"
  }
 },
 "nbformat": 4,
 "nbformat_minor": 2
}
