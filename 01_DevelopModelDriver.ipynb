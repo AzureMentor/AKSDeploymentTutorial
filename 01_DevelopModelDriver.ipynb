{
 "cells": [
  {
   "cell_type": "markdown",
   "metadata": {},
   "source": [
    "# Develop Model Driver"
   ]
  },
  {
   "cell_type": "markdown",
   "metadata": {},
   "source": [
    "In this notebook, we will develop the API that will call our model. This module initializes the model, transforms the input so that it is in the appropriate format and defines the scoring method that will produce the predictions."
   ]
  },
  {
   "cell_type": "code",
   "execution_count": 1,
   "metadata": {},
   "outputs": [
    {
     "name": "stderr",
     "output_type": "stream",
     "text": [
      "Using TensorFlow backend.\n"
     ]
    }
   ],
   "source": [
    "from resnet152 import ResNet152\n",
    "from keras.preprocessing import image\n",
    "from keras.applications.imagenet_utils import preprocess_input, decode_predictions\n",
    "\n",
    "import numpy as np\n",
    "import timeit as t\n",
    "import base64\n",
    "import json\n",
    "from PIL import Image\n",
    "from PIL import ImageOps\n",
    "from io import BytesIO\n",
    "import logging"
   ]
  },
  {
   "cell_type": "markdown",
   "metadata": {},
   "source": [
    "Here, we develop the functions that will go into the module. Let's first load the model and define the number of top predictions to return."
   ]
  },
  {
   "cell_type": "code",
   "execution_count": 2,
   "metadata": {},
   "outputs": [
    {
     "name": "stdout",
     "output_type": "stream",
     "text": [
      "CPU times: user 16.2 s, sys: 905 ms, total: 17.1 s\n",
      "Wall time: 16.8 s\n"
     ]
    }
   ],
   "source": [
    "%%time\n",
    "model = ResNet152(weights='imagenet')"
   ]
  },
  {
   "cell_type": "code",
   "execution_count": 3,
   "metadata": {
    "collapsed": true
   },
   "outputs": [],
   "source": [
    "number_results = 3"
   ]
  },
  {
   "cell_type": "markdown",
   "metadata": {},
   "source": [
    "The API will expect the input to be in JSON format. Below we define the function to convert the image to json using the image path as key and the value as image encoded as a base64 string ."
   ]
  },
  {
   "cell_type": "code",
   "execution_count": 4,
   "metadata": {
    "collapsed": true
   },
   "outputs": [],
   "source": [
    "def img_to_json(img_path):\n",
    "    with open(img_path, 'rb') as file:\n",
    "        encoded = base64.b64encode(file.read())\n",
    "    img_dict = {img_path: encoded.decode('utf-8')}\n",
    "    body = json.dumps(img_dict)\n",
    "    return body"
   ]
  },
  {
   "cell_type": "code",
   "execution_count": 5,
   "metadata": {
    "collapsed": true
   },
   "outputs": [],
   "source": [
    "img_path = '220px-Lynx_lynx_poing.jpg'\n",
    "body = img_to_json(img_path)"
   ]
  },
  {
   "cell_type": "markdown",
   "metadata": {},
   "source": [
    "Once  a request is received by the API, we will convert the json encoded request body into the image format."
   ]
  },
  {
   "cell_type": "code",
   "execution_count": 6,
   "metadata": {
    "collapsed": true
   },
   "outputs": [],
   "source": [
    "base64Dict = json.loads(body) \n",
    "for k, v in base64Dict.items():\n",
    "    img_file_name, base64Img = k, v \n",
    "decoded_img = base64.b64decode(base64Img)\n",
    "img_buffer = BytesIO(decoded_img)\n",
    "imageData = Image.open(img_buffer).convert(\"RGB\")"
   ]
  },
  {
   "cell_type": "markdown",
   "metadata": {},
   "source": [
    "We will then preprocess the image and score it using the model."
   ]
  },
  {
   "cell_type": "code",
   "execution_count": 7,
   "metadata": {},
   "outputs": [
    {
     "data": {
      "text/plain": [
       "{'220px-Lynx_lynx_poing.jpg': [('n02127052', 'lynx', 0.98164833),\n",
       "  ('n02128385', 'leopard', 0.0077441484),\n",
       "  ('n02123159', 'tiger_cat', 0.0036861449)]}"
      ]
     },
     "execution_count": 7,
     "metadata": {},
     "output_type": "execute_result"
    }
   ],
   "source": [
    "img = ImageOps.fit(imageData, (224, 224), Image.ANTIALIAS)\n",
    "img = image.img_to_array(img)\n",
    "img = np.expand_dims(img, axis=0)\n",
    "img = preprocess_input(img)\n",
    "preds = model.predict(img)\n",
    "preds = decode_predictions(preds, top=number_results)[0]\n",
    "resp = {img_path: preds}\n",
    "resp"
   ]
  },
  {
   "cell_type": "code",
   "execution_count": 12,
   "metadata": {
    "collapsed": true
   },
   "outputs": [],
   "source": [
    "def create_scoring_func():\n",
    "    \"\"\" Initialize ResNet 152 Model \n",
    "    \"\"\"   \n",
    "    print(\"Executing create_scoring_func() method...\")\n",
    "    number_results = 3    \n",
    "    logger = logging.getLogger(\"model_driver\")\n",
    "\n",
    "    start = t.default_timer()\n",
    "    model = ResNet152(weights='imagenet')\n",
    "    end = t.default_timer()\n",
    "    \n",
    "    loadTimeMsg = \"Model loading time: {0} ms\".format(round((end-start)*1000, 2))\n",
    "    logger.info(loadTimeMsg)\n",
    "    \n",
    "    print(\"Model loading time: {0} ms\".format(round((end-start)*1000, 2)))\n",
    "    \n",
    "    def call_model(img_array):\n",
    "        img_array = np.expand_dims(img_array, axis=0)\n",
    "        img_array = preprocess_input(img_array)\n",
    "        preds = model.predict(img_array)\n",
    "        preds = decode_predictions(preds, top=number_results)[0]       \n",
    "        return preds\n",
    "    \n",
    "    return call_model"
   ]
  },
  {
   "cell_type": "code",
   "execution_count": 9,
   "metadata": {
    "collapsed": true
   },
   "outputs": [],
   "source": [
    "def get_model_api():\n",
    "    logger = logging.getLogger(\"model_driver\")\n",
    "    scoring_func = create_scoring_func()\n",
    "    \n",
    "    def process_and_score(inputString):\n",
    "        \"\"\" Classify the input using the loaded model\n",
    "        \"\"\"\n",
    "        start = t.default_timer()\n",
    "\n",
    "        responses = []\n",
    "        base64Dict = json.loads(inputString) \n",
    "        for k, v in base64Dict.items():\n",
    "            img_file_name, base64Img = k, v \n",
    "        decoded_img = base64.b64decode(base64Img)\n",
    "        img_buffer = BytesIO(decoded_img)\n",
    "        imageData = Image.open(img_buffer).convert(\"RGB\")\n",
    "        img = ImageOps.fit(imageData, (224, 224), Image.ANTIALIAS)\n",
    "        img_array = image.img_to_array(img)\n",
    "        preds = scoring_func(img_array)\n",
    "        resp = {img_file_name: preds}\n",
    "        responses.append(resp)\n",
    "\n",
    "        end = t.default_timer()\n",
    "        \n",
    "        logger.info(\"Predictions: {0}\".format(responses))\n",
    "        logger.info(\"Predictions took {0} ms\".format(round((end-start)*1000, 2)))\n",
    "        return (responses, \"Computed in {0} ms\".format(round((end-start)*1000, 2)))\n",
    "    return process_and_score"
   ]
  },
  {
   "cell_type": "markdown",
   "metadata": {},
   "source": [
    "Let's test our methods using the same Lynx image."
   ]
  },
  {
   "cell_type": "code",
   "execution_count": 13,
   "metadata": {
    "collapsed": true
   },
   "outputs": [],
   "source": [
    "logging.basicConfig(level=logging.DEBUG)"
   ]
  },
  {
   "cell_type": "code",
   "execution_count": 14,
   "metadata": {},
   "outputs": [
    {
     "name": "stdout",
     "output_type": "stream",
     "text": [
      "Executing create_scoring_func() method...\n"
     ]
    },
    {
     "name": "stderr",
     "output_type": "stream",
     "text": [
      "INFO:model_driver:Model loading time: 17247.84 ms\n"
     ]
    },
    {
     "name": "stdout",
     "output_type": "stream",
     "text": [
      "Model loading time: 17247.84 ms\n"
     ]
    },
    {
     "name": "stderr",
     "output_type": "stream",
     "text": [
      "INFO:model_driver:Predictions: [{'220px-Lynx_lynx_poing.jpg': [('n02127052', 'lynx', 0.98164833), ('n02128385', 'leopard', 0.0077441484), ('n02123159', 'tiger_cat', 0.0036861449)]}]\n",
      "INFO:model_driver:Predictions took 2170.73 ms\n"
     ]
    },
    {
     "name": "stdout",
     "output_type": "stream",
     "text": [
      "([{'220px-Lynx_lynx_poing.jpg': [('n02127052', 'lynx', 0.98164833), ('n02128385', 'leopard', 0.0077441484), ('n02123159', 'tiger_cat', 0.0036861449)]}], 'Computed in 2170.73 ms')\n"
     ]
    }
   ],
   "source": [
    "predict_for = get_model_api()\n",
    "img_path = '220px-Lynx_lynx_poing.jpg'\n",
    "body = img_to_json(img_path)\n",
    "resp = predict_for(body)\n",
    "print(resp)"
   ]
  },
  {
   "cell_type": "markdown",
   "metadata": {},
   "source": [
    "We use the writefile magic to write the contents of the below cell which includes the driver methods we developed earlier to the file driver.py."
   ]
  },
  {
   "cell_type": "code",
   "execution_count": 4,
   "metadata": {},
   "outputs": [
    {
     "name": "stdout",
     "output_type": "stream",
     "text": [
      "Overwriting driver.py\n"
     ]
    }
   ],
   "source": [
    "%%writefile driver.py\n",
    "\n",
    "import tensorflow as tf\n",
    "from resnet152 import ResNet152\n",
    "from keras.preprocessing import image\n",
    "from keras.applications.imagenet_utils import preprocess_input, decode_predictions\n",
    "\n",
    "import numpy as np\n",
    "import timeit as t\n",
    "import base64\n",
    "import json\n",
    "from PIL import Image, ImageOps\n",
    "from io import BytesIO\n",
    "import logging\n",
    "\n",
    "number_results = 3\n",
    "logger = logging.getLogger(\"model_driver\")\n",
    "\n",
    "def img_to_json(img_path):\n",
    "    with open(img_path, 'rb') as file:\n",
    "        encoded = base64.b64encode(file.read())\n",
    "    img_dict = {img_path: encoded.decode('utf-8')}\n",
    "    body = json.dumps(img_dict)\n",
    "    return body\n",
    "\n",
    "def create_scoring_func():\n",
    "    \"\"\" Initialize ResNet 152 Model \n",
    "    \"\"\"   \n",
    "    print(\"Executing create_scoring_func() method...\")\n",
    "    \n",
    "    start = t.default_timer()\n",
    "    model = ResNet152(weights='imagenet')\n",
    "    end = t.default_timer()\n",
    "    \n",
    "    loadTimeMsg = \"Model loading time: {0} ms\".format(round((end-start)*1000, 2))\n",
    "    logger.info(loadTimeMsg)\n",
    "    \n",
    "    print(\"Model loading time: {0} ms\".format(round((end-start)*1000, 2)))\n",
    "    \n",
    "    def call_model(img_array):\n",
    "        img_array = np.expand_dims(img_array, axis=0)\n",
    "        img_array = preprocess_input(img_array)\n",
    "        preds = model.predict(img_array)\n",
    "        preds = decode_predictions(preds, top=number_results)[0]       \n",
    "        return preds\n",
    "    \n",
    "    return call_model       \n",
    "\n",
    "def get_model_api():\n",
    "    logger = logging.getLogger(\"model_driver\")\n",
    "    scoring_func = create_scoring_func()\n",
    "    \n",
    "    def process_and_score(inputString):\n",
    "        \"\"\" Classify the input using the loaded model\n",
    "        \"\"\"\n",
    "        print(\"Executing process_and_score() method...\")\n",
    "        \n",
    "        start = t.default_timer()\n",
    "\n",
    "        responses = []\n",
    "        base64Dict = json.loads(inputString) \n",
    "        for k, v in base64Dict.items():\n",
    "            img_file_name, base64Img = k, v \n",
    "        decoded_img = base64.b64decode(base64Img)\n",
    "        img_buffer = BytesIO(decoded_img)\n",
    "        imageData = Image.open(img_buffer).convert(\"RGB\")\n",
    "        img = ImageOps.fit(imageData, (224, 224), Image.ANTIALIAS)\n",
    "        img_array = image.img_to_array(img)\n",
    "        preds = scoring_func(img_array)\n",
    "        resp = {img_file_name: preds}\n",
    "        responses.append(resp)\n",
    "\n",
    "        end = t.default_timer()\n",
    "        \n",
    "        logger.info(\"Predictions: {0}\".format(responses))\n",
    "        logger.info(\"Predictions took {0} ms\".format(round((end-start)*1000, 2)))\n",
    "        return (responses, \"Predictions took {0} ms\".format(round((end-start)*1000, 2)))\n",
    "    return process_and_score\n",
    "\n",
    "def version():\n",
    "    return tf.__version__\n",
    "\n",
    "if __name__ == \"__main__\":  \n",
    "    predict_for = get_model_api()\n",
    "    img_path = '220px-Lynx_lynx_poing.jpg'\n",
    "    body = img_to_json(img_path)\n",
    "    resp = predict_for(body)\n",
    "    print(resp)"
   ]
  },
  {
   "cell_type": "markdown",
   "metadata": {},
   "source": [
    "Let's test the module."
   ]
  },
  {
   "cell_type": "code",
   "execution_count": 19,
   "metadata": {},
   "outputs": [
    {
     "name": "stdout",
     "output_type": "stream",
     "text": [
      "Executing create_scoring_func() method...\n"
     ]
    },
    {
     "name": "stderr",
     "output_type": "stream",
     "text": [
      "INFO:model_driver:Model loading time: 18125.59 ms\n"
     ]
    },
    {
     "name": "stdout",
     "output_type": "stream",
     "text": [
      "Model loading time: 18125.59 ms\n",
      "Executing process_and_score() method...\n"
     ]
    },
    {
     "name": "stderr",
     "output_type": "stream",
     "text": [
      "INFO:model_driver:Predictions: [{'220px-Lynx_lynx_poing.jpg': [('n02127052', 'lynx', 0.98164833), ('n02128385', 'leopard', 0.0077441484), ('n02123159', 'tiger_cat', 0.0036861449)]}]\n",
      "INFO:model_driver:Predictions took 2477.19 ms\n"
     ]
    },
    {
     "name": "stdout",
     "output_type": "stream",
     "text": [
      "([{'220px-Lynx_lynx_poing.jpg': [('n02127052', 'lynx', 0.98164833), ('n02128385', 'leopard', 0.0077441484), ('n02123159', 'tiger_cat', 0.0036861449)]}], 'Predictions took 2477.19 ms')\n"
     ]
    }
   ],
   "source": [
    "%run driver.py"
   ]
  }
 ],
 "metadata": {
  "kernelspec": {
   "display_name": "Python [conda env:py35]",
   "language": "python",
   "name": "conda-env-py35-py"
  },
  "language_info": {
   "codemirror_mode": {
    "name": "ipython",
    "version": 3
   },
   "file_extension": ".py",
   "mimetype": "text/x-python",
   "name": "python",
   "nbconvert_exporter": "python",
   "pygments_lexer": "ipython3",
   "version": "3.5.2"
  }
 },
 "nbformat": 4,
 "nbformat_minor": 2
}
