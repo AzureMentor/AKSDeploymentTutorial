{
 "cells": [
  {
   "cell_type": "markdown",
   "metadata": {},
   "source": [
    "# Deploy Web App on Azure Container Services (AKS)\n"
   ]
  },
  {
   "cell_type": "code",
   "execution_count": 35,
   "metadata": {
    "collapsed": true
   },
   "outputs": [],
   "source": [
    "resource_group = \"fbaksrg\" # Feel free to modify these\n",
    "location = \"eastus\"\n",
    "\n",
    "image_name = \"fboylu/tfkeras\" \n",
    "selected_subscription = \"'Team Danielle Internal'\"\n",
    "cluster_name = \"fbAKSCluster\""
   ]
  },
  {
   "cell_type": "code",
   "execution_count": 2,
   "metadata": {},
   "outputs": [
    {
     "name": "stdout",
     "output_type": "stream",
     "text": [
      "\u001b[33mTo sign in, use a web browser to open the page https://microsoft.com/devicelogin and enter the code FD9TULRUB to authenticate.\u001b[0m\n",
      "CloudName    Name                           State    TenantId                              IsDefault\n",
      "-----------  -----------------------------  -------  ------------------------------------  -----------\n",
      "AzureCloud   Boston DS Dev                  Enabled  72f988bf-86f1-41af-91ab-2d7cd011db47\n",
      "AzureCloud   Internal Consumption           Enabled  72f988bf-86f1-41af-91ab-2d7cd011db47\n",
      "AzureCloud   Team Danielle Internal         Enabled  72f988bf-86f1-41af-91ab-2d7cd011db47  True\n",
      "AzureCloud   Boston Engineering             Enabled  72f988bf-86f1-41af-91ab-2d7cd011db47\n",
      "AzureCloud   ADLTrainingMS                  Enabled  72f988bf-86f1-41af-91ab-2d7cd011db47\n",
      "AzureCloud   Ads Eng Big Data Subscription  Enabled  72f988bf-86f1-41af-91ab-2d7cd011db47\n",
      "AzureCloud   Data Wrangling Preview         Enabled  72f988bf-86f1-41af-91ab-2d7cd011db47\n",
      "AzureCloud   Data Wrangling development     Enabled  72f988bf-86f1-41af-91ab-2d7cd011db47\n",
      "AzureCloud   AzureML Client PROD            Enabled  72f988bf-86f1-41af-91ab-2d7cd011db47\n",
      "AzureCloud   R portal - Production          Enabled  72f988bf-86f1-41af-91ab-2d7cd011db47\n",
      "AzureCloud   Solution Template Testing      Enabled  72f988bf-86f1-41af-91ab-2d7cd011db47\n",
      "AzureCloud   Team Ilan                      Enabled  72f988bf-86f1-41af-91ab-2d7cd011db47\n"
     ]
    }
   ],
   "source": [
    "!az login -o table"
   ]
  },
  {
   "cell_type": "code",
   "execution_count": 4,
   "metadata": {
    "collapsed": true
   },
   "outputs": [],
   "source": [
    "!az account set --subscription $selected_subscription"
   ]
  },
  {
   "cell_type": "code",
   "execution_count": 3,
   "metadata": {},
   "outputs": [
    {
     "name": "stdout",
     "output_type": "stream",
     "text": [
      "{\r\n",
      "  \"environmentName\": \"AzureCloud\",\r\n",
      "  \"id\": \"edf507a2-6235-46c5-b560-fd463ba2e771\",\r\n",
      "  \"isDefault\": true,\r\n",
      "  \"name\": \"Team Danielle Internal\",\r\n",
      "  \"state\": \"Enabled\",\r\n",
      "  \"tenantId\": \"72f988bf-86f1-41af-91ab-2d7cd011db47\",\r\n",
      "  \"user\": {\r\n",
      "    \"name\": \"fboylu@microsoft.com\",\r\n",
      "    \"type\": \"user\"\r\n",
      "  }\r\n",
      "}\r\n"
     ]
    }
   ],
   "source": [
    "!az account show"
   ]
  },
  {
   "cell_type": "code",
   "execution_count": 5,
   "metadata": {},
   "outputs": [
    {
     "name": "stdout",
     "output_type": "stream",
     "text": [
      "\u001b[33mRegistering is still on-going. You can monitor using 'az provider show -n Microsoft.ContainerService'\u001b[0m\r\n"
     ]
    }
   ],
   "source": [
    "!az provider register -n Microsoft.ContainerService"
   ]
  },
  {
   "cell_type": "code",
   "execution_count": 6,
   "metadata": {},
   "outputs": [
    {
     "name": "stdout",
     "output_type": "stream",
     "text": [
      "{\r\n",
      "  \"additionalProperties\": {\r\n",
      "    \"authorization\": {\r\n",
      "      \"applicationId\": \"7319c514-987d-4e9b-ac3d-d38c4f427f4c\",\r\n",
      "      \"managedByRoleDefinitionId\": \"8e3af657-a8ff-443c-a75c-2fe8c4bcb635\",\r\n",
      "      \"roleDefinitionId\": \"1b4a0c7f-2217-416f-acfa-cf73452fdc1c\"\r\n",
      "    }\r\n",
      "  },\r\n",
      "  \"id\": \"/subscriptions/edf507a2-6235-46c5-b560-fd463ba2e771/providers/Microsoft.ContainerService\",\r\n",
      "  \"namespace\": \"Microsoft.ContainerService\",\r\n",
      "  \"registrationState\": \"Registered\",\r\n",
      "  \"resourceTypes\": [\r\n",
      "    {\r\n",
      "      \"additionalProperties\": {\r\n",
      "        \"capabilities\": \"None\"\r\n",
      "      },\r\n",
      "      \"aliases\": null,\r\n",
      "      \"apiVersions\": [\r\n",
      "        \"2017-07-01\",\r\n",
      "        \"2017-01-31\",\r\n",
      "        \"2016-09-30\",\r\n",
      "        \"2016-03-30\"\r\n",
      "      ],\r\n",
      "      \"locations\": [\r\n",
      "        \"Japan East\",\r\n",
      "        \"Central US\",\r\n",
      "        \"East US 2\",\r\n",
      "        \"Japan West\",\r\n",
      "        \"East Asia\",\r\n",
      "        \"South Central US\",\r\n",
      "        \"Australia East\",\r\n",
      "        \"Australia Southeast\",\r\n",
      "        \"Brazil South\",\r\n",
      "        \"Southeast Asia\",\r\n",
      "        \"West US\",\r\n",
      "        \"North Central US\",\r\n",
      "        \"West Europe\",\r\n",
      "        \"North Europe\",\r\n",
      "        \"East US\",\r\n",
      "        \"UK West\",\r\n",
      "        \"UK South\",\r\n",
      "        \"West Central US\",\r\n",
      "        \"West US 2\",\r\n",
      "        \"South India\",\r\n",
      "        \"Central India\",\r\n",
      "        \"West India\",\r\n",
      "        \"Canada East\",\r\n",
      "        \"Canada Central\",\r\n",
      "        \"Korea South\",\r\n",
      "        \"Korea Central\"\r\n",
      "      ],\r\n",
      "      \"properties\": null,\r\n",
      "      \"resourceType\": \"containerServices\"\r\n",
      "    },\r\n",
      "    {\r\n",
      "      \"additionalProperties\": {\r\n",
      "        \"capabilities\": \"None\"\r\n",
      "      },\r\n",
      "      \"aliases\": null,\r\n",
      "      \"apiVersions\": [\r\n",
      "        \"2017-08-31\"\r\n",
      "      ],\r\n",
      "      \"locations\": [\r\n",
      "        \"East US\",\r\n",
      "        \"West Europe\",\r\n",
      "        \"Central US\",\r\n",
      "        \"Canada Central\",\r\n",
      "        \"Canada East\"\r\n",
      "      ],\r\n",
      "      \"properties\": null,\r\n",
      "      \"resourceType\": \"managedClusters\"\r\n",
      "    },\r\n",
      "    {\r\n",
      "      \"aliases\": null,\r\n",
      "      \"apiVersions\": [\r\n",
      "        \"2017-08-31\",\r\n",
      "        \"2017-01-31\",\r\n",
      "        \"2016-09-30\",\r\n",
      "        \"2016-03-30\",\r\n",
      "        \"2015-11-01-preview\"\r\n",
      "      ],\r\n",
      "      \"locations\": [],\r\n",
      "      \"properties\": null,\r\n",
      "      \"resourceType\": \"locations\"\r\n",
      "    },\r\n",
      "    {\r\n",
      "      \"aliases\": null,\r\n",
      "      \"apiVersions\": [\r\n",
      "        \"2017-08-31\",\r\n",
      "        \"2016-03-30\"\r\n",
      "      ],\r\n",
      "      \"locations\": [\r\n",
      "        \"East US\",\r\n",
      "        \"West Europe\",\r\n",
      "        \"Central US\",\r\n",
      "        \"UK West\",\r\n",
      "        \"UK South\",\r\n",
      "        \"West Central US\",\r\n",
      "        \"West US 2\",\r\n",
      "        \"South India\",\r\n",
      "        \"Central India\",\r\n",
      "        \"West India\",\r\n",
      "        \"Canada East\",\r\n",
      "        \"Canada Central\",\r\n",
      "        \"Korea South\",\r\n",
      "        \"Korea Central\"\r\n",
      "      ],\r\n",
      "      \"properties\": null,\r\n",
      "      \"resourceType\": \"locations/operationresults\"\r\n",
      "    },\r\n",
      "    {\r\n",
      "      \"aliases\": null,\r\n",
      "      \"apiVersions\": [\r\n",
      "        \"2017-07-01\",\r\n",
      "        \"2017-01-31\",\r\n",
      "        \"2016-09-30\",\r\n",
      "        \"2016-03-30\"\r\n",
      "      ],\r\n",
      "      \"locations\": [\r\n",
      "        \"Japan East\",\r\n",
      "        \"Central US\",\r\n",
      "        \"East US 2\",\r\n",
      "        \"Japan West\",\r\n",
      "        \"East Asia\",\r\n",
      "        \"South Central US\",\r\n",
      "        \"Australia East\",\r\n",
      "        \"Australia Southeast\",\r\n",
      "        \"Brazil South\",\r\n",
      "        \"Southeast Asia\",\r\n",
      "        \"West US\",\r\n",
      "        \"North Central US\",\r\n",
      "        \"West Europe\",\r\n",
      "        \"North Europe\",\r\n",
      "        \"East US\",\r\n",
      "        \"UK West\",\r\n",
      "        \"UK South\",\r\n",
      "        \"West Central US\",\r\n",
      "        \"West US 2\",\r\n",
      "        \"South India\",\r\n",
      "        \"Central India\",\r\n",
      "        \"West India\",\r\n",
      "        \"Canada East\",\r\n",
      "        \"Canada Central\",\r\n",
      "        \"Korea South\",\r\n",
      "        \"Korea Central\"\r\n",
      "      ],\r\n",
      "      \"properties\": null,\r\n",
      "      \"resourceType\": \"locations/operations\"\r\n",
      "    },\r\n",
      "    {\r\n",
      "      \"aliases\": null,\r\n",
      "      \"apiVersions\": [\r\n",
      "        \"2017-07-01\",\r\n",
      "        \"2017-01-31\",\r\n",
      "        \"2016-09-30\",\r\n",
      "        \"2016-03-30\",\r\n",
      "        \"2015-11-01-preview\"\r\n",
      "      ],\r\n",
      "      \"locations\": [],\r\n",
      "      \"properties\": null,\r\n",
      "      \"resourceType\": \"operations\"\r\n",
      "    },\r\n",
      "    {\r\n",
      "      \"aliases\": null,\r\n",
      "      \"apiVersions\": [\r\n",
      "        \"2017-09-30\"\r\n",
      "      ],\r\n",
      "      \"locations\": [\r\n",
      "        \"UK West\",\r\n",
      "        \"West US 2\",\r\n",
      "        \"East US\",\r\n",
      "        \"West Europe\",\r\n",
      "        \"Central US\"\r\n",
      "      ],\r\n",
      "      \"properties\": null,\r\n",
      "      \"resourceType\": \"locations/orchestrators\"\r\n",
      "    }\r\n",
      "  ]\r\n",
      "}\r\n"
     ]
    }
   ],
   "source": [
    "!az provider show -n Microsoft.ContainerService"
   ]
  },
  {
   "cell_type": "code",
   "execution_count": 10,
   "metadata": {},
   "outputs": [
    {
     "name": "stdout",
     "output_type": "stream",
     "text": [
      "{\r\n",
      "  \"id\": \"/subscriptions/edf507a2-6235-46c5-b560-fd463ba2e771/resourceGroups/fbaksrg\",\r\n",
      "  \"location\": \"eastus\",\r\n",
      "  \"managedBy\": null,\r\n",
      "  \"name\": \"fbaksrg\",\r\n",
      "  \"properties\": {\r\n",
      "    \"provisioningState\": \"Succeeded\"\r\n",
      "  },\r\n",
      "  \"tags\": null\r\n",
      "}\r\n"
     ]
    }
   ],
   "source": [
    "!az group create --name $resource_group --location $location"
   ]
  },
  {
   "cell_type": "code",
   "execution_count": 9,
   "metadata": {},
   "outputs": [
    {
     "name": "stdout",
     "output_type": "stream",
     "text": [
      "\u001b[33mSSH key files '/home/fboylu/.ssh/id_rsa' and '/home/fboylu/.ssh/id_rsa.pub' have been generated under ~/.ssh to allow SSH access to the VM. If using machines without permanent storage like Azure Cloud Shell without an attached file share, back up your keys to a safe location\u001b[0m\n",
      "Waiting for AAD role to propagate[################################    ]  90.0000%%\u001b[33mCould not create a service principal with the right permissions. Are you an Owner on this project?\u001b[0m\n",
      "^CK - Running ...\n",
      "\u001b[K\u001b[31mLong-running operation wait cancelled.  \u001b[0m\n"
     ]
    }
   ],
   "source": [
    "%%time\n",
    "!az aks create --resource-group $resource_group --name $cluster_name --node-count 1 --generate-ssh-keys -s Standard_NC6"
   ]
  },
  {
   "cell_type": "code",
   "execution_count": 12,
   "metadata": {},
   "outputs": [
    {
     "name": "stdout",
     "output_type": "stream",
     "text": [
      "\u001b[33mDownloading client to /usr/local/bin/kubectl from https://storage.googleapis.com/kubernetes-release/release/v1.9.6/bin/linux/amd64/kubectl\u001b[0m\r\n"
     ]
    }
   ],
   "source": [
    "!sudo az aks install-cli"
   ]
  },
  {
   "cell_type": "code",
   "execution_count": 15,
   "metadata": {},
   "outputs": [
    {
     "name": "stdout",
     "output_type": "stream",
     "text": [
      "Merged \"fbAKSCluster\" as current context in /home/fboylu/.kube/config\r\n"
     ]
    }
   ],
   "source": [
    "!az aks get-credentials --resource-group $resource_group --name $cluster_name"
   ]
  },
  {
   "cell_type": "code",
   "execution_count": 16,
   "metadata": {},
   "outputs": [
    {
     "name": "stdout",
     "output_type": "stream",
     "text": [
      "NAME                       STATUS    ROLES     AGE       VERSION\r\n",
      "aks-nodepool1-28016997-0   Ready     agent     20h       v1.7.7\r\n"
     ]
    }
   ],
   "source": [
    "!kubectl get nodes"
   ]
  },
  {
   "cell_type": "code",
   "execution_count": 48,
   "metadata": {},
   "outputs": [
    {
     "name": "stdout",
     "output_type": "stream",
     "text": [
      "NAMESPACE     NAME                                    READY     STATUS    RESTARTS   AGE\r\n",
      "kube-system   heapster-2574232661-9rnfw               2/2       Running   0          21h\r\n",
      "kube-system   kube-dns-v20-2253765213-nc3lc           3/3       Running   0          21h\r\n",
      "kube-system   kube-dns-v20-2253765213-tlrxc           3/3       Running   0          21h\r\n",
      "kube-system   kube-proxy-g4gs2                        1/1       Running   0          21h\r\n",
      "kube-system   kube-svc-redirect-57f3x                 1/1       Running   0          21h\r\n",
      "kube-system   kubernetes-dashboard-2898242510-5f9m0   1/1       Running   0          21h\r\n",
      "kube-system   tunnelfront-2759728499-dgvc5            1/1       Running   0          21h\r\n"
     ]
    }
   ],
   "source": [
    "!kubectl get pods --all-namespaces"
   ]
  },
  {
   "cell_type": "code",
   "execution_count": 89,
   "metadata": {
    "collapsed": true
   },
   "outputs": [],
   "source": [
    "app_template = {\n",
    "  \"apiVersion\": \"apps/v1beta1\",\n",
    "  \"kind\": \"Deployment\",\n",
    "  \"metadata\": {\n",
    "      \"name\": \"azure-dl\"\n",
    "  },\n",
    "  \"spec\":{\n",
    "      \"replicas\":1,\n",
    "      \"template\":{\n",
    "          \"metadata\":{\n",
    "              \"labels\":{\n",
    "                  \"app\":\"azure-dl\"\n",
    "              }\n",
    "          },\n",
    "          \"spec\":{\n",
    "              \"containers\":[\n",
    "                  {\n",
    "                      \"name\": \"azure-dl\",\n",
    "                      \"image\": \"fboylu/tfkeras\",\n",
    "                      \"env\":[\n",
    "                          {\n",
    "                              \"name\": \"LD_LIBRARY_PATH\",\n",
    "                              \"value\": \"$LD_LIBRARY_PATH:/usr/local/nvidia/lib64:/opt/conda/envs/py3.5/lib\"\n",
    "                          }\n",
    "                      ],\n",
    "                      \"ports\":[\n",
    "                          {\n",
    "                              \"containerPort\":88,\n",
    "                              \"name\":\"model\"\n",
    "                          }\n",
    "                      ],\n",
    "                      \"volumeMounts\":[\n",
    "                          {\n",
    "                              \"name\": \"bin\",\n",
    "                              \"mountPath\":\"/usr/local/nvidia/bin\" \n",
    "                          },\n",
    "                          {\n",
    "                              \"name\": \"lib\",\n",
    "                              \"mountPath\":\"/usr/local/nvidia/lib64\" \n",
    "                          },\n",
    "                          {\n",
    "                              \"name\": \"libcuda\",\n",
    "                              \"mountPath\":\"/usr/lib/x86_64-linux-gnu/libcuda.so.1\" \n",
    "                          },\n",
    "                      ],\n",
    "                      \"resources\":{\n",
    "                           \"requests\":{\n",
    "                               \"alpha.kubernetes.io/nvidia-gpu\": 1\n",
    "                           },\n",
    "                           \"limits\":{\n",
    "                               \"alpha.kubernetes.io/nvidia-gpu\": 1\n",
    "                           }\n",
    "                       }  \n",
    "                  }\n",
    "              ],\n",
    "              \"volumes\":[\n",
    "                  {\n",
    "                      \"name\": \"bin\",\n",
    "                      \"hostPath\":{\n",
    "                          \"path\":\"/usr/lib/nvidia-384/bin\"\n",
    "                      },\n",
    "                  },\n",
    "                  {\n",
    "                      \"name\": \"lib\",\n",
    "                      \"hostPath\":{\n",
    "                          \"path\":\"/usr/lib/nvidia-384\"\n",
    "                      },\n",
    "                  },\n",
    "                  {\n",
    "                      \"name\": \"libcuda\",\n",
    "                      \"hostPath\":{\n",
    "                          \"path\":\"/usr/lib/x86_64-linux-gnu/libcuda.so.1\"\n",
    "                      },\n",
    "                  },\n",
    "              ]\n",
    "          }\n",
    "      }\n",
    "  }\n",
    "}\n",
    "\n",
    "service_temp = {\n",
    "  \"apiVersion\": \"v1\",\n",
    "  \"kind\": \"Service\",\n",
    "  \"metadata\": {\n",
    "      \"name\": \"azure-dl\"\n",
    "  },\n",
    "  \"spec\":{\n",
    "      \"type\": \"LoadBalancer\",\n",
    "      \"ports\":[\n",
    "          {\n",
    "              \"port\":88\n",
    "          }\n",
    "      ],\n",
    "      \"selector\":{\n",
    "            \"app\":\"azure-dl\"\n",
    "      }\n",
    "   }\n",
    "}"
   ]
  },
  {
   "cell_type": "code",
   "execution_count": 90,
   "metadata": {
    "collapsed": true
   },
   "outputs": [],
   "source": [
    "import json"
   ]
  },
  {
   "cell_type": "code",
   "execution_count": 91,
   "metadata": {},
   "outputs": [],
   "source": [
    "def write_json_to_file(json_dict, filename, mode='w'):\n",
    "    with open(filename, mode) as outfile:\n",
    "        json.dump(json_dict, outfile, indent=4,sort_keys=True)\n",
    "        outfile.write('\\n\\n')"
   ]
  },
  {
   "cell_type": "code",
   "execution_count": 92,
   "metadata": {},
   "outputs": [],
   "source": [
    "write_json_to_file(app_template, 'az-dl.json')"
   ]
  },
  {
   "cell_type": "code",
   "execution_count": 93,
   "metadata": {
    "collapsed": true
   },
   "outputs": [],
   "source": [
    "write_json_to_file(service_temp, 'az-dl.json', mode='a')"
   ]
  },
  {
   "cell_type": "code",
   "execution_count": 94,
   "metadata": {},
   "outputs": [
    {
     "name": "stdout",
     "output_type": "stream",
     "text": [
      "{\r\n",
      "    \"apiVersion\": \"apps/v1beta1\",\r\n",
      "    \"kind\": \"Deployment\",\r\n",
      "    \"metadata\": {\r\n",
      "        \"name\": \"azure-dl\"\r\n",
      "    },\r\n",
      "    \"spec\": {\r\n",
      "        \"replicas\": 1,\r\n",
      "        \"template\": {\r\n",
      "            \"metadata\": {\r\n",
      "                \"labels\": {\r\n",
      "                    \"app\": \"azure-dl\"\r\n",
      "                }\r\n",
      "            },\r\n",
      "            \"spec\": {\r\n",
      "                \"containers\": [\r\n",
      "                    {\r\n",
      "                        \"env\": [\r\n",
      "                            {\r\n",
      "                                \"name\": \"LD_LIBRARY_PATH\",\r\n",
      "                                \"value\": \"$LD_LIBRARY_PATH:/usr/local/nvidia/lib64:/opt/conda/envs/py3.5/lib\"\r\n",
      "                            }\r\n",
      "                        ],\r\n",
      "                        \"image\": \"fboylu/tfkeras\",\r\n",
      "                        \"name\": \"azure-dl\",\r\n",
      "                        \"ports\": [\r\n",
      "                            {\r\n",
      "                                \"containerPort\": 88,\r\n",
      "                                \"name\": \"model\"\r\n",
      "                            }\r\n",
      "                        ],\r\n",
      "                        \"resources\": {\r\n",
      "                            \"limits\": {\r\n",
      "                                \"alpha.kubernetes.io/nvidia-gpu\": 1\r\n",
      "                            },\r\n",
      "                            \"requests\": {\r\n",
      "                                \"alpha.kubernetes.io/nvidia-gpu\": 1\r\n",
      "                            }\r\n",
      "                        },\r\n",
      "                        \"volumeMounts\": [\r\n",
      "                            {\r\n",
      "                                \"mountPath\": \"/usr/local/nvidia/bin\",\r\n",
      "                                \"name\": \"bin\"\r\n",
      "                            },\r\n",
      "                            {\r\n",
      "                                \"mountPath\": \"/usr/local/nvidia/lib64\",\r\n",
      "                                \"name\": \"lib\"\r\n",
      "                            },\r\n",
      "                            {\r\n",
      "                                \"mountPath\": \"/usr/lib/x86_64-linux-gnu/libcuda.so.1\",\r\n",
      "                                \"name\": \"libcuda\"\r\n",
      "                            }\r\n",
      "                        ]\r\n",
      "                    }\r\n",
      "                ],\r\n",
      "                \"volumes\": [\r\n",
      "                    {\r\n",
      "                        \"hostPath\": {\r\n",
      "                            \"path\": \"/usr/lib/nvidia-384/bin\"\r\n",
      "                        },\r\n",
      "                        \"name\": \"bin\"\r\n",
      "                    },\r\n",
      "                    {\r\n",
      "                        \"hostPath\": {\r\n",
      "                            \"path\": \"/usr/lib/nvidia-384\"\r\n",
      "                        },\r\n",
      "                        \"name\": \"lib\"\r\n",
      "                    },\r\n",
      "                    {\r\n",
      "                        \"hostPath\": {\r\n",
      "                            \"path\": \"/usr/lib/x86_64-linux-gnu/libcuda.so.1\"\r\n",
      "                        },\r\n",
      "                        \"name\": \"libcuda\"\r\n",
      "                    }\r\n",
      "                ]\r\n",
      "            }\r\n",
      "        }\r\n",
      "    }\r\n",
      "}\r\n",
      "\r\n",
      "{\r\n",
      "    \"apiVersion\": \"v1\",\r\n",
      "    \"kind\": \"Service\",\r\n",
      "    \"metadata\": {\r\n",
      "        \"name\": \"azure-dl\"\r\n",
      "    },\r\n",
      "    \"spec\": {\r\n",
      "        \"ports\": [\r\n",
      "            {\r\n",
      "                \"port\": 88\r\n",
      "            }\r\n",
      "        ],\r\n",
      "        \"selector\": {\r\n",
      "            \"app\": \"azure-dl\"\r\n",
      "        },\r\n",
      "        \"type\": \"LoadBalancer\"\r\n",
      "    }\r\n",
      "}\r\n",
      "\r\n"
     ]
    }
   ],
   "source": [
    "!cat az-dl.json"
   ]
  },
  {
   "cell_type": "code",
   "execution_count": 96,
   "metadata": {},
   "outputs": [
    {
     "name": "stdout",
     "output_type": "stream",
     "text": [
      "deployment \"azure-dl\" created\n",
      "service \"azure-dl\" created\n"
     ]
    }
   ],
   "source": [
    "!kubectl create -f az-dl.json"
   ]
  },
  {
   "cell_type": "code",
   "execution_count": 100,
   "metadata": {},
   "outputs": [
    {
     "name": "stdout",
     "output_type": "stream",
     "text": [
      "LAST SEEN   FIRST SEEN   COUNT     NAME                                         KIND         SUBOBJECT                   TYPE      REASON                             SOURCE                              MESSAGE\r\n",
      "8s          23h          1383      aks-nodepool1-28016997-0.151e0b00f2c2fa81    Node                                     Warning   FailedNodeAllocatableEnforcement   kubelet, aks-nodepool1-28016997-0   Failed to update Node Allocatable Limits \"\": failed to set supported cgroup subsystems for cgroup : Failed to set config for supported subsystems : failed to write 59076296704 to memory.limit_in_bytes: write /var/lib/docker/overlay2/b13d017f80b0afbea6242f387627df263ea463c385c0655defa6221c49714e66/merged/sys/fs/cgroup/memory/memory.limit_in_bytes: invalid argument\r\n",
      "2m          2m           1         azure-dl-1710293173-p2ggn.151e564d80b477ec   Pod          spec.containers{azure-dl}   Normal    Killing                            kubelet, aks-nodepool1-28016997-0   Killing container with id docker://azure-dl:Need to kill Pod\r\n",
      "2m          2m           1         azure-dl-1710293173.151e564b1c00712f         ReplicaSet                               Normal    SuccessfulDelete                   replicaset-controller               Deleted pod: azure-dl-1710293173-p2ggn\r\n",
      "1m          1m           1         azure-dl-3344564842-0kbg0.151e5653309b3226   Pod                                      Normal    Scheduled                          default-scheduler                   Successfully assigned azure-dl-3344564842-0kbg0 to aks-nodepool1-28016997-0\r\n",
      "1m          1m           1         azure-dl-3344564842-0kbg0.151e56533ffe7a12   Pod                                      Normal    SuccessfulMountVolume              kubelet, aks-nodepool1-28016997-0   MountVolume.SetUp succeeded for volume \"lib\" \r\n",
      "1m          1m           1         azure-dl-3344564842-0kbg0.151e565340029731   Pod                                      Normal    SuccessfulMountVolume              kubelet, aks-nodepool1-28016997-0   MountVolume.SetUp succeeded for volume \"libcuda\" \r\n",
      "1m          1m           1         azure-dl-3344564842-0kbg0.151e565340040ef8   Pod                                      Normal    SuccessfulMountVolume              kubelet, aks-nodepool1-28016997-0   MountVolume.SetUp succeeded for volume \"bin\" \r\n",
      "1m          1m           1         azure-dl-3344564842-0kbg0.151e565340df41a1   Pod                                      Normal    SuccessfulMountVolume              kubelet, aks-nodepool1-28016997-0   MountVolume.SetUp succeeded for volume \"default-token-tnsfr\" \r\n",
      "1m          1m           1         azure-dl-3344564842-0kbg0.151e565389aee312   Pod          spec.containers{azure-dl}   Normal    Pulling                            kubelet, aks-nodepool1-28016997-0   pulling image \"fboylu/tfkeras\"\r\n",
      "1m          1m           1         azure-dl-3344564842-0kbg0.151e5654e26626e1   Pod          spec.containers{azure-dl}   Normal    Pulled                             kubelet, aks-nodepool1-28016997-0   Successfully pulled image \"fboylu/tfkeras\"\r\n",
      "1m          1m           1         azure-dl-3344564842-0kbg0.151e5654f426fe36   Pod          spec.containers{azure-dl}   Normal    Created                            kubelet, aks-nodepool1-28016997-0   Created container\r\n",
      "1m          1m           1         azure-dl-3344564842-0kbg0.151e5654fe834af7   Pod          spec.containers{azure-dl}   Normal    Started                            kubelet, aks-nodepool1-28016997-0   Started container\r\n",
      "1m          1m           1         azure-dl-3344564842.151e565330271521         ReplicaSet                               Normal    SuccessfulCreate                   replicaset-controller               Created pod: azure-dl-3344564842-0kbg0\r\n",
      "2m          2m           1         azure-dl.151e564b1a7999d8                    Deployment                               Normal    ScalingReplicaSet                  deployment-controller               Scaled down replica set azure-dl-1710293173 to 0\r\n",
      "2m          2m           1         azure-dl.151e564be35ae520                    Service                                  Normal    DeletingLoadBalancer               service-controller                  Deleting load balancer\r\n",
      "1m          1m           1         azure-dl.151e56532e746211                    Deployment                               Normal    ScalingReplicaSet                  deployment-controller               Scaled up replica set azure-dl-3344564842 to 1\r\n"
     ]
    }
   ],
   "source": [
    "!kubectl get events"
   ]
  },
  {
   "cell_type": "code",
   "execution_count": 99,
   "metadata": {},
   "outputs": [
    {
     "name": "stdout",
     "output_type": "stream",
     "text": [
      "NAMESPACE     NAME                                    READY     STATUS    RESTARTS   AGE\r\n",
      "default       azure-dl-3344564842-0kbg0               1/1       Running   0          1m\r\n",
      "kube-system   heapster-2574232661-9rnfw               2/2       Running   0          22h\r\n",
      "kube-system   kube-dns-v20-2253765213-nc3lc           3/3       Running   0          22h\r\n",
      "kube-system   kube-dns-v20-2253765213-tlrxc           3/3       Running   0          22h\r\n",
      "kube-system   kube-proxy-g4gs2                        1/1       Running   0          22h\r\n",
      "kube-system   kube-svc-redirect-57f3x                 1/1       Running   0          22h\r\n",
      "kube-system   kubernetes-dashboard-2898242510-5f9m0   1/1       Running   0          22h\r\n",
      "kube-system   tunnelfront-2759728499-dgvc5            1/1       Running   0          22h\r\n"
     ]
    }
   ],
   "source": [
    "!kubectl get pods --all-namespaces"
   ]
  },
  {
   "cell_type": "code",
   "execution_count": 105,
   "metadata": {},
   "outputs": [
    {
     "name": "stdout",
     "output_type": "stream",
     "text": [
      "2018-03-22 19:57:27,159 CRIT Supervisor running as root (no user in config file)\r\n",
      "2018-03-22 19:57:27,161 INFO supervisord started with pid 7\r\n",
      "2018-03-22 19:57:28,164 INFO spawned: 'program_exit' with pid 17\r\n",
      "2018-03-22 19:57:28,165 INFO spawned: 'nginx' with pid 18\r\n",
      "2018-03-22 19:57:28,166 INFO spawned: 'gunicorn' with pid 19\r\n",
      "2018-03-22 19:57:29,198 INFO success: program_exit entered RUNNING state, process has stayed up for > than 1 seconds (startsecs)\r\n",
      "2018-03-22 19:57:29.558220: I tensorflow/core/platform/cpu_feature_guard.cc:137] Your CPU supports instructions that this TensorFlow binary was not compiled to use: SSE4.1 SSE4.2 AVX AVX2 FMA\r\n",
      "2018-03-22 19:57:33,569 INFO success: nginx entered RUNNING state, process has stayed up for > than 5 seconds (startsecs)\r\n",
      "2018-03-22 19:57:38.178449: I tensorflow/core/common_runtime/gpu/gpu_device.cc:1030] Found device 0 with properties: \r\n",
      "name: Tesla K80 major: 3 minor: 7 memoryClockRate(GHz): 0.8235\r\n",
      "pciBusID: d333:00:00.0\r\n",
      "totalMemory: 11.17GiB freeMemory: 11.10GiB\r\n",
      "2018-03-22 19:57:38.178494: I tensorflow/core/common_runtime/gpu/gpu_device.cc:1120] Creating TensorFlow device (/device:GPU:0) -> (device: 0, name: Tesla K80, pci bus id: d333:00:00.0, compute capability: 3.7)\r\n",
      "2018-03-22 19:57:48,189 INFO success: gunicorn entered RUNNING state, process has stayed up for > than 20 seconds (startsecs)\r\n",
      "Initialising\r\n",
      "Executing init() method...\r\n",
      "Downloading data from https://github.com/adamcasson/resnet152/releases/download/v0.1/resnet152_weights_tf.h5\r\n",
      "\r\n",
      "     8192/243179624 [..............................] - ETA: 48s\r\n",
      "  1081344/243179624 [..............................] - ETA: 11s\r\n",
      "  4423680/243179624 [..............................] - ETA: 5s \r\n",
      "  7938048/243179624 [..............................] - ETA: 4s\r\n",
      " 11198464/243179624 [>.............................] - ETA: 4s\r\n",
      " 14032896/243179624 [>.............................] - ETA: 4s\r\n",
      " 16875520/243179624 [=>............................] - ETA: 4s\r\n",
      " 20267008/243179624 [=>............................] - ETA: 3s\r\n",
      " 23945216/243179624 [=>............................] - ETA: 3s\r\n",
      " 27664384/243179624 [==>...........................] - ETA: 3s\r\n",
      " 31621120/243179624 [==>...........................] - ETA: 3s\r\n",
      " 35405824/243179624 [===>..........................] - ETA: 3s\r\n",
      " 39641088/243179624 [===>..........................] - ETA: 3s\r\n",
      " 44113920/243179624 [====>.........................] - ETA: 2s\r\n",
      " 48250880/243179624 [====>.........................] - ETA: 2s\r\n",
      " 52781056/243179624 [=====>........................] - ETA: 2s\r\n",
      " 57237504/243179624 [======>.......................] - ETA: 2s\r\n",
      " 61038592/243179624 [======>.......................] - ETA: 2s\r\n",
      " 64274432/243179624 [======>.......................] - ETA: 2s\r\n",
      " 67821568/243179624 [=======>......................] - ETA: 2s\r\n",
      " 71467008/243179624 [=======>......................] - ETA: 2s\r\n",
      " 75202560/243179624 [========>.....................] - ETA: 2s\r\n",
      " 79241216/243179624 [========>.....................] - ETA: 2s\r\n",
      " 83222528/243179624 [=========>....................] - ETA: 2s\r\n",
      " 87441408/243179624 [=========>....................] - ETA: 2s\r\n",
      " 91676672/243179624 [==========>...................] - ETA: 2s\r\n",
      " 96133120/243179624 [==========>...................] - ETA: 1s\r\n",
      "100868096/243179624 [===========>..................] - ETA: 1s\r\n",
      "105635840/243179624 [============>.................] - ETA: 1s\r\n",
      "109953024/243179624 [============>.................] - ETA: 1s\r\n",
      "113549312/243179624 [=============>................] - ETA: 1s\r\n",
      "117284864/243179624 [=============>................] - ETA: 1s\r\n",
      "121110528/243179624 [=============>................] - ETA: 1s\r\n",
      "125026304/243179624 [==============>...............] - ETA: 1s\r\n",
      "129187840/243179624 [==============>...............] - ETA: 1s\r\n",
      "133414912/243179624 [===============>..............] - ETA: 1s\r\n",
      "137543680/243179624 [===============>..............] - ETA: 1s\r\n",
      "141926400/243179624 [================>.............] - ETA: 1s\r\n",
      "146505728/243179624 [=================>............] - ETA: 1s\r\n",
      "150986752/243179624 [=================>............] - ETA: 1s\r\n",
      "154730496/243179624 [==================>...........] - ETA: 1s\r\n",
      "158072832/243179624 [==================>...........] - ETA: 1s\r\n",
      "162594816/243179624 [===================>..........] - ETA: 1s\r\n",
      "166920192/243179624 [===================>..........] - ETA: 0s\r\n",
      "171630592/243179624 [====================>.........] - ETA: 0s\r\n",
      "176349184/243179624 [====================>.........] - ETA: 0s\r\n",
      "179470336/243179624 [=====================>........] - ETA: 0s\r\n",
      "181198848/243179624 [=====================>........] - ETA: 0s\r\n",
      "182632448/243179624 [=====================>........] - ETA: 0s\r\n",
      "186179584/243179624 [=====================>........] - ETA: 0s\r\n",
      "191348736/243179624 [======================>.......] - ETA: 0s\r\n",
      "196640768/243179624 [=======================>......] - ETA: 0s\r\n",
      "201949184/243179624 [=======================>......] - ETA: 0s\r\n",
      "207085568/243179624 [========================>.....] - ETA: 0s\r\n",
      "212918272/243179624 [=========================>....] - ETA: 0s\r\n",
      "213819392/243179624 [=========================>....] - ETA: 0s\r\n",
      "218521600/243179624 [=========================>....] - ETA: 0s\r\n",
      "222298112/243179624 [==========================>...] - ETA: 0s\r\n",
      "226091008/243179624 [==========================>...] - ETA: 0s\r\n",
      "231849984/243179624 [===========================>..] - ETA: 0s\r\n",
      "237961216/243179624 [============================>.] - ETA: 0s\r\n",
      "243187712/243179624 [==============================] - 3s 0us/step\r\n",
      "Model loading time: 34133.11 ms\r\n",
      "{\"timestamp\": \"2018-03-22T19:58:03.661785Z\", \"msg\": \" * Running on %s://%s:%d/ %s\", \"host\": \"azure-dl-3344564842-0kbg0\", \"message\": \" * Running on http://0.0.0.0:5000/ (Press CTRL+C to quit)\", \"path\": \"/opt/conda/envs/py3.5/lib/python3.5/site-packages/werkzeug/_internal.py\", \"tags\": [], \"stack_info\": null, \"level\": \"INFO\", \"logger\": \"werkzeug\"}\r\n"
     ]
    }
   ],
   "source": [
    "!kubectl logs azure-dl-3344564842-0kbg0"
   ]
  },
  {
   "cell_type": "code",
   "execution_count": 102,
   "metadata": {},
   "outputs": [
    {
     "name": "stdout",
     "output_type": "stream",
     "text": [
      "NAME       DESIRED   CURRENT   UP-TO-DATE   AVAILABLE   AGE\r\n",
      "azure-dl   1         1         1            1           3m\r\n"
     ]
    }
   ],
   "source": [
    "!kubectl get deployment"
   ]
  },
  {
   "cell_type": "code",
   "execution_count": 108,
   "metadata": {},
   "outputs": [
    {
     "name": "stdout",
     "output_type": "stream",
     "text": [
      "NAME       TYPE           CLUSTER-IP    EXTERNAL-IP     PORT(S)        AGE\r\n",
      "azure-dl   LoadBalancer   10.0.21.232   13.90.129.123   88:31864/TCP   59m\r\n"
     ]
    }
   ],
   "source": [
    "!kubectl get service azure-dl"
   ]
  },
  {
   "cell_type": "markdown",
   "metadata": {},
   "source": [
    "# Tear it all down"
   ]
  },
  {
   "cell_type": "code",
   "execution_count": 95,
   "metadata": {},
   "outputs": [
    {
     "name": "stdout",
     "output_type": "stream",
     "text": [
      "deployment \"azure-dl\" deleted\n",
      "service \"azure-dl\" deleted\n"
     ]
    }
   ],
   "source": [
    "!kubectl delete -f az-dl.json"
   ]
  },
  {
   "cell_type": "code",
   "execution_count": null,
   "metadata": {
    "collapsed": true
   },
   "outputs": [],
   "source": [
    "!az aks delete -n $cluster_name -g $resource_group -y"
   ]
  },
  {
   "cell_type": "code",
   "execution_count": null,
   "metadata": {
    "collapsed": true
   },
   "outputs": [],
   "source": [
    "!az group delete --name $resource_group -y"
   ]
  }
 ],
 "metadata": {
  "kernelspec": {
   "display_name": "Python [conda env:py35]",
   "language": "python",
   "name": "conda-env-py35-py"
  },
  "language_info": {
   "codemirror_mode": {
    "name": "ipython",
    "version": 3
   },
   "file_extension": ".py",
   "mimetype": "text/x-python",
   "name": "python",
   "nbconvert_exporter": "python",
   "pygments_lexer": "ipython3",
   "version": "3.5.2"
  }
 },
 "nbformat": 4,
 "nbformat_minor": 2
}
