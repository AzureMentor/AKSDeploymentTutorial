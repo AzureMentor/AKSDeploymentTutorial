{
 "cells": [
  {
   "cell_type": "markdown",
   "metadata": {},
   "source": [
    "# Deploy Web App on Azure Container Services (AKS)\n"
   ]
  },
  {
   "cell_type": "markdown",
   "metadata": {},
   "source": [
    "In this notebook, we will set up an Azure Container Service which will be managed by Kubernetes. We will then take the Docker image we created earlier that contains our app and deploy it to the AKS cluster. Then, we will check everything is working by sending an image to it and getting it scored. Make sure Azure CLI is installed before proceeding."
   ]
  },
  {
   "cell_type": "markdown",
   "metadata": {},
   "source": [
    "## Setup"
   ]
  },
  {
   "cell_type": "markdown",
   "metadata": {},
   "source": [
    "Below are the various name definitions for the resources needed to setup AKS as well as the name of the Docker image we will be using."
   ]
  },
  {
   "cell_type": "code",
   "execution_count": 121,
   "metadata": {
    "collapsed": true
   },
   "outputs": [],
   "source": [
    "# Please modify the below as you see fit\n",
    "resource_group = \"<RESOURCE_GROUP>\" \n",
    "aks_name = \"<AKS_CLUSTER_NAME>\"\n",
    "location = \"eastus\"\n",
    "\n",
    "image_name = '<YOUR_DOCKER_IMAGE>' # 'fboylu/tfkeras' Feel free to use this Image if you want to \n",
    "                                   # skip creating your own container\n",
    "selected_subscription = \"'<YOUR_SUBSCRIPTION>'\" # If you have multiple subscriptions select \n",
    "                                                # the subscription you want to use here"
   ]
  },
  {
   "cell_type": "code",
   "execution_count": 122,
   "metadata": {
    "collapsed": true
   },
   "outputs": [],
   "source": [
    "resource_group = \"fbaksrg\" # Feel free to modify these\n",
    "aks_name = \"fbAKSCluster\"\n",
    "location = \"eastus\"\n",
    "\n",
    "image_name = \"fboylu/tfkeras\" \n",
    "selected_subscription = \"'Team Danielle Internal'\""
   ]
  },
  {
   "cell_type": "markdown",
   "metadata": {},
   "source": [
    "## Azure acocunt login"
   ]
  },
  {
   "cell_type": "markdown",
   "metadata": {},
   "source": [
    "The command below will initiate a login to your Azure account. It will pop up with an url to go to where you will enter a one off code and log into your Azure account using your browser."
   ]
  },
  {
   "cell_type": "code",
   "execution_count": 129,
   "metadata": {},
   "outputs": [],
   "source": [
    "!az login -o table"
   ]
  },
  {
   "cell_type": "code",
   "execution_count": 4,
   "metadata": {
    "collapsed": true
   },
   "outputs": [],
   "source": [
    "!az account set --subscription $selected_subscription"
   ]
  },
  {
   "cell_type": "code",
   "execution_count": 130,
   "metadata": {},
   "outputs": [],
   "source": [
    "!az account show"
   ]
  },
  {
   "cell_type": "code",
   "execution_count": 5,
   "metadata": {},
   "outputs": [
    {
     "name": "stdout",
     "output_type": "stream",
     "text": [
      "\u001b[33mRegistering is still on-going. You can monitor using 'az provider show -n Microsoft.ContainerService'\u001b[0m\r\n"
     ]
    }
   ],
   "source": [
    "!az provider register -n Microsoft.ContainerService"
   ]
  },
  {
   "cell_type": "code",
   "execution_count": 131,
   "metadata": {},
   "outputs": [],
   "source": [
    "!az provider show -n Microsoft.ContainerService"
   ]
  },
  {
   "cell_type": "markdown",
   "metadata": {},
   "source": [
    "## Create resources and dependencies"
   ]
  },
  {
   "cell_type": "markdown",
   "metadata": {},
   "source": [
    "### Create resource group"
   ]
  },
  {
   "cell_type": "markdown",
   "metadata": {},
   "source": [
    "Azure encourages the use of groups to organize all the Azure components you deploy. That way it is easier to find them but also we can delete a number of resources simply by deleting the group."
   ]
  },
  {
   "cell_type": "code",
   "execution_count": 10,
   "metadata": {},
   "outputs": [
    {
     "name": "stdout",
     "output_type": "stream",
     "text": [
      "{\r\n",
      "  \"id\": \"/subscriptions/edf507a2-6235-46c5-b560-fd463ba2e771/resourceGroups/fbaksrg\",\r\n",
      "  \"location\": \"eastus\",\r\n",
      "  \"managedBy\": null,\r\n",
      "  \"name\": \"fbaksrg\",\r\n",
      "  \"properties\": {\r\n",
      "    \"provisioningState\": \"Succeeded\"\r\n",
      "  },\r\n",
      "  \"tags\": null\r\n",
      "}\r\n"
     ]
    }
   ],
   "source": [
    "!az group create --name $resource_group --location $location"
   ]
  },
  {
   "cell_type": "code",
   "execution_count": 9,
   "metadata": {},
   "outputs": [
    {
     "name": "stdout",
     "output_type": "stream",
     "text": [
      "\u001b[33mSSH key files '/home/fboylu/.ssh/id_rsa' and '/home/fboylu/.ssh/id_rsa.pub' have been generated under ~/.ssh to allow SSH access to the VM. If using machines without permanent storage like Azure Cloud Shell without an attached file share, back up your keys to a safe location\u001b[0m\n",
      "Waiting for AAD role to propagate[################################    ]  90.0000%%\u001b[33mCould not create a service principal with the right permissions. Are you an Owner on this project?\u001b[0m\n",
      "^CK - Running ...\n",
      "\u001b[K\u001b[31mLong-running operation wait cancelled.  \u001b[0m\n"
     ]
    }
   ],
   "source": [
    "%%time\n",
    "!az aks create --resource-group $resource_group --name $aks_name --node-count 1 --generate-ssh-keys -s Standard_NC6"
   ]
  },
  {
   "cell_type": "markdown",
   "metadata": {},
   "source": [
    "### Install kubectl CLI"
   ]
  },
  {
   "cell_type": "markdown",
   "metadata": {},
   "source": [
    "To connect to the Kubernetes cluster, we will use kubectl, the Kubernetes command-line client. To install, run the following:"
   ]
  },
  {
   "cell_type": "code",
   "execution_count": 12,
   "metadata": {},
   "outputs": [
    {
     "name": "stdout",
     "output_type": "stream",
     "text": [
      "\u001b[33mDownloading client to /usr/local/bin/kubectl from https://storage.googleapis.com/kubernetes-release/release/v1.9.6/bin/linux/amd64/kubectl\u001b[0m\r\n"
     ]
    }
   ],
   "source": [
    "!sudo az aks install-cli"
   ]
  },
  {
   "cell_type": "markdown",
   "metadata": {},
   "source": [
    "## Connect to AKS cluster"
   ]
  },
  {
   "cell_type": "markdown",
   "metadata": {},
   "source": [
    "To configure kubectl to connect to the Kubernetes cluster, run the following command:"
   ]
  },
  {
   "cell_type": "code",
   "execution_count": 15,
   "metadata": {},
   "outputs": [
    {
     "name": "stdout",
     "output_type": "stream",
     "text": [
      "Merged \"fbAKSCluster\" as current context in /home/fboylu/.kube/config\r\n"
     ]
    }
   ],
   "source": [
    "!az aks get-credentials --resource-group $resource_group --name $aks_name"
   ]
  },
  {
   "cell_type": "markdown",
   "metadata": {},
   "source": [
    "Let's verify connection by listing the nodes."
   ]
  },
  {
   "cell_type": "code",
   "execution_count": 132,
   "metadata": {},
   "outputs": [
    {
     "name": "stdout",
     "output_type": "stream",
     "text": [
      "NAME                       STATUS    ROLES     AGE       VERSION\r\n",
      "aks-nodepool1-28016997-0   Ready     agent     11d       v1.7.7\r\n"
     ]
    }
   ],
   "source": [
    "!kubectl get nodes"
   ]
  },
  {
   "cell_type": "markdown",
   "metadata": {},
   "source": [
    "Let's check the pods on our cluster."
   ]
  },
  {
   "cell_type": "code",
   "execution_count": 124,
   "metadata": {},
   "outputs": [
    {
     "name": "stdout",
     "output_type": "stream",
     "text": [
      "NAMESPACE     NAME                                    READY     STATUS    RESTARTS   AGE\r\n",
      "kube-system   heapster-2574232661-9rnfw               2/2       Running   0          11d\r\n",
      "kube-system   kube-dns-v20-2253765213-nc3lc           3/3       Running   0          11d\r\n",
      "kube-system   kube-dns-v20-2253765213-tlrxc           3/3       Running   0          11d\r\n",
      "kube-system   kube-proxy-g4gs2                        1/1       Running   0          11d\r\n",
      "kube-system   kube-svc-redirect-57f3x                 1/1       Running   4          11d\r\n",
      "kube-system   kubernetes-dashboard-2898242510-5f9m0   1/1       Running   0          11d\r\n",
      "kube-system   tunnelfront-2759728499-dgvc5            1/1       Running   0          11d\r\n"
     ]
    }
   ],
   "source": [
    "!kubectl get pods --all-namespaces"
   ]
  },
  {
   "cell_type": "markdown",
   "metadata": {},
   "source": [
    "## Deploy application"
   ]
  },
  {
   "cell_type": "markdown",
   "metadata": {},
   "source": [
    "Below we define our Kubernetes manifest file for our service and load balancer. Note that we have to specify the volume mounts to the drivers that are located on the node."
   ]
  },
  {
   "cell_type": "code",
   "execution_count": 127,
   "metadata": {
    "collapsed": true
   },
   "outputs": [],
   "source": [
    "app_template = {\n",
    "  \"apiVersion\": \"apps/v1beta1\",\n",
    "  \"kind\": \"Deployment\",\n",
    "  \"metadata\": {\n",
    "      \"name\": \"azure-dl\"\n",
    "  },\n",
    "  \"spec\":{\n",
    "      \"replicas\":1,\n",
    "      \"template\":{\n",
    "          \"metadata\":{\n",
    "              \"labels\":{\n",
    "                  \"app\":\"azure-dl\"\n",
    "              }\n",
    "          },\n",
    "          \"spec\":{\n",
    "              \"containers\":[\n",
    "                  {\n",
    "                      \"name\": \"azure-dl\",\n",
    "                      \"image\": \"fboylu/tfkeras\",\n",
    "                      \"env\":[\n",
    "                          {\n",
    "                              \"name\": \"LD_LIBRARY_PATH\",\n",
    "                              \"value\": \"$LD_LIBRARY_PATH:/usr/local/nvidia/lib64:/opt/conda/envs/py3.5/lib\"\n",
    "                          }\n",
    "                      ],\n",
    "                      \"ports\":[\n",
    "                          {\n",
    "                              \"containerPort\":80,\n",
    "                              \"name\":\"model\"\n",
    "                          }\n",
    "                      ],\n",
    "                      \"volumeMounts\":[\n",
    "                          {\n",
    "                              \"name\": \"bin\",\n",
    "                              \"mountPath\":\"/usr/local/nvidia/bin\" \n",
    "                          },\n",
    "                          {\n",
    "                              \"name\": \"lib\",\n",
    "                              \"mountPath\":\"/usr/local/nvidia/lib64\" \n",
    "                          },\n",
    "                          {\n",
    "                              \"name\": \"libcuda\",\n",
    "                              \"mountPath\":\"/usr/lib/x86_64-linux-gnu/libcuda.so.1\" \n",
    "                          },\n",
    "                      ],\n",
    "                      \"resources\":{\n",
    "                           \"requests\":{\n",
    "                               \"alpha.kubernetes.io/nvidia-gpu\": 1\n",
    "                           },\n",
    "                           \"limits\":{\n",
    "                               \"alpha.kubernetes.io/nvidia-gpu\": 1\n",
    "                           }\n",
    "                       }  \n",
    "                  }\n",
    "              ],\n",
    "              \"volumes\":[\n",
    "                  {\n",
    "                      \"name\": \"bin\",\n",
    "                      \"hostPath\":{\n",
    "                          \"path\":\"/usr/lib/nvidia-384/bin\"\n",
    "                      },\n",
    "                  },\n",
    "                  {\n",
    "                      \"name\": \"lib\",\n",
    "                      \"hostPath\":{\n",
    "                          \"path\":\"/usr/lib/nvidia-384\"\n",
    "                      },\n",
    "                  },\n",
    "                  {\n",
    "                      \"name\": \"libcuda\",\n",
    "                      \"hostPath\":{\n",
    "                          \"path\":\"/usr/lib/x86_64-linux-gnu/libcuda.so.1\"\n",
    "                      },\n",
    "                  },\n",
    "              ]\n",
    "          }\n",
    "      }\n",
    "  }\n",
    "}\n",
    "\n",
    "service_temp = {\n",
    "  \"apiVersion\": \"v1\",\n",
    "  \"kind\": \"Service\",\n",
    "  \"metadata\": {\n",
    "      \"name\": \"azure-dl\"\n",
    "  },\n",
    "  \"spec\":{\n",
    "      \"type\": \"LoadBalancer\",\n",
    "      \"ports\":[\n",
    "          {\n",
    "              \"port\":80\n",
    "          }\n",
    "      ],\n",
    "      \"selector\":{\n",
    "            \"app\":\"azure-dl\"\n",
    "      }\n",
    "   }\n",
    "}"
   ]
  },
  {
   "cell_type": "code",
   "execution_count": 133,
   "metadata": {
    "collapsed": true
   },
   "outputs": [],
   "source": [
    "import json\n",
    "def write_json_to_file(json_dict, filename, mode='w'):\n",
    "    with open(filename, mode) as outfile:\n",
    "        json.dump(json_dict, outfile, indent=4,sort_keys=True)\n",
    "        outfile.write('\\n\\n')"
   ]
  },
  {
   "cell_type": "code",
   "execution_count": 134,
   "metadata": {
    "collapsed": true
   },
   "outputs": [],
   "source": [
    "write_json_to_file(app_template, 'az-dl.json')"
   ]
  },
  {
   "cell_type": "code",
   "execution_count": 135,
   "metadata": {
    "collapsed": true
   },
   "outputs": [],
   "source": [
    "write_json_to_file(service_temp, 'az-dl.json', mode='a')"
   ]
  },
  {
   "cell_type": "markdown",
   "metadata": {},
   "source": [
    "Let's check the manifest created."
   ]
  },
  {
   "cell_type": "code",
   "execution_count": 136,
   "metadata": {},
   "outputs": [
    {
     "name": "stdout",
     "output_type": "stream",
     "text": [
      "{\r\n",
      "    \"apiVersion\": \"apps/v1beta1\",\r\n",
      "    \"kind\": \"Deployment\",\r\n",
      "    \"metadata\": {\r\n",
      "        \"name\": \"azure-dl\"\r\n",
      "    },\r\n",
      "    \"spec\": {\r\n",
      "        \"replicas\": 1,\r\n",
      "        \"template\": {\r\n",
      "            \"metadata\": {\r\n",
      "                \"labels\": {\r\n",
      "                    \"app\": \"azure-dl\"\r\n",
      "                }\r\n",
      "            },\r\n",
      "            \"spec\": {\r\n",
      "                \"containers\": [\r\n",
      "                    {\r\n",
      "                        \"env\": [\r\n",
      "                            {\r\n",
      "                                \"name\": \"LD_LIBRARY_PATH\",\r\n",
      "                                \"value\": \"$LD_LIBRARY_PATH:/usr/local/nvidia/lib64:/opt/conda/envs/py3.5/lib\"\r\n",
      "                            }\r\n",
      "                        ],\r\n",
      "                        \"image\": \"fboylu/tfkeras\",\r\n",
      "                        \"name\": \"azure-dl\",\r\n",
      "                        \"ports\": [\r\n",
      "                            {\r\n",
      "                                \"containerPort\": 80,\r\n",
      "                                \"name\": \"model\"\r\n",
      "                            }\r\n",
      "                        ],\r\n",
      "                        \"resources\": {\r\n",
      "                            \"limits\": {\r\n",
      "                                \"alpha.kubernetes.io/nvidia-gpu\": 1\r\n",
      "                            },\r\n",
      "                            \"requests\": {\r\n",
      "                                \"alpha.kubernetes.io/nvidia-gpu\": 1\r\n",
      "                            }\r\n",
      "                        },\r\n",
      "                        \"volumeMounts\": [\r\n",
      "                            {\r\n",
      "                                \"mountPath\": \"/usr/local/nvidia/bin\",\r\n",
      "                                \"name\": \"bin\"\r\n",
      "                            },\r\n",
      "                            {\r\n",
      "                                \"mountPath\": \"/usr/local/nvidia/lib64\",\r\n",
      "                                \"name\": \"lib\"\r\n",
      "                            },\r\n",
      "                            {\r\n",
      "                                \"mountPath\": \"/usr/lib/x86_64-linux-gnu/libcuda.so.1\",\r\n",
      "                                \"name\": \"libcuda\"\r\n",
      "                            }\r\n",
      "                        ]\r\n",
      "                    }\r\n",
      "                ],\r\n",
      "                \"volumes\": [\r\n",
      "                    {\r\n",
      "                        \"hostPath\": {\r\n",
      "                            \"path\": \"/usr/lib/nvidia-384/bin\"\r\n",
      "                        },\r\n",
      "                        \"name\": \"bin\"\r\n",
      "                    },\r\n",
      "                    {\r\n",
      "                        \"hostPath\": {\r\n",
      "                            \"path\": \"/usr/lib/nvidia-384\"\r\n",
      "                        },\r\n",
      "                        \"name\": \"lib\"\r\n",
      "                    },\r\n",
      "                    {\r\n",
      "                        \"hostPath\": {\r\n",
      "                            \"path\": \"/usr/lib/x86_64-linux-gnu/libcuda.so.1\"\r\n",
      "                        },\r\n",
      "                        \"name\": \"libcuda\"\r\n",
      "                    }\r\n",
      "                ]\r\n",
      "            }\r\n",
      "        }\r\n",
      "    }\r\n",
      "}\r\n",
      "\r\n",
      "{\r\n",
      "    \"apiVersion\": \"v1\",\r\n",
      "    \"kind\": \"Service\",\r\n",
      "    \"metadata\": {\r\n",
      "        \"name\": \"azure-dl\"\r\n",
      "    },\r\n",
      "    \"spec\": {\r\n",
      "        \"ports\": [\r\n",
      "            {\r\n",
      "                \"port\": 80\r\n",
      "            }\r\n",
      "        ],\r\n",
      "        \"selector\": {\r\n",
      "            \"app\": \"azure-dl\"\r\n",
      "        },\r\n",
      "        \"type\": \"LoadBalancer\"\r\n",
      "    }\r\n",
      "}\r\n",
      "\r\n"
     ]
    }
   ],
   "source": [
    "!cat az-dl.json"
   ]
  },
  {
   "cell_type": "markdown",
   "metadata": {},
   "source": [
    "Next, we will use kubectl create command to deploy our application."
   ]
  },
  {
   "cell_type": "code",
   "execution_count": 137,
   "metadata": {},
   "outputs": [
    {
     "name": "stdout",
     "output_type": "stream",
     "text": [
      "deployment \"azure-dl\" created\n",
      "service \"azure-dl\" created\n"
     ]
    }
   ],
   "source": [
    "!kubectl create -f az-dl.json"
   ]
  },
  {
   "cell_type": "markdown",
   "metadata": {},
   "source": [
    "Let's check if the pod is deployed."
   ]
  },
  {
   "cell_type": "code",
   "execution_count": 139,
   "metadata": {},
   "outputs": [
    {
     "name": "stdout",
     "output_type": "stream",
     "text": [
      "NAMESPACE     NAME                                    READY     STATUS              RESTARTS   AGE\r\n",
      "default       azure-dl-2408918338-m0s9t               0/1       ContainerCreating   0          40s\r\n",
      "kube-system   heapster-2574232661-9rnfw               2/2       Running             0          11d\r\n",
      "kube-system   kube-dns-v20-2253765213-nc3lc           3/3       Running             0          11d\r\n",
      "kube-system   kube-dns-v20-2253765213-tlrxc           3/3       Running             0          11d\r\n",
      "kube-system   kube-proxy-g4gs2                        1/1       Running             0          11d\r\n",
      "kube-system   kube-svc-redirect-57f3x                 1/1       Running             4          11d\r\n",
      "kube-system   kubernetes-dashboard-2898242510-5f9m0   1/1       Running             0          11d\r\n",
      "kube-system   tunnelfront-2759728499-dgvc5            1/1       Running             0          11d\r\n"
     ]
    }
   ],
   "source": [
    "!kubectl get pods --all-namespaces"
   ]
  },
  {
   "cell_type": "markdown",
   "metadata": {},
   "source": [
    "If anything goes wrong you can use the commands below to observe the events on the node as well as review the logs."
   ]
  },
  {
   "cell_type": "code",
   "execution_count": 144,
   "metadata": {},
   "outputs": [
    {
     "name": "stdout",
     "output_type": "stream",
     "text": [
      "LAST SEEN   FIRST SEEN   COUNT     NAME                                         KIND         SUBOBJECT                   TYPE      REASON                             SOURCE                              MESSAGE\r\n",
      "56s         11d          17208     aks-nodepool1-28016997-0.151e0b00f2c2fa81    Node                                     Warning   FailedNodeAllocatableEnforcement   kubelet, aks-nodepool1-28016997-0   Failed to update Node Allocatable Limits \"\": failed to set supported cgroup subsystems for cgroup : Failed to set config for supported subsystems : failed to write 59076296704 to memory.limit_in_bytes: write /var/lib/docker/overlay2/b13d017f80b0afbea6242f387627df263ea463c385c0655defa6221c49714e66/merged/sys/fs/cgroup/memory/memory.limit_in_bytes: invalid argument\r\n",
      "6m          6m           1         azure-dl-2408918338-m0s9t.1521b5ae1eeba886   Pod                                      Normal    Scheduled                          default-scheduler                   Successfully assigned azure-dl-2408918338-m0s9t to aks-nodepool1-28016997-0\r\n",
      "6m          6m           1         azure-dl-2408918338-m0s9t.1521b5ae2601f738   Pod                                      Normal    SuccessfulMountVolume              kubelet, aks-nodepool1-28016997-0   MountVolume.SetUp succeeded for volume \"bin\" \r\n",
      "6m          6m           1         azure-dl-2408918338-m0s9t.1521b5ae26027e60   Pod                                      Normal    SuccessfulMountVolume              kubelet, aks-nodepool1-28016997-0   MountVolume.SetUp succeeded for volume \"libcuda\" \r\n",
      "6m          6m           1         azure-dl-2408918338-m0s9t.1521b5ae2604fb7c   Pod                                      Normal    SuccessfulMountVolume              kubelet, aks-nodepool1-28016997-0   MountVolume.SetUp succeeded for volume \"lib\" \r\n",
      "6m          6m           1         azure-dl-2408918338-m0s9t.1521b5ae279d55cf   Pod                                      Normal    SuccessfulMountVolume              kubelet, aks-nodepool1-28016997-0   MountVolume.SetUp succeeded for volume \"default-token-tnsfr\" \r\n",
      "6m          6m           1         azure-dl-2408918338-m0s9t.1521b5ae5fadcdba   Pod          spec.containers{azure-dl}   Normal    Pulling                            kubelet, aks-nodepool1-28016997-0   pulling image \"fboylu/tfkeras\"\r\n",
      "5m          5m           1         azure-dl-2408918338-m0s9t.1521b5c40fa50df7   Pod          spec.containers{azure-dl}   Normal    Pulled                             kubelet, aks-nodepool1-28016997-0   Successfully pulled image \"fboylu/tfkeras\"\r\n",
      "4m          4m           1         azure-dl-2408918338-m0s9t.1521b5c7bd5e9fa4   Pod          spec.containers{azure-dl}   Normal    Created                            kubelet, aks-nodepool1-28016997-0   Created container\r\n",
      "4m          4m           1         azure-dl-2408918338-m0s9t.1521b5c9c9ca8579   Pod          spec.containers{azure-dl}   Normal    Started                            kubelet, aks-nodepool1-28016997-0   Started container\r\n",
      "6m          6m           1         azure-dl-2408918338.1521b5ae1e839997         ReplicaSet                               Normal    SuccessfulCreate                   replicaset-controller               Created pod: azure-dl-2408918338-m0s9t\r\n",
      "6m          6m           1         azure-dl.1521b5ae1c1d549c                    Deployment                               Normal    ScalingReplicaSet                  deployment-controller               Scaled up replica set azure-dl-2408918338 to 1\r\n",
      "6m          6m           1         azure-dl.1521b5ae20515dcc                    Service                                  Normal    CreatingLoadBalancer               service-controller                  Creating load balancer\r\n",
      "3m          3m           1         azure-dl.1521b5d53029e34b                    Service                                  Normal    CreatedLoadBalancer                service-controller                  Created load balancer\r\n"
     ]
    }
   ],
   "source": [
    "!kubectl get events"
   ]
  },
  {
   "cell_type": "markdown",
   "metadata": {},
   "source": [
    "Check the logs for the application pod."
   ]
  },
  {
   "cell_type": "code",
   "execution_count": 152,
   "metadata": {
    "collapsed": true
   },
   "outputs": [],
   "source": [
    "pod_json = !kubectl get pods -o json\n",
    "pod_dict = json.loads(''.join(pod_json))"
   ]
  },
  {
   "cell_type": "code",
   "execution_count": 154,
   "metadata": {},
   "outputs": [
    {
     "name": "stdout",
     "output_type": "stream",
     "text": [
      "2018-04-02 19:40:18,693 CRIT Supervisor running as root (no user in config file)\r\n",
      "2018-04-02 19:40:18,695 INFO supervisord started with pid 8\r\n",
      "2018-04-02 19:40:19,697 INFO spawned: 'program_exit' with pid 16\r\n",
      "2018-04-02 19:40:19,699 INFO spawned: 'nginx' with pid 17\r\n",
      "2018-04-02 19:40:19,700 INFO spawned: 'gunicorn' with pid 18\r\n",
      "2018-04-02 19:40:20,731 INFO success: program_exit entered RUNNING state, process has stayed up for > than 1 seconds (startsecs)\r\n",
      "2018-04-02 19:40:21.168814: I tensorflow/core/platform/cpu_feature_guard.cc:137] Your CPU supports instructions that this TensorFlow binary was not compiled to use: SSE4.1 SSE4.2 AVX AVX2 FMA\r\n",
      "2018-04-02 19:40:25,173 INFO success: nginx entered RUNNING state, process has stayed up for > than 5 seconds (startsecs)\r\n",
      "2018-04-02 19:40:31.043704: I tensorflow/core/common_runtime/gpu/gpu_device.cc:1030] Found device 0 with properties: \r\n",
      "name: Tesla K80 major: 3 minor: 7 memoryClockRate(GHz): 0.8235\r\n",
      "pciBusID: d333:00:00.0\r\n",
      "totalMemory: 11.17GiB freeMemory: 11.10GiB\r\n",
      "2018-04-02 19:40:31.043748: I tensorflow/core/common_runtime/gpu/gpu_device.cc:1120] Creating TensorFlow device (/device:GPU:0) -> (device: 0, name: Tesla K80, pci bus id: d333:00:00.0, compute capability: 3.7)\r\n",
      "2018-04-02 19:40:40,053 INFO success: gunicorn entered RUNNING state, process has stayed up for > than 20 seconds (startsecs)\r\n",
      "Executing create_scoring_func() method...\r\n",
      "Downloading data from https://github.com/adamcasson/resnet152/releases/download/v0.1/resnet152_weights_tf.h5\r\n",
      "\r\n",
      "     8192/243179624 [..............................] - ETA: 1:00\r\n",
      "   786432/243179624 [..............................] - ETA: 16s \r\n",
      "  2891776/243179624 [..............................] - ETA: 8s \r\n",
      "  7577600/243179624 [..............................] - ETA: 4s\r\n",
      " 14016512/243179624 [>.............................] - ETA: 3s\r\n",
      " 21716992/243179624 [=>............................] - ETA: 2s\r\n",
      " 29253632/243179624 [==>...........................] - ETA: 2s\r\n",
      " 35635200/243179624 [===>..........................] - ETA: 2s\r\n",
      " 44670976/243179624 [====>.........................] - ETA: 1s\r\n",
      " 53321728/243179624 [=====>........................] - ETA: 1s\r\n",
      " 55681024/243179624 [=====>........................] - ETA: 1s\r\n",
      " 62308352/243179624 [======>.......................] - ETA: 1s\r\n",
      " 66551808/243179624 [=======>......................] - ETA: 1s\r\n",
      " 75563008/243179624 [========>.....................] - ETA: 1s\r\n",
      " 80166912/243179624 [========>.....................] - ETA: 1s\r\n",
      " 85925888/243179624 [=========>....................] - ETA: 1s\r\n",
      " 89055232/243179624 [=========>....................] - ETA: 1s\r\n",
      " 93503488/243179624 [==========>...................] - ETA: 1s\r\n",
      " 97951744/243179624 [===========>..................] - ETA: 1s\r\n",
      "102383616/243179624 [===========>..................] - ETA: 1s\r\n",
      "106905600/243179624 [============>.................] - ETA: 1s\r\n",
      "113139712/243179624 [============>.................] - ETA: 1s\r\n",
      "119717888/243179624 [=============>................] - ETA: 1s\r\n",
      "124690432/243179624 [==============>...............] - ETA: 1s\r\n",
      "133513216/243179624 [===============>..............] - ETA: 1s\r\n",
      "136126464/243179624 [===============>..............] - ETA: 1s\r\n",
      "143409152/243179624 [================>.............] - ETA: 1s\r\n",
      "150167552/243179624 [=================>............] - ETA: 0s\r\n",
      "156860416/243179624 [==================>...........] - ETA: 0s\r\n",
      "162021376/243179624 [==================>...........] - ETA: 0s\r\n",
      "169222144/243179624 [===================>..........] - ETA: 0s\r\n",
      "174948352/243179624 [====================>.........] - ETA: 0s\r\n",
      "178929664/243179624 [=====================>........] - ETA: 0s\r\n",
      "185409536/243179624 [=====================>........] - ETA: 0s\r\n",
      "192430080/243179624 [======================>.......] - ETA: 0s\r\n",
      "195969024/243179624 [=======================>......] - ETA: 0s\r\n",
      "200515584/243179624 [=======================>......] - ETA: 0s\r\n",
      "207052800/243179624 [========================>.....] - ETA: 0s\r\n",
      "214704128/243179624 [=========================>....] - ETA: 0s\r\n",
      "219742208/243179624 [==========================>...] - ETA: 0s\r\n",
      "225886208/243179624 [==========================>...] - ETA: 0s\r\n",
      "233046016/243179624 [===========================>..] - ETA: 0s\r\n",
      "240009216/243179624 [============================>.] - ETA: 0s\r\n",
      "243187712/243179624 [==============================] - 2s 0us/step\r\n",
      "{\"message\": \"Model loading time: 35212.3 ms\", \"level\": \"INFO\", \"logger\": \"model_driver\", \"stack_info\": null, \"path\": \"/code/driver.py\", \"timestamp\": \"2018-04-02T19:40:56.333514Z\", \"host\": \"azure-dl-2408918338-m0s9t\", \"tags\": []}\r\n",
      "Model loading time: 35212.3 ms\r\n",
      "Initialising\r\n",
      "{\"message\": \" * Running on http://127.0.0.1:5000/ (Press CTRL+C to quit)\", \"level\": \"INFO\", \"logger\": \"werkzeug\", \"stack_info\": null, \"path\": \"/opt/conda/envs/py3.5/lib/python3.5/site-packages/werkzeug/_internal.py\", \"msg\": \" * Running on %s://%s:%d/ %s\", \"timestamp\": \"2018-04-02T19:40:56.338365Z\", \"host\": \"azure-dl-2408918338-m0s9t\", \"tags\": []}\r\n"
     ]
    }
   ],
   "source": [
    "!kubectl logs {pod_dict['items'][0]['metadata']['name']}"
   ]
  },
  {
   "cell_type": "code",
   "execution_count": 155,
   "metadata": {},
   "outputs": [
    {
     "name": "stdout",
     "output_type": "stream",
     "text": [
      "NAME       DESIRED   CURRENT   UP-TO-DATE   AVAILABLE   AGE\r\n",
      "azure-dl   1         1         1            1           12m\r\n"
     ]
    }
   ],
   "source": [
    "!kubectl get deployment"
   ]
  },
  {
   "cell_type": "markdown",
   "metadata": {},
   "source": [
    "It can take a few minutes for the service to populate the EXTERNAL-IP field below. This will be the IP you use to call the service. You can also specify an IP to use, please see the AKS documentation for further details."
   ]
  },
  {
   "cell_type": "code",
   "execution_count": 157,
   "metadata": {},
   "outputs": [
    {
     "name": "stdout",
     "output_type": "stream",
     "text": [
      "NAME       TYPE           CLUSTER-IP    EXTERNAL-IP     PORT(S)        AGE\r\n",
      "azure-dl   LoadBalancer   10.0.214.10   52.168.106.16   80:32210/TCP   13m\r\n"
     ]
    }
   ],
   "source": [
    "!kubectl get service azure-dl"
   ]
  },
  {
   "cell_type": "markdown",
   "metadata": {},
   "source": [
    "# Tear it all down"
   ]
  },
  {
   "cell_type": "markdown",
   "metadata": {},
   "source": [
    "Once you are done with your cluster you can use the following two commands to destroy it all."
   ]
  },
  {
   "cell_type": "code",
   "execution_count": 120,
   "metadata": {},
   "outputs": [
    {
     "name": "stdout",
     "output_type": "stream",
     "text": [
      "deployment \"azure-dl\" deleted\n",
      "service \"azure-dl\" deleted\n"
     ]
    }
   ],
   "source": [
    "!kubectl delete -f az-dl.json"
   ]
  },
  {
   "cell_type": "code",
   "execution_count": null,
   "metadata": {
    "collapsed": true
   },
   "outputs": [],
   "source": [
    "!az aks delete -n $aks_name -g $resource_group -y"
   ]
  },
  {
   "cell_type": "code",
   "execution_count": null,
   "metadata": {
    "collapsed": true
   },
   "outputs": [],
   "source": [
    "!az group delete --name $resource_group -y"
   ]
  }
 ],
 "metadata": {
  "kernelspec": {
   "display_name": "Python [conda env:py35]",
   "language": "python",
   "name": "conda-env-py35-py"
  },
  "language_info": {
   "codemirror_mode": {
    "name": "ipython",
    "version": 3
   },
   "file_extension": ".py",
   "mimetype": "text/x-python",
   "name": "python",
   "nbconvert_exporter": "python",
   "pygments_lexer": "ipython3",
   "version": "3.5.2"
  }
 },
 "nbformat": 4,
 "nbformat_minor": 2
}
