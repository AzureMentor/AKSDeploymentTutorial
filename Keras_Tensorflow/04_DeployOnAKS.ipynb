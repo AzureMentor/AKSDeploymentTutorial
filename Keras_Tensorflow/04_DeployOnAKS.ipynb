{
 "cells": [
  {
   "cell_type": "markdown",
   "metadata": {},
   "source": [
    "# Deploy Web App on Azure Container Services (AKS)\n"
   ]
  },
  {
   "cell_type": "markdown",
   "metadata": {},
   "source": [
    "In this notebook, we will set up an Azure Container Service which will be managed by Kubernetes. We will then take the Docker image we created earlier that contains our app and deploy it to the AKS cluster. Then, we will check everything is working by sending an image to it and getting it scored. \n",
    "\n",
    "The process is split into the following steps:\n",
    "- Define our resource names\n",
    "- Login to Azure\n",
    "- Create resource group and create AKS\n",
    "- Connect to AKS\n",
    "- Deploy our app\n",
    "- Tear it all down\n",
    "\n",
    "We assume that this notebook is running on Linux and Azure CLI is installed before proceeding."
   ]
  },
  {
   "cell_type": "markdown",
   "metadata": {},
   "source": [
    "## Setup"
   ]
  },
  {
   "cell_type": "markdown",
   "metadata": {},
   "source": [
    "Below are the various name definitions for the resources needed to setup AKS as well as the name of the Docker image we will be using. If you wish to use the image that you previously pushed to your account, make sure you change this."
   ]
  },
  {
   "cell_type": "code",
   "execution_count": 1,
   "metadata": {},
   "outputs": [],
   "source": [
    "# Please modify the below as you see fit\n",
    "resource_group = \"<RESOURCE_GROUP>\" \n",
    "aks_name = \"<AKS_CLUSTER_NAME>\"\n",
    "location = \"eastus\"\n",
    "\n",
    "docker_login = '<YOUR_DOCKER_LOGIN>'\n",
    "image_name = docker_login + '/kerastf-gpu' # 'fboylu/kerastf-gpu' Feel free to use this image if you want to \n",
    "                                           # skip creating your own container\n",
    "selected_subscription = \"'<YOUR_SUBSCRIPTION>'\" # If you have multiple subscriptions select \n",
    "                                                # the subscription you want to use here"
   ]
  },
  {
   "cell_type": "markdown",
   "metadata": {},
   "source": [
    "## Azure account login"
   ]
  },
  {
   "cell_type": "markdown",
   "metadata": {},
   "source": [
    "The command below will initiate a login to your Azure account. It will pop up with an url to go to where you will enter a one off code and log into your Azure account using your browser."
   ]
  },
  {
   "cell_type": "code",
   "execution_count": null,
   "metadata": {},
   "outputs": [],
   "source": [
    "!az login -o table"
   ]
  },
  {
   "cell_type": "code",
   "execution_count": null,
   "metadata": {},
   "outputs": [],
   "source": [
    "!az account set --subscription $selected_subscription"
   ]
  },
  {
   "cell_type": "code",
   "execution_count": null,
   "metadata": {},
   "outputs": [],
   "source": [
    "!az account show"
   ]
  },
  {
   "cell_type": "markdown",
   "metadata": {},
   "source": [
    "You will also need to register the container service resources on your subscription if you haven't already done so."
   ]
  },
  {
   "cell_type": "code",
   "execution_count": null,
   "metadata": {},
   "outputs": [],
   "source": [
    "!az provider register -n Microsoft.ContainerService"
   ]
  },
  {
   "cell_type": "code",
   "execution_count": null,
   "metadata": {},
   "outputs": [],
   "source": [
    "!az provider show -n Microsoft.ContainerService"
   ]
  },
  {
   "cell_type": "markdown",
   "metadata": {},
   "source": [
    "## Create resources and dependencies"
   ]
  },
  {
   "cell_type": "markdown",
   "metadata": {},
   "source": [
    "### Create resource group and AKS cluster"
   ]
  },
  {
   "cell_type": "markdown",
   "metadata": {},
   "source": [
    "Azure encourages the use of groups to organize all the Azure components you deploy. That way it is easier to find them but also we can delete a number of resources simply by deleting the group."
   ]
  },
  {
   "cell_type": "code",
   "execution_count": null,
   "metadata": {},
   "outputs": [],
   "source": [
    "!az group create --name $resource_group --location $location"
   ]
  },
  {
   "cell_type": "markdown",
   "metadata": {},
   "source": [
    "Below, we create the AKS cluster in the resource group we created earlier. This could take 5-10 minutes."
   ]
  },
  {
   "cell_type": "code",
   "execution_count": 8,
   "metadata": {},
   "outputs": [
    {
     "name": "stdout",
     "output_type": "stream",
     "text": [
      "\u001b[K - Finished ..{\n",
      "  \"aadProfile\": null,\n",
      "  \"addonProfiles\": null,\n",
      "  \"agentPoolProfiles\": [\n",
      "    {\n",
      "      \"count\": 1,\n",
      "      \"dnsPrefix\": null,\n",
      "      \"fqdn\": null,\n",
      "      \"maxPods\": 110,\n",
      "      \"name\": \"nodepool1\",\n",
      "      \"osDiskSizeGb\": null,\n",
      "      \"osType\": \"Linux\",\n",
      "      \"ports\": null,\n",
      "      \"storageProfile\": \"ManagedDisks\",\n",
      "      \"vmSize\": \"Standard_NC6\",\n",
      "      \"vnetSubnetId\": null\n",
      "    }\n",
      "  ],\n",
      "  \"dnsPrefix\": \"fbAKSClust-fbaksrg-e984a9\",\n",
      "  \"enableRbac\": true,\n",
      "  \"fqdn\": \"fbaksclust-fbaksrg-e984a9-bf6af1df.hcp.eastus.azmk8s.io\",\n",
      "  \"id\": \"/subscriptions/XXXXXXXXXXXXXXXXXXXXXXXXXXXXXXXXXXXX/resourcegroups/fbaksrg/providers/Microsoft.ContainerService/managedClusters/fbAKSCluster\",\n",
      "  \"kubernetesVersion\": \"1.9.9\",\n",
      "  \"linuxProfile\": {\n",
      "    \"adminUsername\": \"azureuser\",\n",
      "    \"ssh\": {\n",
      "      \"publicKeys\": [\n",
      "        {\n",
      "          \"keyData\": \"ssh-rsa AAAAB3NzaC1yc2EAAAADAQABAAABAQDA912ocZhmAUJbpPW/mOg5anphH0ehCLNlgofEvuCCwIV/2oRBL2uC6F2fDImkOjwSLQwOdhK+IvLOBUTdBOSXwOG+Dv6kd0n+YIKrykI60UJJjx+gYw3lFqeSgkjavKQpcQO1jhnemsn4wM6B3dPJVp8fDU86C3KM7KkoJkfgaQrJ1pfnzqEE+sFYrguhAjHJvJ+tz+JY0quG5tK5ARm7VMLW7JOxR1KFGNN4Kxcax0S4r2xG1px0rUFht4hG6isASbVsvIA2+3DnfWG7wNNeX5zKITJqUFH48uuZqN/QPam+2m03oibEzEu6B/C8KSOkGnpKsJfiGNykqlahNILz\"\n",
      "        }\n",
      "      ]\n",
      "    }\n",
      "  },\n",
      "  \"location\": \"eastus\",\n",
      "  \"name\": \"fbAKSCluster\",\n",
      "  \"networkProfile\": {\n",
      "    \"dnsServiceIp\": \"10.0.0.10\",\n",
      "    \"dockerBridgeCidr\": \"172.17.0.1/16\",\n",
      "    \"networkPlugin\": \"kubenet\",\n",
      "    \"networkPolicy\": null,\n",
      "    \"podCidr\": \"10.244.0.0/16\",\n",
      "    \"serviceCidr\": \"10.0.0.0/16\"\n",
      "  },\n",
      "  \"nodeResourceGroup\": \"MC_fbAKSClust_fbaksrg_eastus\",\n",
      "  \"provisioningState\": \"Succeeded\",\n",
      "  \"resourceGroup\": \"fbaksrg\",\n",
      "  \"servicePrincipalProfile\": {\n",
      "    \"clientId\": \"367110e1-3cb9-4259-ad39-314778cdde89\",\n",
      "    \"keyVaultSecretRef\": null,\n",
      "    \"secret\": null\n",
      "  },\n",
      "  \"tags\": null,\n",
      "  \"type\": \"Microsoft.ContainerService/ManagedClusters\"\n",
      "}\n",
      "\u001b[0mCPU times: user 8.19 s, sys: 3.59 s, total: 11.8 s\n",
      "Wall time: 13min 48s\n"
     ]
    }
   ],
   "source": [
    "%%time\n",
    "!az aks create --resource-group $resource_group --name $aks_name --node-count 1 --generate-ssh-keys -s Standard_NC6"
   ]
  },
  {
   "cell_type": "markdown",
   "metadata": {},
   "source": [
    "### Install kubectl CLI"
   ]
  },
  {
   "cell_type": "markdown",
   "metadata": {},
   "source": [
    "To connect to the Kubernetes cluster, we will use kubectl, the Kubernetes command-line client. To install, run the following:"
   ]
  },
  {
   "cell_type": "code",
   "execution_count": 9,
   "metadata": {},
   "outputs": [
    {
     "name": "stdout",
     "output_type": "stream",
     "text": [
      "\u001b[33mDownloading client to /usr/local/bin/kubectl from https://storage.googleapis.com/kubernetes-release/release/v1.11.0/bin/linux/amd64/kubectl\u001b[0m\n",
      "\u001b[33mPlease ensure that /usr/local/bin is in your search PATH, so the `kubectl` command can be found.\u001b[0m\n"
     ]
    }
   ],
   "source": [
    "!sudo env \"PATH=$PATH\" az aks install-cli"
   ]
  },
  {
   "cell_type": "markdown",
   "metadata": {},
   "source": [
    "## Connect to AKS cluster"
   ]
  },
  {
   "cell_type": "markdown",
   "metadata": {},
   "source": [
    "To configure kubectl to connect to the Kubernetes cluster, run the following command:"
   ]
  },
  {
   "cell_type": "code",
   "execution_count": null,
   "metadata": {},
   "outputs": [],
   "source": [
    "!az aks get-credentials --resource-group $resource_group --name $aks_name"
   ]
  },
  {
   "cell_type": "markdown",
   "metadata": {},
   "source": [
    "Let's verify connection by listing the nodes."
   ]
  },
  {
   "cell_type": "code",
   "execution_count": 23,
   "metadata": {},
   "outputs": [
    {
     "name": "stdout",
     "output_type": "stream",
     "text": [
      "NAME                       STATUS    ROLES     AGE       VERSION\r\n",
      "aks-nodepool1-99663626-0   Ready     agent     10m       v1.9.9\r\n"
     ]
    }
   ],
   "source": [
    "!kubectl get nodes"
   ]
  },
  {
   "cell_type": "markdown",
   "metadata": {},
   "source": [
    "Let's check the pods on our cluster."
   ]
  },
  {
   "cell_type": "code",
   "execution_count": 24,
   "metadata": {},
   "outputs": [
    {
     "name": "stdout",
     "output_type": "stream",
     "text": [
      "NAMESPACE     NAME                                    READY     STATUS    RESTARTS   AGE\r\n",
      "kube-system   azureproxy-5fc9fc6976-6vrs8             1/1       Running   3          9m\r\n",
      "kube-system   heapster-56c6f9566f-n54mv               2/2       Running   0          9m\r\n",
      "kube-system   kube-dns-v20-7c556f89c5-2njl6           3/3       Running   0          9m\r\n",
      "kube-system   kube-dns-v20-7c556f89c5-2s9zh           3/3       Running   0          9m\r\n",
      "kube-system   kube-proxy-9l4wb                        1/1       Running   0          9m\r\n",
      "kube-system   kube-svc-redirect-grg79                 1/1       Running   0          9m\r\n",
      "kube-system   kubernetes-dashboard-6c6d86c85c-pxlnn   1/1       Running   4          9m\r\n",
      "kube-system   tunnelfront-64857b9447-gc8h2            1/1       Running   0          9m\r\n"
     ]
    }
   ],
   "source": [
    "!kubectl get pods --all-namespaces"
   ]
  },
  {
   "cell_type": "markdown",
   "metadata": {},
   "source": [
    "## Deploy application"
   ]
  },
  {
   "cell_type": "markdown",
   "metadata": {},
   "source": [
    "Below we define our Kubernetes manifest file for our service and load balancer. Note that we have to specify the volume mounts to the drivers that are located on the node."
   ]
  },
  {
   "cell_type": "code",
   "execution_count": 25,
   "metadata": {},
   "outputs": [],
   "source": [
    "app_template = {\n",
    "  \"apiVersion\": \"apps/v1beta1\",\n",
    "  \"kind\": \"Deployment\",\n",
    "  \"metadata\": {\n",
    "      \"name\": \"azure-dl\"\n",
    "  },\n",
    "  \"spec\":{\n",
    "      \"replicas\":1,\n",
    "      \"template\":{\n",
    "          \"metadata\":{\n",
    "              \"labels\":{\n",
    "                  \"app\":\"azure-dl\"\n",
    "              }\n",
    "          },\n",
    "          \"spec\":{\n",
    "              \"containers\":[\n",
    "                  {\n",
    "                      \"name\": \"azure-dl\",\n",
    "                      \"image\": image_name,\n",
    "                      \"env\":[\n",
    "                          {\n",
    "                              \"name\": \"LD_LIBRARY_PATH\",\n",
    "                              \"value\": \"$LD_LIBRARY_PATH:/usr/local/nvidia/lib64:/opt/conda/envs/py3.5/lib\"\n",
    "                          }\n",
    "                      ],\n",
    "                      \"ports\":[\n",
    "                          {\n",
    "                              \"containerPort\":80,\n",
    "                              \"name\":\"model\"\n",
    "                          }\n",
    "                      ],\n",
    "                      \"volumeMounts\":[\n",
    "                          {\n",
    "                              \"mountPath\":\"/usr/local/nvidia\",\n",
    "                              \"name\": \"nvidia\",\n",
    "                          }\n",
    "                      ],\n",
    "                      \"resources\":{\n",
    "                           \"requests\":{\n",
    "                               \"alpha.kubernetes.io/nvidia-gpu\": 1\n",
    "                           },\n",
    "                           \"limits\":{\n",
    "                               \"alpha.kubernetes.io/nvidia-gpu\": 1\n",
    "                           }\n",
    "                       }  \n",
    "                  }\n",
    "              ],\n",
    "              \"volumes\":[\n",
    "                  {\n",
    "                      \"name\": \"nvidia\",\n",
    "                      \"hostPath\":{\n",
    "                          \"path\":\"/usr/local/nvidia\"\n",
    "                      },\n",
    "                  },\n",
    "              ]\n",
    "          }\n",
    "      }\n",
    "  }\n",
    "}\n",
    "\n",
    "service_temp = {\n",
    "  \"apiVersion\": \"v1\",\n",
    "  \"kind\": \"Service\",\n",
    "  \"metadata\": {\n",
    "      \"name\": \"azure-dl\"\n",
    "  },\n",
    "  \"spec\":{\n",
    "      \"type\": \"LoadBalancer\",\n",
    "      \"ports\":[\n",
    "          {\n",
    "              \"port\":80\n",
    "          }\n",
    "      ],\n",
    "      \"selector\":{\n",
    "            \"app\":\"azure-dl\"\n",
    "      }\n",
    "   }\n",
    "}"
   ]
  },
  {
   "cell_type": "code",
   "execution_count": 26,
   "metadata": {},
   "outputs": [],
   "source": [
    "import json\n",
    "def write_json_to_file(json_dict, filename, mode='w'):\n",
    "    with open(filename, mode) as outfile:\n",
    "        json.dump(json_dict, outfile, indent=4, sort_keys=True)\n",
    "        outfile.write('\\n\\n')"
   ]
  },
  {
   "cell_type": "code",
   "execution_count": 27,
   "metadata": {},
   "outputs": [],
   "source": [
    "write_json_to_file(app_template, 'az-dl.json')"
   ]
  },
  {
   "cell_type": "code",
   "execution_count": 28,
   "metadata": {},
   "outputs": [],
   "source": [
    "write_json_to_file(service_temp, 'az-dl.json', mode='a')"
   ]
  },
  {
   "cell_type": "markdown",
   "metadata": {},
   "source": [
    "Let's check the manifest created."
   ]
  },
  {
   "cell_type": "code",
   "execution_count": 29,
   "metadata": {},
   "outputs": [
    {
     "name": "stdout",
     "output_type": "stream",
     "text": [
      "{\r\n",
      "    \"apiVersion\": \"apps/v1beta1\",\r\n",
      "    \"kind\": \"Deployment\",\r\n",
      "    \"metadata\": {\r\n",
      "        \"name\": \"azure-dl\"\r\n",
      "    },\r\n",
      "    \"spec\": {\r\n",
      "        \"replicas\": 1,\r\n",
      "        \"template\": {\r\n",
      "            \"metadata\": {\r\n",
      "                \"labels\": {\r\n",
      "                    \"app\": \"azure-dl\"\r\n",
      "                }\r\n",
      "            },\r\n",
      "            \"spec\": {\r\n",
      "                \"containers\": [\r\n",
      "                    {\r\n",
      "                        \"env\": [\r\n",
      "                            {\r\n",
      "                                \"name\": \"LD_LIBRARY_PATH\",\r\n",
      "                                \"value\": \"$LD_LIBRARY_PATH:/usr/local/nvidia/lib64:/opt/conda/envs/py3.5/lib\"\r\n",
      "                            }\r\n",
      "                        ],\r\n",
      "                        \"image\": \"fboylu/kerastf-gpu\",\r\n",
      "                        \"name\": \"azure-dl\",\r\n",
      "                        \"ports\": [\r\n",
      "                            {\r\n",
      "                                \"containerPort\": 80,\r\n",
      "                                \"name\": \"model\"\r\n",
      "                            }\r\n",
      "                        ],\r\n",
      "                        \"resources\": {\r\n",
      "                            \"limits\": {\r\n",
      "                                \"alpha.kubernetes.io/nvidia-gpu\": 1\r\n",
      "                            },\r\n",
      "                            \"requests\": {\r\n",
      "                                \"alpha.kubernetes.io/nvidia-gpu\": 1\r\n",
      "                            }\r\n",
      "                        },\r\n",
      "                        \"volumeMounts\": [\r\n",
      "                            {\r\n",
      "                                \"mountPath\": \"/usr/local/nvidia\",\r\n",
      "                                \"name\": \"nvidia\"\r\n",
      "                            }\r\n",
      "                        ]\r\n",
      "                    }\r\n",
      "                ],\r\n",
      "                \"volumes\": [\r\n",
      "                    {\r\n",
      "                        \"hostPath\": {\r\n",
      "                            \"path\": \"/usr/local/nvidia\"\r\n",
      "                        },\r\n",
      "                        \"name\": \"nvidia\"\r\n",
      "                    }\r\n",
      "                ]\r\n",
      "            }\r\n",
      "        }\r\n",
      "    }\r\n",
      "}\r\n",
      "\r\n",
      "{\r\n",
      "    \"apiVersion\": \"v1\",\r\n",
      "    \"kind\": \"Service\",\r\n",
      "    \"metadata\": {\r\n",
      "        \"name\": \"azure-dl\"\r\n",
      "    },\r\n",
      "    \"spec\": {\r\n",
      "        \"ports\": [\r\n",
      "            {\r\n",
      "                \"port\": 80\r\n",
      "            }\r\n",
      "        ],\r\n",
      "        \"selector\": {\r\n",
      "            \"app\": \"azure-dl\"\r\n",
      "        },\r\n",
      "        \"type\": \"LoadBalancer\"\r\n",
      "    }\r\n",
      "}\r\n",
      "\r\n"
     ]
    }
   ],
   "source": [
    "!cat az-dl.json"
   ]
  },
  {
   "cell_type": "markdown",
   "metadata": {},
   "source": [
    "Next, we will use kubectl create command to deploy our application."
   ]
  },
  {
   "cell_type": "code",
   "execution_count": 30,
   "metadata": {},
   "outputs": [
    {
     "name": "stdout",
     "output_type": "stream",
     "text": [
      "deployment.apps/azure-dl created\n",
      "service/azure-dl created\n"
     ]
    }
   ],
   "source": [
    "!kubectl create -f az-dl.json"
   ]
  },
  {
   "cell_type": "markdown",
   "metadata": {},
   "source": [
    "Let's check if the pod is deployed. It may take as many as 10 minutes for the container to be ready."
   ]
  },
  {
   "cell_type": "code",
   "execution_count": 35,
   "metadata": {},
   "outputs": [
    {
     "name": "stdout",
     "output_type": "stream",
     "text": [
      "NAMESPACE     NAME                                    READY     STATUS    RESTARTS   AGE\r\n",
      "default       azure-dl-b47cf8cdd-85nnt                1/1       Running   0          9m\r\n",
      "kube-system   azureproxy-5fc9fc6976-6vrs8             1/1       Running   3          20m\r\n",
      "kube-system   heapster-56c6f9566f-n54mv               2/2       Running   0          20m\r\n",
      "kube-system   kube-dns-v20-7c556f89c5-2njl6           3/3       Running   0          20m\r\n",
      "kube-system   kube-dns-v20-7c556f89c5-2s9zh           3/3       Running   0          20m\r\n",
      "kube-system   kube-proxy-9l4wb                        1/1       Running   0          20m\r\n",
      "kube-system   kube-svc-redirect-grg79                 1/1       Running   0          20m\r\n",
      "kube-system   kubernetes-dashboard-6c6d86c85c-pxlnn   1/1       Running   4          20m\r\n",
      "kube-system   tunnelfront-64857b9447-gc8h2            1/1       Running   0          20m\r\n"
     ]
    }
   ],
   "source": [
    "!kubectl get pods --all-namespaces"
   ]
  },
  {
   "cell_type": "markdown",
   "metadata": {},
   "source": [
    "If anything goes wrong you can use the commands below to observe the events on the node as well as review the logs."
   ]
  },
  {
   "cell_type": "code",
   "execution_count": 36,
   "metadata": {},
   "outputs": [
    {
     "name": "stdout",
     "output_type": "stream",
     "text": [
      "LAST SEEN   FIRST SEEN   COUNT     NAME                                        KIND         SUBOBJECT                   TYPE      REASON                    SOURCE                                 MESSAGE\r\n",
      "22m         22m          1         aks-nodepool1-99663626-0.1540f92fe19e16f6   Node                                     Normal    Starting                  kubelet, aks-nodepool1-99663626-0      Starting kubelet.\r\n",
      "21m         22m          8         aks-nodepool1-99663626-0.1540f92ff49c8622   Node                                     Normal    NodeHasSufficientDisk     kubelet, aks-nodepool1-99663626-0      Node aks-nodepool1-99663626-0 status is now: NodeHasSufficientDisk\r\n",
      "21m         22m          8         aks-nodepool1-99663626-0.1540f92ff49cd5d2   Node                                     Normal    NodeHasSufficientMemory   kubelet, aks-nodepool1-99663626-0      Node aks-nodepool1-99663626-0 status is now: NodeHasSufficientMemory\r\n",
      "21m         22m          7         aks-nodepool1-99663626-0.1540f92ff49d2456   Node                                     Normal    NodeHasNoDiskPressure     kubelet, aks-nodepool1-99663626-0      Node aks-nodepool1-99663626-0 status is now: NodeHasNoDiskPressure\r\n",
      "22m         22m          1         aks-nodepool1-99663626-0.1540f92ff5806894   Node                                     Normal    NodeAllocatableEnforced   kubelet, aks-nodepool1-99663626-0      Updated Node Allocatable limit across pods\r\n",
      "20m         20m          1         aks-nodepool1-99663626-0.1540f95024711624   Node                                     Normal    RegisteredNode            node-controller                        Node aks-nodepool1-99663626-0 event: Registered Node aks-nodepool1-99663626-0 in Controller\r\n",
      "19m         19m          1         aks-nodepool1-99663626-0.1540f957993c876e   Node                                     Normal    Starting                  kube-proxy, aks-nodepool1-99663626-0   Starting kube-proxy.\r\n",
      "9m          9m           1         azure-dl-b47cf8cdd-85nnt.1540f9e015cddd50   Pod                                      Normal    Scheduled                 default-scheduler                      Successfully assigned azure-dl-b47cf8cdd-85nnt to aks-nodepool1-99663626-0\r\n",
      "9m          9m           1         azure-dl-b47cf8cdd-85nnt.1540f9e020cab953   Pod                                      Normal    SuccessfulMountVolume     kubelet, aks-nodepool1-99663626-0      MountVolume.SetUp succeeded for volume \"nvidia\" \r\n",
      "9m          9m           1         azure-dl-b47cf8cdd-85nnt.1540f9e0219d0c16   Pod                                      Normal    SuccessfulMountVolume     kubelet, aks-nodepool1-99663626-0      MountVolume.SetUp succeeded for volume \"default-token-glm6g\" \r\n",
      "9m          9m           1         azure-dl-b47cf8cdd-85nnt.1540f9e06dfb0c22   Pod          spec.containers{azure-dl}   Normal    Pulling                   kubelet, aks-nodepool1-99663626-0      pulling image \"fboylu/kerastf-gpu\"\r\n",
      "2m          2m           1         azure-dl-b47cf8cdd-85nnt.1540fa49147c9ec6   Pod          spec.containers{azure-dl}   Normal    Pulled                    kubelet, aks-nodepool1-99663626-0      Successfully pulled image \"fboylu/kerastf-gpu\"\r\n",
      "2m          2m           1         azure-dl-b47cf8cdd-85nnt.1540fa4e27a97f10   Pod          spec.containers{azure-dl}   Normal    Created                   kubelet, aks-nodepool1-99663626-0      Created container\r\n",
      "2m          2m           1         azure-dl-b47cf8cdd-85nnt.1540fa4e30f7ace8   Pod          spec.containers{azure-dl}   Normal    Started                   kubelet, aks-nodepool1-99663626-0      Started container\r\n",
      "9m          9m           1         azure-dl-b47cf8cdd.1540f9e013f7dba0         ReplicaSet                               Normal    SuccessfulCreate          replicaset-controller                  Created pod: azure-dl-b47cf8cdd-85nnt\r\n",
      "9m          9m           1         azure-dl.1540f9e00f798921                   Deployment                               Normal    ScalingReplicaSet         deployment-controller                  Scaled up replica set azure-dl-b47cf8cdd to 1\r\n",
      "9m          9m           1         azure-dl.1540f9e01973748a                   Service                                  Normal    EnsuringLoadBalancer      service-controller                     Ensuring load balancer\r\n",
      "7m          7m           1         azure-dl.1540fa0212647898                   Service                                  Normal    EnsuredLoadBalancer       service-controller                     Ensured load balancer\r\n"
     ]
    }
   ],
   "source": [
    "!kubectl get events"
   ]
  },
  {
   "cell_type": "markdown",
   "metadata": {},
   "source": [
    "Check the logs for the application pod."
   ]
  },
  {
   "cell_type": "code",
   "execution_count": 37,
   "metadata": {},
   "outputs": [],
   "source": [
    "pod_json = !kubectl get pods -o json\n",
    "pod_dict = json.loads(''.join(pod_json))"
   ]
  },
  {
   "cell_type": "code",
   "execution_count": 38,
   "metadata": {},
   "outputs": [
    {
     "name": "stdout",
     "output_type": "stream",
     "text": [
      "2018-07-13 16:24:47,063 CRIT Supervisor running as root (no user in config file)\r\n",
      "2018-07-13 16:24:47,065 INFO supervisord started with pid 1\r\n",
      "2018-07-13 16:24:48,067 INFO spawned: 'program_exit' with pid 9\r\n",
      "2018-07-13 16:24:48,068 INFO spawned: 'nginx' with pid 10\r\n",
      "2018-07-13 16:24:48,070 INFO spawned: 'gunicorn' with pid 11\r\n",
      "2018-07-13 16:24:49,095 INFO success: program_exit entered RUNNING state, process has stayed up for > than 1 seconds (startsecs)\r\n",
      "2018-07-13 16:24:49.349528: I tensorflow/core/platform/cpu_feature_guard.cc:137] Your CPU supports instructions that this TensorFlow binary was not compiled to use: SSE4.1 SSE4.2 AVX AVX2 FMA\r\n",
      "2018-07-13 16:24:49.509078: I tensorflow/core/common_runtime/gpu/gpu_device.cc:1030] Found device 0 with properties: \r\n",
      "name: Tesla K80 major: 3 minor: 7 memoryClockRate(GHz): 0.8235\r\n",
      "pciBusID: 1bcf:00:00.0\r\n",
      "totalMemory: 11.17GiB freeMemory: 11.10GiB\r\n",
      "2018-07-13 16:24:49.509123: I tensorflow/core/common_runtime/gpu/gpu_device.cc:1120] Creating TensorFlow device (/device:GPU:0) -> (device: 0, name: Tesla K80, pci bus id: 1bcf:00:00.0, compute capability: 3.7)\r\n",
      "2018-07-13 16:24:53,513 INFO success: nginx entered RUNNING state, process has stayed up for > than 5 seconds (startsecs)\r\n",
      "Downloading data from https://github.com/adamcasson/resnet152/releases/download/v0.1/resnet152_weights_tf.h5\r\n",
      "\r\n",
      "     8192/243179624 [..............................] - ETA: 1:03\r\n",
      "   876544/243179624 [..............................] - ETA: 14s \r\n",
      "  3121152/243179624 [..............................] - ETA: 7s \r\n",
      "  8454144/243179624 [>.............................] - ETA: 4s\r\n",
      " 16900096/243179624 [=>............................] - ETA: 2s\r\n",
      " 25214976/243179624 [==>...........................] - ETA: 2s\r\n",
      " 33611776/243179624 [===>..........................] - ETA: 1s\r\n",
      " 42246144/243179624 [====>.........................] - ETA: 1s\r\n",
      " 51691520/243179624 [=====>........................] - ETA: 1s\r\n",
      " 55484416/243179624 [=====>........................] - ETA: 1s\r\n",
      " 64143360/243179624 [======>.......................] - ETA: 1s\r\n",
      " 69156864/243179624 [=======>......................] - ETA: 1s\r\n",
      " 74129408/243179624 [========>.....................] - ETA: 1s\r\n",
      " 79183872/243179624 [========>.....................] - ETA: 1s\r\n",
      " 84164608/243179624 [=========>....................] - ETA: 1s\r\n",
      " 89153536/243179624 [=========>....................] - ETA: 1s\r\n",
      " 94134272/243179624 [==========>...................] - ETA: 1s\r\n",
      " 99213312/243179624 [===========>..................] - ETA: 1s\r\n",
      "104128512/243179624 [===========>..................] - ETA: 1s\r\n",
      "106905600/243179624 [============>.................] - ETA: 1s\r\n",
      "115138560/243179624 [=============>................] - ETA: 1s\r\n",
      "120709120/243179624 [=============>................] - ETA: 1s\r\n",
      "125714432/243179624 [==============>...............] - ETA: 1s\r\n",
      "128819200/243179624 [==============>...............] - ETA: 1s\r\n",
      "135659520/243179624 [===============>..............] - ETA: 1s\r\n",
      "143671296/243179624 [================>.............] - ETA: 0s\r\n",
      "150069248/243179624 [=================>............] - ETA: 0s\r\n",
      "158580736/243179624 [==================>...........] - ETA: 0s\r\n",
      "161947648/243179624 [==================>...........] - ETA: 0s\r\n",
      "169451520/243179624 [===================>..........] - ETA: 0s\r\n",
      "178184192/243179624 [====================>.........] - ETA: 0s\r\n",
      "186458112/243179624 [======================>.......] - ETA: 0s\r\n",
      "193134592/243179624 [======================>.......] - ETA: 0s\r\n",
      "198189056/243179624 [=======================>......] - ETA: 0s\r\n",
      "199622656/243179624 [=======================>......] - ETA: 0s\r\n",
      "206790656/243179624 [========================>.....] - ETA: 0s\r\n",
      "213966848/243179624 [=========================>....] - ETA: 0s\r\n",
      "219529216/243179624 [==========================>...] - ETA: 0s\r\n",
      "224403456/243179624 [==========================>...] - ETA: 0s\r\n",
      "230817792/243179624 [===========================>..] - ETA: 0s\r\n",
      "235831296/243179624 [============================>.] - ETA: 0s\r\n",
      "240476160/243179624 [============================>.] - ETA: 0s\r\n",
      "243187712/243179624 [==============================] - 2s 0us/step\r\n",
      "2018-07-13 16:25:08,672 INFO success: gunicorn entered RUNNING state, process has stayed up for > than 20 seconds (startsecs)\r\n",
      "{\"path\": \"/code/driver.py\", \"stack_info\": null, \"tags\": [], \"message\": \"Model loading time: 24844.13 ms\", \"timestamp\": \"2018-07-13T16:25:14.160424Z\", \"host\": \"azure-dl-b47cf8cdd-85nnt\", \"logger\": \"model_driver\", \"level\": \"INFO\"}\r\n",
      "Initialising\r\n",
      "{\"path\": \"/opt/conda/envs/py3.5/lib/python3.5/site-packages/werkzeug/_internal.py\", \"stack_info\": null, \"msg\": \" * Running on %s://%s:%d/ %s\", \"tags\": [], \"message\": \" * Running on http://127.0.0.1:5000/ (Press CTRL+C to quit)\", \"timestamp\": \"2018-07-13T16:25:14.165169Z\", \"host\": \"azure-dl-b47cf8cdd-85nnt\", \"logger\": \"werkzeug\", \"level\": \"INFO\"}\r\n"
     ]
    }
   ],
   "source": [
    "!kubectl logs {pod_dict['items'][0]['metadata']['name']}"
   ]
  },
  {
   "cell_type": "code",
   "execution_count": 39,
   "metadata": {},
   "outputs": [
    {
     "name": "stdout",
     "output_type": "stream",
     "text": [
      "NAME       DESIRED   CURRENT   UP-TO-DATE   AVAILABLE   AGE\r\n",
      "azure-dl   1         1         1            1           10m\r\n"
     ]
    }
   ],
   "source": [
    "!kubectl get deployment"
   ]
  },
  {
   "cell_type": "markdown",
   "metadata": {},
   "source": [
    "It can take a few minutes for the service to populate the EXTERNAL-IP field below. This will be the IP you use to call the service. You can also specify an IP to use, please see the AKS documentation for further details."
   ]
  },
  {
   "cell_type": "code",
   "execution_count": 40,
   "metadata": {},
   "outputs": [
    {
     "name": "stdout",
     "output_type": "stream",
     "text": [
      "NAME       TYPE           CLUSTER-IP   EXTERNAL-IP      PORT(S)        AGE\r\n",
      "azure-dl   LoadBalancer   10.0.77.60   40.117.185.152   80:30823/TCP   10m\r\n"
     ]
    }
   ],
   "source": [
    "!kubectl get service azure-dl"
   ]
  },
  {
   "cell_type": "markdown",
   "metadata": {},
   "source": [
    "Next, we will [test our web application deployed on AKS](05_TestWebApp.ipynb). Once, we are done with all the notebooks of the tutorial, below instructions can be used to delete the cluster and free resources."
   ]
  },
  {
   "cell_type": "markdown",
   "metadata": {},
   "source": [
    "# Tear it all down"
   ]
  },
  {
   "cell_type": "markdown",
   "metadata": {},
   "source": [
    "Once you are done with your cluster you can use the following two commands to destroy it all."
   ]
  },
  {
   "cell_type": "code",
   "execution_count": 42,
   "metadata": {},
   "outputs": [
    {
     "name": "stdout",
     "output_type": "stream",
     "text": [
      "deployment.apps \"azure-dl\" deleted\n",
      "service \"azure-dl\" deleted\n"
     ]
    }
   ],
   "source": [
    "!kubectl delete -f az-dl.json"
   ]
  },
  {
   "cell_type": "code",
   "execution_count": 43,
   "metadata": {},
   "outputs": [
    {
     "name": "stdout",
     "output_type": "stream",
     "text": [
      "\u001b[K\u001b[0minished .."
     ]
    }
   ],
   "source": [
    "!az aks delete -n $aks_name -g $resource_group -y"
   ]
  },
  {
   "cell_type": "code",
   "execution_count": 44,
   "metadata": {},
   "outputs": [
    {
     "name": "stdout",
     "output_type": "stream",
     "text": [
      "\u001b[K\u001b[0minished .."
     ]
    }
   ],
   "source": [
    "!az group delete --name $resource_group -y"
   ]
  },
  {
   "cell_type": "code",
   "execution_count": null,
   "metadata": {},
   "outputs": [],
   "source": []
  }
 ],
 "metadata": {
  "kernelspec": {
   "display_name": "Python [conda env:AKSDeploymentKeras]",
   "language": "python",
   "name": "conda-env-AKSDeploymentKeras-py"
  },
  "language_info": {
   "codemirror_mode": {
    "name": "ipython",
    "version": 3
   },
   "file_extension": ".py",
   "mimetype": "text/x-python",
   "name": "python",
   "nbconvert_exporter": "python",
   "pygments_lexer": "ipython3",
   "version": "3.5.5"
  }
 },
 "nbformat": 4,
 "nbformat_minor": 2
}
