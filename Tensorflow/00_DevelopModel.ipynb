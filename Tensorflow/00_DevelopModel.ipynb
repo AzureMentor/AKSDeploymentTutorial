{
 "cells": [
  {
   "cell_type": "markdown",
   "metadata": {},
   "source": [
    "# Develop Model\n",
    "In this notebook we are going to go through the steps to develop the code around our model (ResNet152). We will look at how to load the model, process the data into an appropriate format and call it."
   ]
  },
  {
   "cell_type": "code",
   "execution_count": 1,
   "metadata": {
    "collapsed": true
   },
   "outputs": [],
   "source": [
    "import numpy as np\n",
    "import tensorflow as tf\n",
    "from IPython.display import Image as show_image\n",
    "from PIL import Image\n",
    "from tensorflow.contrib.slim.nets import resnet_v1"
   ]
  },
  {
   "cell_type": "markdown",
   "metadata": {},
   "source": [
    "We download the model checkpoint."
   ]
  },
  {
   "cell_type": "code",
   "execution_count": 2,
   "metadata": {},
   "outputs": [
    {
     "name": "stdout",
     "output_type": "stream",
     "text": [
      "--2018-04-11 09:14:36--  http://download.tensorflow.org/models/resnet_v1_152_2016_08_28.tar.gz\n",
      "Resolving download.tensorflow.org (download.tensorflow.org)... 216.58.216.176, 2607:f8b0:400a:807::2010\n",
      "Connecting to download.tensorflow.org (download.tensorflow.org)|216.58.216.176|:80... connected.\n",
      "HTTP request sent, awaiting response... 200 OK\n",
      "Length: 224342140 (214M) [application/x-tar]\n",
      "Saving to: ‘resnet_v1_152_2016_08_28.tar.gz’\n",
      "\n",
      "resnet_v1_152_2016_ 100%[===================>] 213.95M  56.7MB/s    in 4.2s    \n",
      "\n",
      "2018-04-11 09:14:40 (50.6 MB/s) - ‘resnet_v1_152_2016_08_28.tar.gz’ saved [224342140/224342140]\n",
      "\n"
     ]
    }
   ],
   "source": [
    "!wget http://download.tensorflow.org/models/resnet_v1_152_2016_08_28.tar.gz"
   ]
  },
  {
   "cell_type": "code",
   "execution_count": 3,
   "metadata": {},
   "outputs": [
    {
     "name": "stdout",
     "output_type": "stream",
     "text": [
      "resnet_v1_152.ckpt\r\n"
     ]
    }
   ],
   "source": [
    "!tar xvf resnet_v1_152_2016_08_28.tar.gz"
   ]
  },
  {
   "cell_type": "markdown",
   "metadata": {},
   "source": [
    "We download the synset for the model. This translates the output of the model to a specific label."
   ]
  },
  {
   "cell_type": "code",
   "execution_count": 4,
   "metadata": {},
   "outputs": [
    {
     "name": "stdout",
     "output_type": "stream",
     "text": [
      "--2018-04-11 09:14:43--  http://data.dmlc.ml/mxnet/models/imagenet/synset.txt\n",
      "Resolving data.dmlc.ml (data.dmlc.ml)... 54.208.175.7\n",
      "Connecting to data.dmlc.ml (data.dmlc.ml)|54.208.175.7|:80... connected.\n",
      "HTTP request sent, awaiting response... 200 OK\n",
      "Length: 31675 (31K) [text/plain]\n",
      "Saving to: ‘synset.txt’\n",
      "\n",
      "synset.txt          100%[===================>]  30.93K  --.-KB/s    in 0.03s   \n",
      "\n",
      "2018-04-11 09:14:43 (909 KB/s) - ‘synset.txt’ saved [31675/31675]\n",
      "\n"
     ]
    }
   ],
   "source": [
    "!wget \"http://data.dmlc.ml/mxnet/models/imagenet/synset.txt\""
   ]
  },
  {
   "cell_type": "markdown",
   "metadata": {},
   "source": [
    "This is how we will call our model. We first create the input placeholder for our input image. The dimensions of the image are 224 by 224 and has three color channels."
   ]
  },
  {
   "cell_type": "code",
   "execution_count": 5,
   "metadata": {
    "collapsed": true
   },
   "outputs": [],
   "source": [
    "# Placeholders\n",
    "input_tensor = tf.placeholder(tf.float32, shape=(None,224,224,3), name='input_image')"
   ]
  },
  {
   "cell_type": "code",
   "execution_count": 6,
   "metadata": {
    "collapsed": true
   },
   "outputs": [],
   "source": [
    "# Load the model\n",
    "sess = tf.Session()\n",
    "arg_scope = resnet_v1.resnet_arg_scope()\n",
    "with tf.contrib.slim.arg_scope(arg_scope):\n",
    "    logits, _ = resnet_v1.resnet_v1_152(input_tensor, num_classes=1000, is_training=False)"
   ]
  },
  {
   "cell_type": "markdown",
   "metadata": {},
   "source": [
    "To get probabilities we add the softmax layer."
   ]
  },
  {
   "cell_type": "code",
   "execution_count": 7,
   "metadata": {
    "collapsed": true
   },
   "outputs": [],
   "source": [
    "probabilities = tf.nn.softmax(logits)"
   ]
  },
  {
   "cell_type": "markdown",
   "metadata": {},
   "source": [
    "Here we load thre pretrained weights we downloaded earlier into the model."
   ]
  },
  {
   "cell_type": "code",
   "execution_count": 8,
   "metadata": {},
   "outputs": [
    {
     "name": "stdout",
     "output_type": "stream",
     "text": [
      "INFO:tensorflow:Restoring parameters from resnet_v1_152.ckpt\n"
     ]
    }
   ],
   "source": [
    "checkpoint_file = 'resnet_v1_152.ckpt'\n",
    "saver = tf.train.Saver()\n",
    "saver.restore(sess, checkpoint_file)"
   ]
  },
  {
   "cell_type": "markdown",
   "metadata": {},
   "source": [
    "Let's test our model with an image of a Lynx"
   ]
  },
  {
   "cell_type": "code",
   "execution_count": 9,
   "metadata": {},
   "outputs": [
    {
     "name": "stdout",
     "output_type": "stream",
     "text": [
      "--2018-04-11 09:14:55--  https://upload.wikimedia.org/wikipedia/commons/thumb/6/68/Lynx_lynx_poing.jpg/220px-Lynx_lynx_poing.jpg\n",
      "Resolving upload.wikimedia.org (upload.wikimedia.org)... 208.80.153.240, 2620:0:860:ed1a::2:b\n",
      "Connecting to upload.wikimedia.org (upload.wikimedia.org)|208.80.153.240|:443... connected.\n",
      "HTTP request sent, awaiting response... 200 OK\n",
      "Length: 27183 (27K) [image/jpeg]\n",
      "Saving to: ‘220px-Lynx_lynx_poing.jpg’\n",
      "\n",
      "220px-Lynx_lynx_poi 100%[===================>]  26.55K  --.-KB/s    in 0.01s   \n",
      "\n",
      "2018-04-11 09:14:55 (2.52 MB/s) - ‘220px-Lynx_lynx_poing.jpg’ saved [27183/27183]\n",
      "\n"
     ]
    }
   ],
   "source": [
    "!wget https://upload.wikimedia.org/wikipedia/commons/thumb/6/68/Lynx_lynx_poing.jpg/220px-Lynx_lynx_poing.jpg"
   ]
  },
  {
   "cell_type": "code",
   "execution_count": 10,
   "metadata": {},
   "outputs": [
    {
     "data": {
      "image/jpeg": "[encoded data removed]",
      "text/plain": [
       "<IPython.core.display.Image object>"
      ]
     },
     "execution_count": 10,
     "metadata": {},
     "output_type": "execute_result"
    }
   ],
   "source": [
    "show_image(\"220px-Lynx_lynx_poing.jpg\")"
   ]
  },
  {
   "cell_type": "markdown",
   "metadata": {},
   "source": [
    "We load the image, resize it and transform it into an array"
   ]
  },
  {
   "cell_type": "code",
   "execution_count": 11,
   "metadata": {
    "collapsed": true
   },
   "outputs": [],
   "source": [
    "im = Image.open(\"220px-Lynx_lynx_poing.jpg\").resize((224,224))\n",
    "im = np.array(im)\n",
    "im = np.expand_dims(im, 0)"
   ]
  },
  {
   "cell_type": "markdown",
   "metadata": {},
   "source": [
    "We run it against the model and get the predictions"
   ]
  },
  {
   "cell_type": "code",
   "execution_count": 12,
   "metadata": {
    "collapsed": true
   },
   "outputs": [],
   "source": [
    "pred, pred_proba = sess.run([logits,probabilities], feed_dict={input_tensor: im})"
   ]
  },
  {
   "cell_type": "markdown",
   "metadata": {},
   "source": [
    "We take the top three predictions and get the appropriate labels for them."
   ]
  },
  {
   "cell_type": "code",
   "execution_count": 13,
   "metadata": {
    "collapsed": true
   },
   "outputs": [],
   "source": [
    "def create_label_lookup():\n",
    "    with open('synset.txt', 'r') as f:\n",
    "        label_list = [l.rstrip() for l in f]\n",
    "    def _label_lookup(*label_locks):\n",
    "        return [label_list[l] for l in label_locks]\n",
    "    return _label_lookup"
   ]
  },
  {
   "cell_type": "code",
   "execution_count": 14,
   "metadata": {
    "collapsed": true
   },
   "outputs": [],
   "source": [
    "label_lookup = create_label_lookup()"
   ]
  },
  {
   "cell_type": "code",
   "execution_count": 15,
   "metadata": {
    "collapsed": true
   },
   "outputs": [],
   "source": [
    "top_results = np.flip(np.sort(pred_proba.squeeze()), 0)[:3]"
   ]
  },
  {
   "cell_type": "code",
   "execution_count": 16,
   "metadata": {
    "collapsed": true
   },
   "outputs": [],
   "source": [
    "labels=label_lookup(*np.flip(np.argsort(pred_proba.squeeze()), 0)[:3])"
   ]
  },
  {
   "cell_type": "markdown",
   "metadata": {},
   "source": [
    "The top guess is Lynx with a probability of 99.8%"
   ]
  },
  {
   "cell_type": "code",
   "execution_count": 17,
   "metadata": {},
   "outputs": [
    {
     "data": {
      "text/plain": [
       "{'n02123159 tiger cat': 0.00079030375,\n",
       " 'n02124075 Egyptian cat': 0.00086069945,\n",
       " 'n02127052 lynx, catamount': 0.99792874}"
      ]
     },
     "execution_count": 17,
     "metadata": {},
     "output_type": "execute_result"
    }
   ],
   "source": [
    "dict(zip(labels, top_results))"
   ]
  },
  {
   "cell_type": "markdown",
   "metadata": {},
   "source": [
    "We can move onto [developing the model api for our model](01_DevelopModelDriver.ipynb)"
   ]
  }
 ],
 "metadata": {
  "kernelspec": {
   "display_name": "Python 3.5",
   "language": "python",
   "name": "python3"
  },
  "language_info": {
   "codemirror_mode": {
    "name": "ipython",
    "version": 3
   },
   "file_extension": ".py",
   "mimetype": "text/x-python",
   "name": "python",
   "nbconvert_exporter": "python",
   "pygments_lexer": "ipython3",
   "version": "3.5.2"
  }
 },
 "nbformat": 4,
 "nbformat_minor": 2
}
