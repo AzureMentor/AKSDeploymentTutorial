{
 "cells": [
  {
   "cell_type": "markdown",
   "metadata": {},
   "source": [
    "# Deploy Web App on Azure Container Services (AKS)\n"
   ]
  },
  {
   "cell_type": "markdown",
   "metadata": {},
   "source": [
    "In this notebook, we will set up an Azure Container Service which will be managed by Kubernetes. We will then take the Docker image we created earlier that contains our app and deploy it to the AKS cluster. Then, we will check everything is working by sending an image to it and getting it scored. \n",
    "\n",
    "The process is split into the following steps:\n",
    "- Define our resource names\n",
    "- Login to Azure\n",
    "- Create resource group and create AKS\n",
    "- Connect to AKS\n",
    "- Deploy our app\n",
    "- Tear it all down\n",
    "\n",
    "We assume that this notebook is running on Linux and Azure CLI is installed before proceeding."
   ]
  },
  {
   "cell_type": "markdown",
   "metadata": {},
   "source": [
    "## Setup"
   ]
  },
  {
   "cell_type": "markdown",
   "metadata": {},
   "source": [
    "Below are the various name definitions for the resources needed to setup AKS as well as the name of the Docker image we will be using."
   ]
  },
  {
   "cell_type": "code",
   "execution_count": 1,
   "metadata": {
    "collapsed": true
   },
   "outputs": [],
   "source": [
    "# Please modify the below as you see fit\n",
    "resource_group = \"<RESOURCE_GROUP>\" \n",
    "aks_name = \"<AKS_CLUSTER_NAME>\"\n",
    "location = \"eastus\"\n",
    "\n",
    "image_name = '<YOUR_DOCKER_IMAGE>' # 'fboylu/kerastf-gpu' Feel free to use this image if you want to \n",
    "                                   # skip creating your own container\n",
    "selected_subscription = \"'<YOUR_SUBSCRIPTION>'\" # If you have multiple subscriptions select \n",
    "                                                # the subscription you want to use here"
   ]
  },
  {
   "cell_type": "markdown",
   "metadata": {},
   "source": [
    "## Azure account login"
   ]
  },
  {
   "cell_type": "markdown",
   "metadata": {},
   "source": [
    "The command below will initiate a login to your Azure account. It will pop up with an url to go to where you will enter a one off code and log into your Azure account using your browser."
   ]
  },
  {
   "cell_type": "code",
   "execution_count": 6,
   "metadata": {
    "collapsed": true
   },
   "outputs": [],
   "source": [
    "!az login -o table"
   ]
  },
  {
   "cell_type": "code",
   "execution_count": 7,
   "metadata": {
    "collapsed": true
   },
   "outputs": [],
   "source": [
    "!az account set --subscription $selected_subscription"
   ]
  },
  {
   "cell_type": "code",
   "execution_count": 10,
   "metadata": {
    "collapsed": true
   },
   "outputs": [],
   "source": [
    "!az account show"
   ]
  },
  {
   "cell_type": "markdown",
   "metadata": {},
   "source": [
    "You will also need to register the container service resources on your subscription if you haven't already done so."
   ]
  },
  {
   "cell_type": "code",
   "execution_count": 9,
   "metadata": {
    "collapsed": true
   },
   "outputs": [],
   "source": [
    "!az provider register -n Microsoft.ContainerService"
   ]
  },
  {
   "cell_type": "code",
   "execution_count": 10,
   "metadata": {
    "collapsed": true
   },
   "outputs": [],
   "source": [
    "!az provider show -n Microsoft.ContainerService"
   ]
  },
  {
   "cell_type": "markdown",
   "metadata": {},
   "source": [
    "## Create resources and dependencies"
   ]
  },
  {
   "cell_type": "markdown",
   "metadata": {},
   "source": [
    "### Create resource group and AKS cluster"
   ]
  },
  {
   "cell_type": "markdown",
   "metadata": {},
   "source": [
    "Azure encourages the use of groups to organize all the Azure components you deploy. That way it is easier to find them but also we can delete a number of resources simply by deleting the group."
   ]
  },
  {
   "cell_type": "code",
   "execution_count": 11,
   "metadata": {
    "collapsed": true
   },
   "outputs": [],
   "source": [
    "!az group create --name $resource_group --location $location"
   ]
  },
  {
   "cell_type": "markdown",
   "metadata": {},
   "source": [
    "Below, we create the AKS cluster in the resource group we created earlier."
   ]
  },
  {
   "cell_type": "code",
   "execution_count": 12,
   "metadata": {},
   "outputs": [
    {
     "name": "stdout",
     "output_type": "stream",
     "text": [
      "\u001b[K{- Finished ..\n",
      "  \"additionalProperties\": {},\n",
      "  \"agentPoolProfiles\": [\n",
      "    {\n",
      "      \"additionalProperties\": {},\n",
      "      \"count\": 1,\n",
      "      \"dnsPrefix\": null,\n",
      "      \"fqdn\": null,\n",
      "      \"name\": \"nodepool1\",\n",
      "      \"osDiskSizeGb\": null,\n",
      "      \"osType\": \"Linux\",\n",
      "      \"ports\": null,\n",
      "      \"storageProfile\": \"ManagedDisks\",\n",
      "      \"vmSize\": \"Standard_NC6\",\n",
      "      \"vnetSubnetId\": null\n",
      "    }\n",
      "  ],\n",
      "  \"dnsPrefix\": \"fbAKSClust-fbaksrg-edf507\",\n",
      "  \"fqdn\": \"fbaksclust-fbaksrg-edf507-97ac4d0f.hcp.eastus.azmk8s.io\",\n",
      "  \"id\": \"/subscriptions/edf507a2-6235-46c5-b560-fd463ba2e771/resourcegroups/fbaksrg/providers/Microsoft.ContainerService/managedClusters/fbAKSCluster\",\n",
      "  \"kubernetesVersion\": \"1.8.10\",\n",
      "  \"linuxProfile\": {\n",
      "    \"additionalProperties\": {},\n",
      "    \"adminUsername\": \"azureuser\",\n",
      "    \"ssh\": {\n",
      "      \"additionalProperties\": {},\n",
      "      \"publicKeys\": [\n",
      "        {\n",
      "          \"additionalProperties\": {},\n",
      "          \"keyData\": \"ssh-rsa AAAAB3NzaC1yc2EAAAADAQABAAABAQCgTNSnvmSzdPGTzAvv8RkIm0wntQNwHEm0weIYisqfLFxYkfEAe2q5gyWgZzvRqn4u5SX8YQjj8TPxSJBp2z9VDh7OD2WdMP0ApbhgREsaCdycIb+6Ykeu8YMA6f+mlCbz4xrHh3L2SsjaLXkaA2GBPMAHwnK0eXcZlJIKO51/1j2jcd9dgx3k0FdEanTnG/15MkC32VixMmPUBEdmkSvUiZwdOncX6CzpkzTaCmdncrGJ9TlX1qAgsPH4SBFAn4wyj7213yX1xGD/nkpJLEXhe+QVBgIC1s4OLtSFNdK3yER26hT9teE5FQSpTye9SfsT+MzztThskDhzmWVAxewR\"\n",
      "        }\n",
      "      ]\n",
      "    }\n",
      "  },\n",
      "  \"location\": \"eastus\",\n",
      "  \"name\": \"fbAKSCluster\",\n",
      "  \"provisioningState\": \"Succeeded\",\n",
      "  \"resourceGroup\": \"fbaksrg\",\n",
      "  \"servicePrincipalProfile\": {\n",
      "    \"additionalProperties\": {},\n",
      "    \"clientId\": \"613f7349-cc3a-49f7-9d65-2ab3afc4453a\",\n",
      "    \"keyVaultSecretRef\": null,\n",
      "    \"secret\": null\n",
      "  },\n",
      "  \"tags\": null,\n",
      "  \"type\": \"Microsoft.ContainerService/ManagedClusters\"\n",
      "}\n",
      "\u001b[0mCPU times: user 11.5 s, sys: 4.51 s, total: 16 s\n",
      "Wall time: 10min 36s\n"
     ]
    }
   ],
   "source": [
    "%%time\n",
    "!az aks create --resource-group $resource_group --name $aks_name --node-count 1 --generate-ssh-keys -s Standard_NC6"
   ]
  },
  {
   "cell_type": "markdown",
   "metadata": {},
   "source": [
    "### Install kubectl CLI"
   ]
  },
  {
   "cell_type": "markdown",
   "metadata": {},
   "source": [
    "To connect to the Kubernetes cluster, we will use kubectl, the Kubernetes command-line client. To install, run the following:"
   ]
  },
  {
   "cell_type": "code",
   "execution_count": 12,
   "metadata": {},
   "outputs": [
    {
     "name": "stdout",
     "output_type": "stream",
     "text": [
      "\u001b[33mDownloading client to /usr/local/bin/kubectl from https://storage.googleapis.com/kubernetes-release/release/v1.9.6/bin/linux/amd64/kubectl\u001b[0m\r\n"
     ]
    }
   ],
   "source": [
    "!sudo az aks install-cli"
   ]
  },
  {
   "cell_type": "markdown",
   "metadata": {},
   "source": [
    "## Connect to AKS cluster"
   ]
  },
  {
   "cell_type": "markdown",
   "metadata": {},
   "source": [
    "To configure kubectl to connect to the Kubernetes cluster, run the following command:"
   ]
  },
  {
   "cell_type": "code",
   "execution_count": 14,
   "metadata": {},
   "outputs": [
    {
     "name": "stdout",
     "output_type": "stream",
     "text": [
      "Merged \"fbAKSCluster\" as current context in /home/fboylu/.kube/config\r\n"
     ]
    }
   ],
   "source": [
    "!az aks get-credentials --resource-group $resource_group --name $aks_name"
   ]
  },
  {
   "cell_type": "markdown",
   "metadata": {},
   "source": [
    "Let's verify connection by listing the nodes."
   ]
  },
  {
   "cell_type": "code",
   "execution_count": 15,
   "metadata": {},
   "outputs": [
    {
     "name": "stdout",
     "output_type": "stream",
     "text": [
      "NAME                       STATUS    ROLES     AGE       VERSION\r\n",
      "aks-nodepool1-28016997-0   Ready     agent     1d        v1.8.10\r\n"
     ]
    }
   ],
   "source": [
    "!kubectl get nodes"
   ]
  },
  {
   "cell_type": "markdown",
   "metadata": {},
   "source": [
    "Let's check the pods on our cluster."
   ]
  },
  {
   "cell_type": "code",
   "execution_count": 16,
   "metadata": {},
   "outputs": [
    {
     "name": "stdout",
     "output_type": "stream",
     "text": [
      "NAMESPACE     NAME                                    READY     STATUS    RESTARTS   AGE\r\n",
      "kube-system   heapster-75f8df9884-bph6w               2/2       Running   0          1d\r\n",
      "kube-system   kube-dns-v20-5bf84586f4-22snr           3/3       Running   0          1d\r\n",
      "kube-system   kube-dns-v20-5bf84586f4-k6c72           3/3       Running   0          1d\r\n",
      "kube-system   kube-proxy-bqtt8                        1/1       Running   0          1d\r\n",
      "kube-system   kube-svc-redirect-4jqpq                 1/1       Running   2          1d\r\n",
      "kube-system   kubernetes-dashboard-665f768455-mrmmk   1/1       Running   0          1d\r\n",
      "kube-system   tunnelfront-76cbc478d6-l5z7j            1/1       Running   0          1d\r\n"
     ]
    }
   ],
   "source": [
    "!kubectl get pods --all-namespaces"
   ]
  },
  {
   "cell_type": "markdown",
   "metadata": {},
   "source": [
    "## Deploy application"
   ]
  },
  {
   "cell_type": "markdown",
   "metadata": {},
   "source": [
    "Below we define our Kubernetes manifest file for our service and load balancer. Note that we have to specify the volume mounts to the drivers that are located on the node."
   ]
  },
  {
   "cell_type": "code",
   "execution_count": 17,
   "metadata": {
    "collapsed": true
   },
   "outputs": [],
   "source": [
    "app_template = {\n",
    "  \"apiVersion\": \"apps/v1beta1\",\n",
    "  \"kind\": \"Deployment\",\n",
    "  \"metadata\": {\n",
    "      \"name\": \"azure-dl\"\n",
    "  },\n",
    "  \"spec\":{\n",
    "      \"replicas\":1,\n",
    "      \"template\":{\n",
    "          \"metadata\":{\n",
    "              \"labels\":{\n",
    "                  \"app\":\"azure-dl\"\n",
    "              }\n",
    "          },\n",
    "          \"spec\":{\n",
    "              \"containers\":[\n",
    "                  {\n",
    "                      \"name\": \"azure-dl\",\n",
    "                      \"image\": \"fboylu/kerastf-gpu\",\n",
    "                      \"env\":[\n",
    "                          {\n",
    "                              \"name\": \"LD_LIBRARY_PATH\",\n",
    "                              \"value\": \"$LD_LIBRARY_PATH:/usr/local/nvidia/lib64:/opt/conda/envs/py3.5/lib\"\n",
    "                          }\n",
    "                      ],\n",
    "                      \"ports\":[\n",
    "                          {\n",
    "                              \"containerPort\":80,\n",
    "                              \"name\":\"model\"\n",
    "                          }\n",
    "                      ],\n",
    "                      \"volumeMounts\":[\n",
    "                          {\n",
    "                              \"mountPath\":\"/usr/local/nvidia\",\n",
    "                              \"name\": \"nvidia\",\n",
    "                          }\n",
    "                      ],\n",
    "                      \"resources\":{\n",
    "                           \"requests\":{\n",
    "                               \"alpha.kubernetes.io/nvidia-gpu\": 1\n",
    "                           },\n",
    "                           \"limits\":{\n",
    "                               \"alpha.kubernetes.io/nvidia-gpu\": 1\n",
    "                           }\n",
    "                       }  \n",
    "                  }\n",
    "              ],\n",
    "              \"volumes\":[\n",
    "                  {\n",
    "                      \"name\": \"nvidia\",\n",
    "                      \"hostPath\":{\n",
    "                          \"path\":\"/usr/local/nvidia\"\n",
    "                      },\n",
    "                  },\n",
    "              ]\n",
    "          }\n",
    "      }\n",
    "  }\n",
    "}\n",
    "\n",
    "service_temp = {\n",
    "  \"apiVersion\": \"v1\",\n",
    "  \"kind\": \"Service\",\n",
    "  \"metadata\": {\n",
    "      \"name\": \"azure-dl\"\n",
    "  },\n",
    "  \"spec\":{\n",
    "      \"type\": \"LoadBalancer\",\n",
    "      \"ports\":[\n",
    "          {\n",
    "              \"port\":80\n",
    "          }\n",
    "      ],\n",
    "      \"selector\":{\n",
    "            \"app\":\"azure-dl\"\n",
    "      }\n",
    "   }\n",
    "}"
   ]
  },
  {
   "cell_type": "code",
   "execution_count": 18,
   "metadata": {
    "collapsed": true
   },
   "outputs": [],
   "source": [
    "import json\n",
    "def write_json_to_file(json_dict, filename, mode='w'):\n",
    "    with open(filename, mode) as outfile:\n",
    "        json.dump(json_dict, outfile, indent=4, sort_keys=True)\n",
    "        outfile.write('\\n\\n')"
   ]
  },
  {
   "cell_type": "code",
   "execution_count": 19,
   "metadata": {
    "collapsed": true
   },
   "outputs": [],
   "source": [
    "write_json_to_file(app_template, 'az-dl.json')"
   ]
  },
  {
   "cell_type": "code",
   "execution_count": 20,
   "metadata": {
    "collapsed": true
   },
   "outputs": [],
   "source": [
    "write_json_to_file(service_temp, 'az-dl.json', mode='a')"
   ]
  },
  {
   "cell_type": "markdown",
   "metadata": {},
   "source": [
    "Let's check the manifest created."
   ]
  },
  {
   "cell_type": "code",
   "execution_count": 21,
   "metadata": {},
   "outputs": [
    {
     "name": "stdout",
     "output_type": "stream",
     "text": [
      "{\r\n",
      "    \"apiVersion\": \"apps/v1beta1\",\r\n",
      "    \"kind\": \"Deployment\",\r\n",
      "    \"metadata\": {\r\n",
      "        \"name\": \"azure-dl\"\r\n",
      "    },\r\n",
      "    \"spec\": {\r\n",
      "        \"replicas\": 1,\r\n",
      "        \"template\": {\r\n",
      "            \"metadata\": {\r\n",
      "                \"labels\": {\r\n",
      "                    \"app\": \"azure-dl\"\r\n",
      "                }\r\n",
      "            },\r\n",
      "            \"spec\": {\r\n",
      "                \"containers\": [\r\n",
      "                    {\r\n",
      "                        \"env\": [\r\n",
      "                            {\r\n",
      "                                \"name\": \"LD_LIBRARY_PATH\",\r\n",
      "                                \"value\": \"$LD_LIBRARY_PATH:/usr/local/nvidia/lib64:/opt/conda/envs/py3.5/lib\"\r\n",
      "                            }\r\n",
      "                        ],\r\n",
      "                        \"image\": \"fboylu/kerastf-gpu\",\r\n",
      "                        \"name\": \"azure-dl\",\r\n",
      "                        \"ports\": [\r\n",
      "                            {\r\n",
      "                                \"containerPort\": 80,\r\n",
      "                                \"name\": \"model\"\r\n",
      "                            }\r\n",
      "                        ],\r\n",
      "                        \"resources\": {\r\n",
      "                            \"limits\": {\r\n",
      "                                \"alpha.kubernetes.io/nvidia-gpu\": 1\r\n",
      "                            },\r\n",
      "                            \"requests\": {\r\n",
      "                                \"alpha.kubernetes.io/nvidia-gpu\": 1\r\n",
      "                            }\r\n",
      "                        },\r\n",
      "                        \"volumeMounts\": [\r\n",
      "                            {\r\n",
      "                                \"mountPath\": \"/usr/local/nvidia\",\r\n",
      "                                \"name\": \"nvidia\"\r\n",
      "                            }\r\n",
      "                        ]\r\n",
      "                    }\r\n",
      "                ],\r\n",
      "                \"volumes\": [\r\n",
      "                    {\r\n",
      "                        \"hostPath\": {\r\n",
      "                            \"path\": \"/usr/local/nvidia\"\r\n",
      "                        },\r\n",
      "                        \"name\": \"nvidia\"\r\n",
      "                    }\r\n",
      "                ]\r\n",
      "            }\r\n",
      "        }\r\n",
      "    }\r\n",
      "}\r\n",
      "\r\n",
      "{\r\n",
      "    \"apiVersion\": \"v1\",\r\n",
      "    \"kind\": \"Service\",\r\n",
      "    \"metadata\": {\r\n",
      "        \"name\": \"azure-dl\"\r\n",
      "    },\r\n",
      "    \"spec\": {\r\n",
      "        \"ports\": [\r\n",
      "            {\r\n",
      "                \"port\": 80\r\n",
      "            }\r\n",
      "        ],\r\n",
      "        \"selector\": {\r\n",
      "            \"app\": \"azure-dl\"\r\n",
      "        },\r\n",
      "        \"type\": \"LoadBalancer\"\r\n",
      "    }\r\n",
      "}\r\n",
      "\r\n"
     ]
    }
   ],
   "source": [
    "!cat az-dl.json"
   ]
  },
  {
   "cell_type": "markdown",
   "metadata": {},
   "source": [
    "Next, we will use kubectl create command to deploy our application."
   ]
  },
  {
   "cell_type": "code",
   "execution_count": 22,
   "metadata": {},
   "outputs": [
    {
     "name": "stdout",
     "output_type": "stream",
     "text": [
      "deployment \"azure-dl\" created\n",
      "service \"azure-dl\" created\n"
     ]
    }
   ],
   "source": [
    "!kubectl create -f az-dl.json"
   ]
  },
  {
   "cell_type": "markdown",
   "metadata": {},
   "source": [
    "Let's check if the pod is deployed."
   ]
  },
  {
   "cell_type": "code",
   "execution_count": 23,
   "metadata": {},
   "outputs": [
    {
     "name": "stdout",
     "output_type": "stream",
     "text": [
      "NAMESPACE     NAME                                    READY     STATUS              RESTARTS   AGE\r\n",
      "default       azure-dl-5c4bfdb7f9-2cbr8               0/1       ContainerCreating   0          5s\r\n",
      "kube-system   heapster-75f8df9884-bph6w               2/2       Running             0          1d\r\n",
      "kube-system   kube-dns-v20-5bf84586f4-22snr           3/3       Running             0          1d\r\n",
      "kube-system   kube-dns-v20-5bf84586f4-k6c72           3/3       Running             0          1d\r\n",
      "kube-system   kube-proxy-bqtt8                        1/1       Running             0          1d\r\n",
      "kube-system   kube-svc-redirect-4jqpq                 1/1       Running             2          1d\r\n",
      "kube-system   kubernetes-dashboard-665f768455-mrmmk   1/1       Running             0          1d\r\n",
      "kube-system   tunnelfront-76cbc478d6-l5z7j            1/1       Running             0          1d\r\n"
     ]
    }
   ],
   "source": [
    "!kubectl get pods --all-namespaces"
   ]
  },
  {
   "cell_type": "markdown",
   "metadata": {},
   "source": [
    "If anything goes wrong you can use the commands below to observe the events on the node as well as review the logs."
   ]
  },
  {
   "cell_type": "code",
   "execution_count": 38,
   "metadata": {},
   "outputs": [
    {
     "name": "stdout",
     "output_type": "stream",
     "text": [
      "LAST SEEN   FIRST SEEN   COUNT     NAME                                         KIND         SUBOBJECT                   TYPE      REASON                  SOURCE                              MESSAGE\r\n",
      "2m          2m           1         azure-dl-5c4bfdb7f9-2cbr8.1522f0360f3d02c1   Pod                                      Normal    Scheduled               default-scheduler                   Successfully assigned azure-dl-5c4bfdb7f9-2cbr8 to aks-nodepool1-28016997-0\r\n",
      "2m          2m           1         azure-dl-5c4bfdb7f9-2cbr8.1522f03617f016e9   Pod                                      Normal    SuccessfulMountVolume   kubelet, aks-nodepool1-28016997-0   MountVolume.SetUp succeeded for volume \"nvidia\" \r\n",
      "2m          2m           1         azure-dl-5c4bfdb7f9-2cbr8.1522f03618d2762c   Pod                                      Normal    SuccessfulMountVolume   kubelet, aks-nodepool1-28016997-0   MountVolume.SetUp succeeded for volume \"default-token-m6g6j\" \r\n",
      "2m          2m           1         azure-dl-5c4bfdb7f9-2cbr8.1522f03649a8c645   Pod          spec.containers{azure-dl}   Normal    Pulling                 kubelet, aks-nodepool1-28016997-0   pulling image \"fboylu/kerastf-gpu\"\r\n",
      "18s         18s          1         azure-dl-5c4bfdb7f9-2cbr8.1522f050f5e4df8d   Pod          spec.containers{azure-dl}   Normal    Pulled                  kubelet, aks-nodepool1-28016997-0   Successfully pulled image \"fboylu/kerastf-gpu\"\r\n",
      "18s         18s          1         azure-dl-5c4bfdb7f9-2cbr8.1522f051056ca105   Pod          spec.containers{azure-dl}   Normal    Created                 kubelet, aks-nodepool1-28016997-0   Created container\r\n",
      "18s         18s          1         azure-dl-5c4bfdb7f9-2cbr8.1522f0510fbe4c26   Pod          spec.containers{azure-dl}   Normal    Started                 kubelet, aks-nodepool1-28016997-0   Started container\r\n",
      "54m         54m          1         azure-dl-5c4bfdb7f9-vj779.1522ed6036c2b01d   Pod          spec.containers{azure-dl}   Normal    Killing                 kubelet, aks-nodepool1-28016997-0   Killing container with id docker://azure-dl:Need to kill Pod\r\n",
      "54m         54m          1         azure-dl-5c4bfdb7f9.1522ed5d59cba8cb         ReplicaSet                               Normal    SuccessfulDelete        replicaset-controller               Deleted pod: azure-dl-5c4bfdb7f9-vj779\r\n",
      "2m          2m           1         azure-dl-5c4bfdb7f9.1522f0360e28a2b7         ReplicaSet                               Normal    SuccessfulCreate        replicaset-controller               Created pod: azure-dl-5c4bfdb7f9-2cbr8\r\n",
      "54m         54m          1         azure-dl.1522ed5d596a4e3c                    Deployment                               Normal    ScalingReplicaSet       deployment-controller               Scaled down replica set azure-dl-5c4bfdb7f9 to 0\r\n",
      "54m         54m          1         azure-dl.1522ed5e233e3ee5                    Service                                  Normal    DeletingLoadBalancer    service-controller                  Deleting load balancer\r\n",
      "51m         51m          1         azure-dl.1522ed7fb415b2f5                    Service                                  Normal    DeletedLoadBalancer     service-controller                  Deleted load balancer\r\n",
      "2m          2m           1         azure-dl.1522f0360d81f74d                    Deployment                               Normal    ScalingReplicaSet       deployment-controller               Scaled up replica set azure-dl-5c4bfdb7f9 to 1\r\n",
      "2m          2m           1         azure-dl.1522f036105ae857                    Service                                  Normal    EnsuringLoadBalancer    service-controller                  Ensuring load balancer\r\n",
      "7s          7s           1         azure-dl.1522f0536ea71117                    Service                                  Normal    EnsuredLoadBalancer     service-controller                  Ensured load balancer\r\n"
     ]
    }
   ],
   "source": [
    "!kubectl get events"
   ]
  },
  {
   "cell_type": "markdown",
   "metadata": {},
   "source": [
    "Check the logs for the application pod."
   ]
  },
  {
   "cell_type": "code",
   "execution_count": 34,
   "metadata": {
    "collapsed": true
   },
   "outputs": [],
   "source": [
    "pod_json = !kubectl get pods -o json\n",
    "pod_dict = json.loads(''.join(pod_json))"
   ]
  },
  {
   "cell_type": "code",
   "execution_count": 41,
   "metadata": {},
   "outputs": [
    {
     "name": "stdout",
     "output_type": "stream",
     "text": [
      "2018-04-06 19:44:14,983 CRIT Supervisor running as root (no user in config file)\r\n",
      "2018-04-06 19:44:14,985 INFO supervisord started with pid 1\r\n",
      "2018-04-06 19:44:15,988 INFO spawned: 'program_exit' with pid 11\r\n",
      "2018-04-06 19:44:15,989 INFO spawned: 'nginx' with pid 12\r\n",
      "2018-04-06 19:44:15,990 INFO spawned: 'gunicorn' with pid 13\r\n",
      "2018-04-06 19:44:17,021 INFO success: program_exit entered RUNNING state, process has stayed up for > than 1 seconds (startsecs)\r\n",
      "2018-04-06 19:44:17.421986: I tensorflow/core/platform/cpu_feature_guard.cc:137] Your CPU supports instructions that this TensorFlow binary was not compiled to use: SSE4.1 SSE4.2 AVX AVX2 FMA\r\n",
      "2018-04-06 19:44:21,427 INFO success: nginx entered RUNNING state, process has stayed up for > than 5 seconds (startsecs)\r\n",
      "2018-04-06 19:44:24.311778: I tensorflow/core/common_runtime/gpu/gpu_device.cc:1030] Found device 0 with properties: \r\n",
      "name: Tesla K80 major: 3 minor: 7 memoryClockRate(GHz): 0.8235\r\n",
      "pciBusID: f115:00:00.0\r\n",
      "totalMemory: 11.17GiB freeMemory: 11.10GiB\r\n",
      "2018-04-06 19:44:24.311825: I tensorflow/core/common_runtime/gpu/gpu_device.cc:1120] Creating TensorFlow device (/device:GPU:0) -> (device: 0, name: Tesla K80, pci bus id: f115:00:00.0, compute capability: 3.7)\r\n",
      "2018-04-06 19:44:36,320 INFO success: gunicorn entered RUNNING state, process has stayed up for > than 20 seconds (startsecs)\r\n",
      "Downloading data from https://github.com/adamcasson/resnet152/releases/download/v0.1/resnet152_weights_tf.h5\r\n",
      "\r\n",
      "     8192/243179624 [..............................] - ETA: 1:10\r\n",
      "   843776/243179624 [..............................] - ETA: 15s \r\n",
      "  2981888/243179624 [..............................] - ETA: 8s \r\n",
      "  4530176/243179624 [..............................] - ETA: 8s\r\n",
      "  5275648/243179624 [..............................] - ETA: 9s\r\n",
      "  5971968/243179624 [..............................] - ETA: 10s\r\n",
      "  6881280/243179624 [..............................] - ETA: 10s\r\n",
      "  7839744/243179624 [..............................] - ETA: 10s\r\n",
      "  8847360/243179624 [>.............................] - ETA: 10s\r\n",
      "  9633792/243179624 [>.............................] - ETA: 11s\r\n",
      " 10346496/243179624 [>.............................] - ETA: 11s\r\n",
      " 11214848/243179624 [>.............................] - ETA: 11s\r\n",
      " 12050432/243179624 [>.............................] - ETA: 11s\r\n",
      " 13058048/243179624 [>.............................] - ETA: 11s\r\n",
      " 14090240/243179624 [>.............................] - ETA: 11s\r\n",
      " 15114240/243179624 [>.............................] - ETA: 11s\r\n",
      " 16195584/243179624 [>.............................] - ETA: 11s\r\n",
      " 17465344/243179624 [=>............................] - ETA: 11s\r\n",
      " 18685952/243179624 [=>............................] - ETA: 11s\r\n",
      " 20013056/243179624 [=>............................] - ETA: 10s\r\n",
      " 21397504/243179624 [=>............................] - ETA: 10s\r\n",
      " 22323200/243179624 [=>............................] - ETA: 10s\r\n",
      " 23502848/243179624 [=>............................] - ETA: 10s\r\n",
      " 24707072/243179624 [==>...........................] - ETA: 10s\r\n",
      " 25993216/243179624 [==>...........................] - ETA: 10s\r\n",
      " 27262976/243179624 [==>...........................] - ETA: 10s\r\n",
      " 28639232/243179624 [==>...........................] - ETA: 9s \r\n",
      " 30121984/243179624 [==>...........................] - ETA: 9s\r\n",
      " 31703040/243179624 [==>...........................] - ETA: 9s\r\n",
      " 33316864/243179624 [===>..........................] - ETA: 9s\r\n",
      " 34783232/243179624 [===>..........................] - ETA: 9s\r\n",
      " 36487168/243179624 [===>..........................] - ETA: 8s\r\n",
      " 37953536/243179624 [===>..........................] - ETA: 8s\r\n",
      " 39493632/243179624 [===>..........................] - ETA: 8s\r\n",
      " 41312256/243179624 [====>.........................] - ETA: 8s\r\n",
      " 43073536/243179624 [====>.........................] - ETA: 8s\r\n",
      " 44900352/243179624 [====>.........................] - ETA: 8s\r\n",
      " 46931968/243179624 [====>.........................] - ETA: 7s\r\n",
      " 49004544/243179624 [=====>........................] - ETA: 7s\r\n",
      " 51134464/243179624 [=====>........................] - ETA: 7s\r\n",
      " 53387264/243179624 [=====>........................] - ETA: 7s\r\n",
      " 55656448/243179624 [=====>........................] - ETA: 6s\r\n",
      " 57933824/243179624 [======>.......................] - ETA: 6s\r\n",
      " 60358656/243179624 [======>.......................] - ETA: 6s\r\n",
      " 62808064/243179624 [======>.......................] - ETA: 6s\r\n",
      " 65257472/243179624 [=======>......................] - ETA: 6s\r\n",
      " 67690496/243179624 [=======>......................] - ETA: 6s\r\n",
      " 70246400/243179624 [=======>......................] - ETA: 5s\r\n",
      " 72957952/243179624 [========>.....................] - ETA: 5s\r\n",
      " 75694080/243179624 [========>.....................] - ETA: 5s\r\n",
      " 78462976/243179624 [========>.....................] - ETA: 5s\r\n",
      " 81379328/243179624 [=========>....................] - ETA: 5s\r\n",
      " 84295680/243179624 [=========>....................] - ETA: 4s\r\n",
      " 87343104/243179624 [=========>....................] - ETA: 4s\r\n",
      " 90406912/243179624 [==========>...................] - ETA: 4s\r\n",
      " 93585408/243179624 [==========>...................] - ETA: 4s\r\n",
      " 96829440/243179624 [==========>...................] - ETA: 4s\r\n",
      "100114432/243179624 [===========>..................] - ETA: 4s\r\n",
      "103333888/243179624 [===========>..................] - ETA: 3s\r\n",
      "106758144/243179624 [============>.................] - ETA: 3s\r\n",
      "110215168/243179624 [============>.................] - ETA: 3s\r\n",
      "113745920/243179624 [=============>................] - ETA: 3s\r\n",
      "117161984/243179624 [=============>................] - ETA: 3s\r\n",
      "120692736/243179624 [=============>................] - ETA: 3s\r\n",
      "124338176/243179624 [==============>...............] - ETA: 3s\r\n",
      "127926272/243179624 [==============>...............] - ETA: 2s\r\n",
      "130719744/243179624 [===============>..............] - ETA: 2s\r\n",
      "133398528/243179624 [===============>..............] - ETA: 2s\r\n",
      "136134656/243179624 [===============>..............] - ETA: 2s\r\n",
      "138887168/243179624 [================>.............] - ETA: 2s\r\n",
      "141598720/243179624 [================>.............] - ETA: 2s\r\n",
      "144539648/243179624 [================>.............] - ETA: 2s\r\n",
      "147103744/243179624 [=================>............] - ETA: 2s\r\n",
      "149987328/243179624 [=================>............] - ETA: 2s\r\n",
      "152928256/243179624 [=================>............] - ETA: 2s\r\n",
      "156049408/243179624 [==================>...........] - ETA: 2s\r\n",
      "158867456/243179624 [==================>...........] - ETA: 2s\r\n",
      "162021376/243179624 [==================>...........] - ETA: 1s\r\n",
      "165134336/243179624 [===================>..........] - ETA: 1s\r\n",
      "168419328/243179624 [===================>..........] - ETA: 1s\r\n",
      "171769856/243179624 [====================>.........] - ETA: 1s\r\n",
      "175128576/243179624 [====================>.........] - ETA: 1s\r\n",
      "178503680/243179624 [=====================>........] - ETA: 1s\r\n",
      "181608448/243179624 [=====================>........] - ETA: 1s\r\n",
      "185114624/243179624 [=====================>........] - ETA: 1s\r\n",
      "188653568/243179624 [======================>.......] - ETA: 1s\r\n",
      "192258048/243179624 [======================>.......] - ETA: 1s\r\n",
      "195944448/243179624 [=======================>......] - ETA: 1s\r\n",
      "199761920/243179624 [=======================>......] - ETA: 0s\r\n",
      "203366400/243179624 [========================>.....] - ETA: 0s\r\n",
      "207011840/243179624 [========================>.....] - ETA: 0s\r\n",
      "210903040/243179624 [=========================>....] - ETA: 0s\r\n",
      "214384640/243179624 [=========================>....] - ETA: 0s\r\n",
      "218349568/243179624 [=========================>....] - ETA: 0s\r\n",
      "222142464/243179624 [==========================>...] - ETA: 0s\r\n",
      "226222080/243179624 [==========================>...] - ETA: 0s\r\n",
      "230293504/243179624 [===========================>..] - ETA: 0s\r\n",
      "234438656/243179624 [===========================>..] - ETA: 0s\r\n",
      "238493696/243179624 [============================>.] - ETA: 0s\r\n",
      "242671616/243179624 [============================>.] - ETA: 0s\r\n",
      "243187712/243179624 [==============================] - 5s 0us/step\r\n"
     ]
    }
   ],
   "source": [
    "!kubectl logs {pod_dict['items'][0]['metadata']['name']}"
   ]
  },
  {
   "cell_type": "code",
   "execution_count": 40,
   "metadata": {},
   "outputs": [
    {
     "name": "stdout",
     "output_type": "stream",
     "text": [
      "NAME       DESIRED   CURRENT   UP-TO-DATE   AVAILABLE   AGE\r\n",
      "azure-dl   1         1         1            1           2m\r\n"
     ]
    }
   ],
   "source": [
    "!kubectl get deployment"
   ]
  },
  {
   "cell_type": "markdown",
   "metadata": {},
   "source": [
    "It can take a few minutes for the service to populate the EXTERNAL-IP field below. This will be the IP you use to call the service. You can also specify an IP to use, please see the AKS documentation for further details."
   ]
  },
  {
   "cell_type": "code",
   "execution_count": 42,
   "metadata": {},
   "outputs": [
    {
     "name": "stdout",
     "output_type": "stream",
     "text": [
      "NAME       TYPE           CLUSTER-IP    EXTERNAL-IP    PORT(S)        AGE\r\n",
      "azure-dl   LoadBalancer   10.0.12.158   52.186.67.95   80:30022/TCP   2m\r\n"
     ]
    }
   ],
   "source": [
    "!kubectl get service azure-dl"
   ]
  },
  {
   "cell_type": "markdown",
   "metadata": {},
   "source": [
    "Next, we will [test our web application deployed on AKS](05_TestWebApp.ipynb). Once, we are done with all the notebooks of the tutorial, below instructions can be used to delete the cluster and free resources."
   ]
  },
  {
   "cell_type": "markdown",
   "metadata": {},
   "source": [
    "# Tear it all down"
   ]
  },
  {
   "cell_type": "markdown",
   "metadata": {},
   "source": [
    "Once you are done with your cluster you can use the following two commands to destroy it all."
   ]
  },
  {
   "cell_type": "code",
   "execution_count": 70,
   "metadata": {},
   "outputs": [
    {
     "name": "stdout",
     "output_type": "stream",
     "text": [
      "deployment \"azure-dl\" deleted\n",
      "service \"azure-dl\" deleted\n"
     ]
    }
   ],
   "source": [
    "!kubectl delete -f az-dl.json"
   ]
  },
  {
   "cell_type": "code",
   "execution_count": 31,
   "metadata": {},
   "outputs": [
    {
     "name": "stdout",
     "output_type": "stream",
     "text": [
      "\u001b[K\u001b[0minished .."
     ]
    }
   ],
   "source": [
    "!az aks delete -n $aks_name -g $resource_group -y"
   ]
  },
  {
   "cell_type": "code",
   "execution_count": 32,
   "metadata": {},
   "outputs": [
    {
     "name": "stdout",
     "output_type": "stream",
     "text": [
      "\u001b[K\u001b[0minished .."
     ]
    }
   ],
   "source": [
    "!az group delete --name $resource_group -y"
   ]
  }
 ],
 "metadata": {
  "kernelspec": {
   "display_name": "Python [conda env:py35]",
   "language": "python",
   "name": "conda-env-py35-py"
  },
  "language_info": {
   "codemirror_mode": {
    "name": "ipython",
    "version": 3
   },
   "file_extension": ".py",
   "mimetype": "text/x-python",
   "name": "python",
   "nbconvert_exporter": "python",
   "pygments_lexer": "ipython3",
   "version": "3.5.2"
  }
 },
 "nbformat": 4,
 "nbformat_minor": 2
}
