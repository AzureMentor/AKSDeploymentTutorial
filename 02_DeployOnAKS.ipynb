{
 "cells": [
  {
   "cell_type": "markdown",
   "metadata": {
    "collapsed": true
   },
   "source": [
    "### Deploy Web App on Azure Container Services (AKS)\n",
    "In this notebook we will set up an Azure Container Service which will be managed by Kubernetes. We will then take the Docker image we created earlier that contains our app and deploy it to the ACS cluster. Then we will check everything is working by sending an image to it and getting it scored.\n",
    "\n",
    "The process is split into the following steps:\n",
    "* [Define our resource names](#section1)\n",
    "* [Login to Azure](#section2)\n",
    "* [Create the ACS](#section3)\n",
    "* [Create a tunnel to the head node](#section4)\n",
    "* [Create a JSON schema of our APP and push it to the cluster](#section5)\n",
    "* [Test our app](TestWebApp.ipynb)\n",
    "* [Tear it all down](#section7)\n",
    "\n",
    "This guide assumes is designed to be run on linux and requires that the Azure CLI is installed."
   ]
  },
  {
   "cell_type": "markdown",
   "metadata": {},
   "source": [
    "<a id='section1'></a>"
   ]
  },
  {
   "cell_type": "markdown",
   "metadata": {},
   "source": [
    "## Setup\n",
    "Below are the various name definitions for the resources needed to setup ACS as well as the name of the Docker image we will be using."
   ]
  },
  {
   "cell_type": "markdown",
   "metadata": {},
   "source": [
    "**Some outputs (and inputs) below have been hidden/masked for confidentiality**"
   ]
  },
  {
   "cell_type": "code",
   "execution_count": 24,
   "metadata": {
    "collapsed": true
   },
   "outputs": [],
   "source": [
    "resource_group = \"msaksrg\" # Feel free to modify these\n",
    "acs_name = \"msaks\"\n",
    "location = \"eastus\"\n",
    "\n",
    "image_name = 'masalvar/cntkresnet-gpu' \n",
    "selected_subscription = \"'Team Danielle Internal'\" # If you have multiple subscriptions select \n",
    "                                                   # the subscription you want to use here"
   ]
  },
  {
   "cell_type": "markdown",
   "metadata": {
    "collapsed": true
   },
   "source": [
    "<a id='section2'></a>"
   ]
  },
  {
   "cell_type": "markdown",
   "metadata": {},
   "source": [
    "## Azure account login\n",
    "The command below will initiate a login to your Azure account. It will pop up with an url to go to where you will enter a one off code and log into your Azure account using your browser."
   ]
  },
  {
   "cell_type": "code",
   "execution_count": 2,
   "metadata": {
    "scrolled": true
   },
   "outputs": [
    {
     "name": "stdout",
     "output_type": "stream",
     "text": [
      "\u001b[33mTo sign in, use a web browser to open the page https://microsoft.com/devicelogin and enter the code FYXCVTLFG to authenticate.\u001b[0m\n",
      "CloudName    Name                           State    TenantId                              IsDefault\n",
      "-----------  -----------------------------  -------  ------------------------------------  -----------\n",
      "AzureCloud   Boston DS Dev                  Enabled  72f988bf-86f1-41af-91ab-2d7cd011db47\n",
      "AzureCloud   Azure Internal - London        Enabled  72f988bf-86f1-41af-91ab-2d7cd011db47\n",
      "AzureCloud   Team Danielle Internal         Enabled  72f988bf-86f1-41af-91ab-2d7cd011db47  True\n",
      "AzureCloud   Visual Studio Enterprise       Enabled  72f988bf-86f1-41af-91ab-2d7cd011db47\n",
      "AzureCloud   Boston Engineering             Enabled  72f988bf-86f1-41af-91ab-2d7cd011db47\n",
      "AzureCloud   ADLTrainingMS                  Enabled  72f988bf-86f1-41af-91ab-2d7cd011db47\n",
      "AzureCloud   PhillyExt                      Enabled  72f988bf-86f1-41af-91ab-2d7cd011db47\n",
      "AzureCloud   Ads Eng Big Data Subscription  Enabled  72f988bf-86f1-41af-91ab-2d7cd011db47\n",
      "AzureCloud   Data Wrangling Preview         Enabled  72f988bf-86f1-41af-91ab-2d7cd011db47\n",
      "AzureCloud   Data Wrangling development     Enabled  72f988bf-86f1-41af-91ab-2d7cd011db47\n",
      "AzureCloud   AzureML Client PROD            Enabled  72f988bf-86f1-41af-91ab-2d7cd011db47\n",
      "AzureCloud   R portal - Production          Enabled  72f988bf-86f1-41af-91ab-2d7cd011db47\n",
      "AzureCloud   PhillyInt                      Enabled  72f988bf-86f1-41af-91ab-2d7cd011db47\n",
      "AzureCloud   Solution Template Testing      Enabled  72f988bf-86f1-41af-91ab-2d7cd011db47\n",
      "AzureCloud   Team Ilan                      Enabled  72f988bf-86f1-41af-91ab-2d7cd011db47\n",
      "AzureCloud   Marketing Automation           Enabled  72f988bf-86f1-41af-91ab-2d7cd011db47\n"
     ]
    }
   ],
   "source": [
    "!az login -o table"
   ]
  },
  {
   "cell_type": "code",
   "execution_count": 3,
   "metadata": {
    "collapsed": true
   },
   "outputs": [],
   "source": [
    "!az account set --subscription $selected_subscription"
   ]
  },
  {
   "cell_type": "code",
   "execution_count": 25,
   "metadata": {},
   "outputs": [
    {
     "name": "stdout",
     "output_type": "stream",
     "text": [
      "{\r\n",
      "  \"environmentName\": \"AzureCloud\",\r\n",
      "  \"id\": \"edf507a2-6235-46c5-b560-fd463ba2e771\",\r\n",
      "  \"isDefault\": true,\r\n",
      "  \"name\": \"Team Danielle Internal\",\r\n",
      "  \"state\": \"Enabled\",\r\n",
      "  \"tenantId\": \"72f988bf-86f1-41af-91ab-2d7cd011db47\",\r\n",
      "  \"user\": {\r\n",
      "    \"name\": \"masalvar@microsoft.com\",\r\n",
      "    \"type\": \"user\"\r\n",
      "  }\r\n",
      "}\r\n"
     ]
    }
   ],
   "source": [
    "!az account show"
   ]
  },
  {
   "cell_type": "code",
   "execution_count": 5,
   "metadata": {},
   "outputs": [
    {
     "name": "stdout",
     "output_type": "stream",
     "text": [
      "\u001b[33mRegistering is still on-going. You can monitor using 'az provider show -n Microsoft.ContainerService'\u001b[0m\r\n"
     ]
    }
   ],
   "source": [
    "!az provider register -n Microsoft.ContainerService"
   ]
  },
  {
   "cell_type": "markdown",
   "metadata": {},
   "source": [
    "<a id='section3'></a>"
   ]
  },
  {
   "cell_type": "markdown",
   "metadata": {},
   "source": [
    "## Create resources and dependencies"
   ]
  },
  {
   "cell_type": "markdown",
   "metadata": {},
   "source": [
    "### Create resource group\n",
    "Azure encourages the use of groups to organise all the Azure components you deploy. That way it is easier to find them but also we can deleted a number of resources simply by deleting the group."
   ]
  },
  {
   "cell_type": "code",
   "execution_count": 6,
   "metadata": {},
   "outputs": [
    {
     "name": "stdout",
     "output_type": "stream",
     "text": [
      "{\r\n",
      "  \"id\": \"/subscriptions/edf507a2-6235-46c5-b560-fd463ba2e771/resourceGroups/msaksrg\",\r\n",
      "  \"location\": \"eastus\",\r\n",
      "  \"managedBy\": null,\r\n",
      "  \"name\": \"msaksrg\",\r\n",
      "  \"properties\": {\r\n",
      "    \"provisioningState\": \"Succeeded\"\r\n",
      "  },\r\n",
      "  \"tags\": null\r\n",
      "}\r\n"
     ]
    }
   ],
   "source": [
    "!az group create --name $resource_group --location $location"
   ]
  },
  {
   "cell_type": "code",
   "execution_count": 26,
   "metadata": {},
   "outputs": [
    {
     "data": {
      "text/plain": [
       "'msaksrg'"
      ]
     },
     "execution_count": 26,
     "metadata": {},
     "output_type": "execute_result"
    }
   ],
   "source": [
    "resource_group"
   ]
  },
  {
   "cell_type": "code",
   "execution_count": 27,
   "metadata": {},
   "outputs": [
    {
     "name": "stdout",
     "output_type": "stream",
     "text": [
      "\u001b[K{- Finished ..\n",
      "  \"additionalProperties\": {},\n",
      "  \"agentPoolProfiles\": [\n",
      "    {\n",
      "      \"additionalProperties\": {},\n",
      "      \"count\": 1,\n",
      "      \"dnsPrefix\": null,\n",
      "      \"fqdn\": null,\n",
      "      \"name\": \"nodepool1\",\n",
      "      \"osDiskSizeGb\": null,\n",
      "      \"osType\": \"Linux\",\n",
      "      \"ports\": null,\n",
      "      \"storageProfile\": \"ManagedDisks\",\n",
      "      \"vmSize\": \"Standard_NC6\",\n",
      "      \"vnetSubnetId\": null\n",
      "    }\n",
      "  ],\n",
      "  \"dnsPrefix\": \"myAKSClust-msaksrg-edf507\",\n",
      "  \"fqdn\": \"myaksclust-msaksrg-edf507-823b8e55.hcp.eastus.azmk8s.io\",\n",
      "  \"id\": \"/subscriptions/edf507a2-6235-46c5-b560-fd463ba2e771/resourcegroups/msaksrg/providers/Microsoft.ContainerService/managedClusters/myAKSCluster\",\n",
      "  \"kubernetesVersion\": \"1.7.9\",\n",
      "  \"linuxProfile\": {\n",
      "    \"additionalProperties\": {},\n",
      "    \"adminUsername\": \"azureuser\",\n",
      "    \"ssh\": {\n",
      "      \"additionalProperties\": {},\n",
      "      \"publicKeys\": [\n",
      "        {\n",
      "          \"additionalProperties\": {},\n",
      "          \"keyData\": \"ssh-rsa AAAAB3NzaC1yc2EAAAADAQABAAABAQDVfKBWPBKS84wluD3DJ0t3hepO2F13pz1VI5d4c7Tn4d80rSKJkF2L2HtAf3w9R7TM5TYcSlMqv+OFtB5iwfMk1k8sarGqmB1aLuEYBD60cqtdWD34DPWz8Y4eQ7x8eQ2joVRgMFpv+SfEuPBaQdTM7QtFiWRA1ZioXElyniL2Snhsd/ICcq5SIcZSPj3z9/eUcKGz/eImLkOYU28l8fLpVg48x70rGOtpfmDmZJ3KT/LImDWbPFF4VIRuiki4qVaMvDvwlEB7BmqM5D8qO7tOM3ncZ3TqUhrSQj9NbeC65xvB83+BiZts63VXAsMLnu+0wbAXnA4W66ly/5UyjC//\"\n",
      "        }\n",
      "      ]\n",
      "    }\n",
      "  },\n",
      "  \"location\": \"eastus\",\n",
      "  \"name\": \"myAKSCluster\",\n",
      "  \"provisioningState\": \"Succeeded\",\n",
      "  \"resourceGroup\": \"msaksrg\",\n",
      "  \"servicePrincipalProfile\": {\n",
      "    \"additionalProperties\": {},\n",
      "    \"clientId\": \"44ba57c3-4386-4788-a761-8d72faa493e2\",\n",
      "    \"keyVaultSecretRef\": null,\n",
      "    \"secret\": null\n",
      "  },\n",
      "  \"tags\": null,\n",
      "  \"type\": \"Microsoft.ContainerService/ManagedClusters\"\n",
      "}\n",
      "\u001b[0m"
     ]
    }
   ],
   "source": [
    "!az aks create --resource-group $resource_group --name myAKSCluster --node-count 1 --generate-ssh-keys -s Standard_NC6"
   ]
  },
  {
   "cell_type": "markdown",
   "metadata": {},
   "source": [
    "Install cli from comamnd prompt"
   ]
  },
  {
   "cell_type": "code",
   "execution_count": 9,
   "metadata": {},
   "outputs": [
    {
     "name": "stdout",
     "output_type": "stream",
     "text": [
      "\u001b[33mDownloading client to /usr/local/bin/kubectl from https://storage.googleapis.com/kubernetes-release/release/v1.9.4/bin/linux/amd64/kubectl\u001b[0m\n",
      "\u001b[33mPlease ensure that /usr/local/bin is in your search PATH, so the `kubectl` command can be found.\u001b[0m\n"
     ]
    }
   ],
   "source": [
    "!sudo az aks install-cli"
   ]
  },
  {
   "cell_type": "code",
   "execution_count": 23,
   "metadata": {
    "collapsed": true
   },
   "outputs": [],
   "source": [
    "app_template = {\n",
    "  \"apiVersion\": \"apps/v1beta1\",\n",
    "  \"kind\": \"Deployment\",\n",
    "  \"metadata\": {\n",
    "      \"name\": \"azure-dl\"\n",
    "  },\n",
    "  \"spec\":{\n",
    "      \"replicas\":1,\n",
    "      \"template\":{\n",
    "          \"metadata\":{\n",
    "              \"labels\":{\n",
    "                  \"app\":\"azure-dl\"\n",
    "              }\n",
    "          },\n",
    "          \"spec\":{\n",
    "              \"containers\":[\n",
    "                  {\n",
    "                      \"name\": \"azure-dl\",\n",
    "                      \"image\": \"masalvar/cntkresnet-gpu\",\n",
    "                      \"ports\":[\n",
    "                          {\n",
    "                              \"containerPort\":88,\n",
    "                              \"name\":\"model\"\n",
    "                          }\n",
    "                      ],\n",
    "                      \"volumeMounts\":[\n",
    "                          {\n",
    "                              \"name\": \"bin\",\n",
    "                              \"mountPath\":\"/usr/local/nvidia/bin\" \n",
    "                          },\n",
    "                          {\n",
    "                              \"name\": \"lib\",\n",
    "                              \"mountPath\":\"/usr/local/nvidia/lib64\" \n",
    "                          },\n",
    "                          {\n",
    "                              \"name\": \"libcuda\",\n",
    "                              \"mountPath\":\"/usr/lib/x86_64-linux-gnu/libcuda.so.1\" \n",
    "                          },\n",
    "                      ],\n",
    "                      \"resources\":{\n",
    "                           \"requests\":{\n",
    "                               \"alpha.kubernetes.io/nvidia-gpu\": 1\n",
    "                           },\n",
    "                           \"limits\":{\n",
    "                               \"alpha.kubernetes.io/nvidia-gpu\": 1\n",
    "                           }\n",
    "                       }\n",
    "                      \n",
    "                      \n",
    "                  }\n",
    "              ],\n",
    "              \"volumes\":[\n",
    "                  {\n",
    "                      \"name\": \"bin\",\n",
    "                      \"hostPath\":{\n",
    "                          \"path\":\"/usr/lib/nvidia-384/bin\"\n",
    "                      },\n",
    "                  },\n",
    "                  {\n",
    "                      \"name\": \"lib\",\n",
    "                      \"hostPath\":{\n",
    "                          \"path\":\"/usr/lib/nvidia-384\"\n",
    "                      },\n",
    "                  },\n",
    "                  {\n",
    "                      \"name\": \"libcuda\",\n",
    "                      \"hostPath\":{\n",
    "                          \"path\":\"/usr/lib/x86_64-linux-gnu/libcuda.so.1\"\n",
    "                      },\n",
    "                  }\n",
    "              ]\n",
    "          }\n",
    "      }\n",
    "  }\n",
    "}\n",
    "\n",
    "service_temp = {\n",
    "  \"apiVersion\": \"v1\",\n",
    "  \"kind\": \"Service\",\n",
    "  \"metadata\": {\n",
    "      \"name\": \"azure-dl\"\n",
    "  },\n",
    "  \"spec\":{\n",
    "      \"ports\":[\n",
    "          {\n",
    "              \"port\":88,\n",
    "              \"selector\":{\n",
    "                  \"app\":\"azure-dl\"\n",
    "              }\n",
    "          }\n",
    "      ]\n",
    "  }\n",
    "}"
   ]
  },
  {
   "cell_type": "code",
   "execution_count": 42,
   "metadata": {
    "collapsed": true
   },
   "outputs": [],
   "source": [
    "app_template = {\n",
    "  \"apiVersion\": \"apps/v1beta1\",\n",
    "  \"kind\": \"Deployment\",\n",
    "  \"metadata\": {\n",
    "      \"name\": \"azure-dl\"\n",
    "  },\n",
    "  \"spec\":{\n",
    "      \"replicas\":1,\n",
    "      \"template\":{\n",
    "          \"metadata\":{\n",
    "              \"labels\":{\n",
    "                  \"app\":\"azure-dl\"\n",
    "              }\n",
    "          },\n",
    "          \"spec\":{\n",
    "              \"containers\":[\n",
    "                  {\n",
    "                      \"name\": \"azure-dl\",\n",
    "                      \"image\": \"masalvar/cntkresnet-gpu\",\n",
    "                      \"env\":[\n",
    "                          {\n",
    "                              \"name\": \"LD_LIBRARY_PATH\",\n",
    "                              \"value\": \"$LD_LIBRARY_PATH:/usr/local/nvidia/lib64:/opt/conda/envs/py3.6/lib\"\n",
    "                          }\n",
    "                      ],\n",
    "                      \"ports\":[\n",
    "                          {\n",
    "                              \"containerPort\":80,\n",
    "                              \"name\":\"model\"\n",
    "                          }\n",
    "                      ],\n",
    "                      \"volumeMounts\":[\n",
    "                          {\n",
    "                              \"name\": \"bin\",\n",
    "                              \"mountPath\":\"/usr/local/nvidia/bin\" \n",
    "                          },\n",
    "                          {\n",
    "                              \"name\": \"lib\",\n",
    "                              \"mountPath\":\"/usr/local/nvidia/lib64\" \n",
    "                          },\n",
    "                          {\n",
    "                              \"name\": \"libcuda\",\n",
    "                              \"mountPath\":\"/usr/lib/x86_64-linux-gnu/libcuda.so.1\" \n",
    "                          },\n",
    "                      ],\n",
    "                      \"resources\":{\n",
    "                           \"requests\":{\n",
    "                               \"alpha.kubernetes.io/nvidia-gpu\": 1\n",
    "                           },\n",
    "                           \"limits\":{\n",
    "                               \"alpha.kubernetes.io/nvidia-gpu\": 1\n",
    "                           }\n",
    "                       }  \n",
    "                  }\n",
    "              ],\n",
    "              \"volumes\":[\n",
    "                  {\n",
    "                      \"name\": \"bin\",\n",
    "                      \"hostPath\":{\n",
    "                          \"path\":\"/usr/lib/nvidia-384/bin\"\n",
    "                      },\n",
    "                  },\n",
    "                  {\n",
    "                      \"name\": \"lib\",\n",
    "                      \"hostPath\":{\n",
    "                          \"path\":\"/usr/lib/nvidia-384\"\n",
    "                      },\n",
    "                  },\n",
    "                  {\n",
    "                      \"name\": \"libcuda\",\n",
    "                      \"hostPath\":{\n",
    "                          \"path\":\"/usr/lib/x86_64-linux-gnu/libcuda.so.1\"\n",
    "                      },\n",
    "                  },\n",
    "              ]\n",
    "          }\n",
    "      }\n",
    "  }\n",
    "}\n",
    "\n",
    "service_temp = {\n",
    "  \"apiVersion\": \"v1\",\n",
    "  \"kind\": \"Service\",\n",
    "  \"metadata\": {\n",
    "      \"name\": \"azure-dl\"\n",
    "  },\n",
    "  \"spec\":{\n",
    "      \"type\": \"LoadBalancer\",\n",
    "      \"ports\":[\n",
    "          {\n",
    "              \"port\":80\n",
    "          }\n",
    "      ],\n",
    "      \"selector\":{\n",
    "            \"app\":\"azure-dl\"\n",
    "      }\n",
    "   }\n",
    "}"
   ]
  },
  {
   "cell_type": "code",
   "execution_count": 43,
   "metadata": {
    "collapsed": true
   },
   "outputs": [],
   "source": [
    "def write_json_to_file(json_dict, filename, mode='w'):\n",
    "    with open(filename, mode) as outfile:\n",
    "        json.dump(json_dict, outfile, indent=4,sort_keys=True)\n",
    "        outfile.write('\\n\\n')"
   ]
  },
  {
   "cell_type": "code",
   "execution_count": 44,
   "metadata": {
    "collapsed": true
   },
   "outputs": [],
   "source": [
    "write_json_to_file(app_template, 'az-dl.json')"
   ]
  },
  {
   "cell_type": "code",
   "execution_count": 45,
   "metadata": {
    "collapsed": true
   },
   "outputs": [],
   "source": [
    "write_json_to_file(service_temp, 'az-dl.json', mode='a')"
   ]
  },
  {
   "cell_type": "code",
   "execution_count": 46,
   "metadata": {},
   "outputs": [
    {
     "name": "stdout",
     "output_type": "stream",
     "text": [
      "{\r\n",
      "    \"apiVersion\": \"apps/v1beta1\",\r\n",
      "    \"kind\": \"Deployment\",\r\n",
      "    \"metadata\": {\r\n",
      "        \"name\": \"azure-dl\"\r\n",
      "    },\r\n",
      "    \"spec\": {\r\n",
      "        \"replicas\": 1,\r\n",
      "        \"template\": {\r\n",
      "            \"metadata\": {\r\n",
      "                \"labels\": {\r\n",
      "                    \"app\": \"azure-dl\"\r\n",
      "                }\r\n",
      "            },\r\n",
      "            \"spec\": {\r\n",
      "                \"containers\": [\r\n",
      "                    {\r\n",
      "                        \"env\": [\r\n",
      "                            {\r\n",
      "                                \"name\": \"LD_LIBRARY_PATH\",\r\n",
      "                                \"value\": \"$LD_LIBRARY_PATH:/usr/local/nvidia/lib64:/opt/conda/envs/py3.6/lib\"\r\n",
      "                            }\r\n",
      "                        ],\r\n",
      "                        \"image\": \"masalvar/cntkresnet-gpu\",\r\n",
      "                        \"name\": \"azure-dl\",\r\n",
      "                        \"ports\": [\r\n",
      "                            {\r\n",
      "                                \"containerPort\": 80,\r\n",
      "                                \"name\": \"model\"\r\n",
      "                            }\r\n",
      "                        ],\r\n",
      "                        \"resources\": {\r\n",
      "                            \"limits\": {\r\n",
      "                                \"alpha.kubernetes.io/nvidia-gpu\": 1\r\n",
      "                            },\r\n",
      "                            \"requests\": {\r\n",
      "                                \"alpha.kubernetes.io/nvidia-gpu\": 1\r\n",
      "                            }\r\n",
      "                        },\r\n",
      "                        \"volumeMounts\": [\r\n",
      "                            {\r\n",
      "                                \"mountPath\": \"/usr/local/nvidia/bin\",\r\n",
      "                                \"name\": \"bin\"\r\n",
      "                            },\r\n",
      "                            {\r\n",
      "                                \"mountPath\": \"/usr/local/nvidia/lib64\",\r\n",
      "                                \"name\": \"lib\"\r\n",
      "                            },\r\n",
      "                            {\r\n",
      "                                \"mountPath\": \"/usr/lib/x86_64-linux-gnu/libcuda.so.1\",\r\n",
      "                                \"name\": \"libcuda\"\r\n",
      "                            }\r\n",
      "                        ]\r\n",
      "                    }\r\n",
      "                ],\r\n",
      "                \"volumes\": [\r\n",
      "                    {\r\n",
      "                        \"hostPath\": {\r\n",
      "                            \"path\": \"/usr/lib/nvidia-384/bin\"\r\n",
      "                        },\r\n",
      "                        \"name\": \"bin\"\r\n",
      "                    },\r\n",
      "                    {\r\n",
      "                        \"hostPath\": {\r\n",
      "                            \"path\": \"/usr/lib/nvidia-384\"\r\n",
      "                        },\r\n",
      "                        \"name\": \"lib\"\r\n",
      "                    },\r\n",
      "                    {\r\n",
      "                        \"hostPath\": {\r\n",
      "                            \"path\": \"/usr/lib/x86_64-linux-gnu/libcuda.so.1\"\r\n",
      "                        },\r\n",
      "                        \"name\": \"libcuda\"\r\n",
      "                    }\r\n",
      "                ]\r\n",
      "            }\r\n",
      "        }\r\n",
      "    }\r\n",
      "}\r\n",
      "\r\n",
      "{\r\n",
      "    \"apiVersion\": \"v1\",\r\n",
      "    \"kind\": \"Service\",\r\n",
      "    \"metadata\": {\r\n",
      "        \"name\": \"azure-dl\"\r\n",
      "    },\r\n",
      "    \"spec\": {\r\n",
      "        \"ports\": [\r\n",
      "            {\r\n",
      "                \"port\": 80\r\n",
      "            }\r\n",
      "        ],\r\n",
      "        \"selector\": {\r\n",
      "            \"app\": \"azure-dl\"\r\n",
      "        },\r\n",
      "        \"type\": \"LoadBalancer\"\r\n",
      "    }\r\n",
      "}\r\n",
      "\r\n"
     ]
    }
   ],
   "source": [
    "!cat az-dl.json"
   ]
  },
  {
   "cell_type": "code",
   "execution_count": 33,
   "metadata": {},
   "outputs": [
    {
     "name": "stdout",
     "output_type": "stream",
     "text": [
      "Merged \"myAKSCluster\" as current context in /home/mat/.kube/config\r\n"
     ]
    }
   ],
   "source": [
    "!az aks get-credentials --resource-group=$resource_group --name=myAKSCluster"
   ]
  },
  {
   "cell_type": "code",
   "execution_count": 47,
   "metadata": {},
   "outputs": [
    {
     "name": "stdout",
     "output_type": "stream",
     "text": [
      "NAME                       STATUS    ROLES     AGE       VERSION\r\n",
      "aks-nodepool1-12483742-0   Ready     agent     29m       v1.7.9\r\n"
     ]
    }
   ],
   "source": [
    "!kubectl get nodes"
   ]
  },
  {
   "cell_type": "code",
   "execution_count": 48,
   "metadata": {},
   "outputs": [
    {
     "name": "stdout",
     "output_type": "stream",
     "text": [
      "NAMESPACE     NAME                                    READY     STATUS    RESTARTS   AGE\r\n",
      "kube-system   heapster-2574232661-103s7               2/2       Running   0          27m\r\n",
      "kube-system   kube-dns-v20-2253765213-d8mg7           3/3       Running   0          28m\r\n",
      "kube-system   kube-dns-v20-2253765213-qw371           3/3       Running   0          28m\r\n",
      "kube-system   kube-proxy-lhd13                        1/1       Running   0          28m\r\n",
      "kube-system   kube-svc-redirect-7bqsm                 1/1       Running   0          28m\r\n",
      "kube-system   kubernetes-dashboard-2898242510-pvk5h   1/1       Running   0          28m\r\n",
      "kube-system   tunnelfront-3600233641-xg9z3            1/1       Running   0          28m\r\n"
     ]
    }
   ],
   "source": [
    "!kubectl get pods --all-namespaces"
   ]
  },
  {
   "cell_type": "code",
   "execution_count": 49,
   "metadata": {},
   "outputs": [
    {
     "name": "stdout",
     "output_type": "stream",
     "text": [
      "deployment \"azure-dl\" created\n",
      "service \"azure-dl\" created\n"
     ]
    }
   ],
   "source": [
    "!kubectl create -f az-dl.json"
   ]
  },
  {
   "cell_type": "code",
   "execution_count": 53,
   "metadata": {},
   "outputs": [
    {
     "name": "stdout",
     "output_type": "stream",
     "text": [
      "NAMESPACE     NAME                                    READY     STATUS    RESTARTS   AGE\r\n",
      "default       azure-dl-2914933029-vdtbv               1/1       Running   0          12h\r\n",
      "kube-system   heapster-2574232661-103s7               2/2       Running   0          13h\r\n",
      "kube-system   kube-dns-v20-2253765213-d8mg7           3/3       Running   0          13h\r\n",
      "kube-system   kube-dns-v20-2253765213-qw371           3/3       Running   0          13h\r\n",
      "kube-system   kube-proxy-lhd13                        1/1       Running   0          13h\r\n",
      "kube-system   kube-svc-redirect-7bqsm                 1/1       Running   0          13h\r\n",
      "kube-system   kubernetes-dashboard-2898242510-pvk5h   1/1       Running   0          13h\r\n",
      "kube-system   tunnelfront-3600233641-xg9z3            1/1       Running   0          13h\r\n"
     ]
    }
   ],
   "source": [
    "!kubectl get pods --all-namespaces"
   ]
  },
  {
   "cell_type": "code",
   "execution_count": 52,
   "metadata": {},
   "outputs": [
    {
     "name": "stdout",
     "output_type": "stream",
     "text": [
      "LAST SEEN   FIRST SEEN   COUNT     NAME                                        KIND      SUBOBJECT   TYPE      REASON                             SOURCE                              MESSAGE\r\n",
      "10m         13h          6         aks-nodepool1-12483742-0.151d1c455b4c4741   Node                  Normal    NodeHasSufficientDisk              kubelet, aks-nodepool1-12483742-0   Node aks-nodepool1-12483742-0 status is now: NodeHasSufficientDisk\r\n",
      "10m         13h          6         aks-nodepool1-12483742-0.151d1c455b4c84fb   Node                  Normal    NodeHasSufficientMemory            kubelet, aks-nodepool1-12483742-0   Node aks-nodepool1-12483742-0 status is now: NodeHasSufficientMemory\r\n",
      "10m         13h          6         aks-nodepool1-12483742-0.151d1c455b4ca4a0   Node                  Normal    NodeHasNoDiskPressure              kubelet, aks-nodepool1-12483742-0   Node aks-nodepool1-12483742-0 status is now: NodeHasNoDiskPressure\r\n",
      "1s          13h          802       aks-nodepool1-12483742-0.151d1c455b6f5993   Node                  Warning   FailedNodeAllocatableEnforcement   kubelet, aks-nodepool1-12483742-0   Failed to update Node Allocatable Limits \"\": failed to set supported cgroup subsystems for cgroup : Failed to set config for supported subsystems : failed to write 59076296704 to memory.limit_in_bytes: write /var/lib/docker/overlay2/d15432a8fe4c57664bc5f8519d1dbd9641cc3cc6d8e92724cf41b2edcad5b51f/merged/sys/fs/cgroup/memory/memory.limit_in_bytes: invalid argument\r\n",
      "10m         13h          2         aks-nodepool1-12483742-0.151d1c8592590310   Node                  Normal    NodeReady                          kubelet, aks-nodepool1-12483742-0   Node aks-nodepool1-12483742-0 status is now: NodeReady\r\n",
      "11m         11m          1         aks-nodepool1-12483742-0.151d476089ee48d6   Node                  Normal    NodeNotReady                       controllermanager                   Node aks-nodepool1-12483742-0 status is now: NodeNotReady\r\n"
     ]
    }
   ],
   "source": [
    "!kubectl get events"
   ]
  },
  {
   "cell_type": "code",
   "execution_count": 54,
   "metadata": {},
   "outputs": [
    {
     "name": "stdout",
     "output_type": "stream",
     "text": [
      "2018-03-18 20:34:48,373 CRIT Supervisor running as root (no user in config file)\r\n",
      "2018-03-18 20:34:48,375 INFO supervisord started with pid 7\r\n",
      "2018-03-18 20:34:49,377 INFO spawned: 'program_exit' with pid 17\r\n",
      "2018-03-18 20:34:49,379 INFO spawned: 'nginx' with pid 18\r\n",
      "2018-03-18 20:34:49,380 INFO spawned: 'gunicorn' with pid 19\r\n",
      "2018-03-18 20:34:50,409 INFO success: program_exit entered RUNNING state, process has stayed up for > than 1 seconds (startsecs)\r\n",
      "2018-03-18 20:34:54,417 INFO success: nginx entered RUNNING state, process has stayed up for > than 5 seconds (startsecs)\r\n",
      "Selected GPU[0] Tesla K80 as the process wide default device.\r\n",
      "Initialising\r\n",
      "Model loading time: 12839.98 ms\r\n",
      "{\"timestamp\": \"2018-03-18T20:35:02.836512Z\", \"message\": \"Model loading time: 12839.98 ms\", \"host\": \"azure-dl-2914933029-vdtbv\", \"path\": \"/code/driver.py\", \"tags\": [], \"level\": \"INFO\", \"logger\": \"cntk_svc_logger\", \"stack_info\": null}\r\n",
      "{\"timestamp\": \"2018-03-18T20:35:02.840847Z\", \"message\": \" * Running on http://127.0.0.1:5000/ (Press CTRL+C to quit)\", \"host\": \"azure-dl-2914933029-vdtbv\", \"path\": \"/opt/conda/envs/py3.6/lib/python3.6/site-packages/werkzeug/_internal.py\", \"tags\": [], \"level\": \"INFO\", \"logger\": \"werkzeug\", \"msg\": \" * Running on %s://%s:%d/ %s\", \"stack_info\": null}\r\n",
      "2018-03-18 20:35:09,849 INFO success: gunicorn entered RUNNING state, process has stayed up for > than 20 seconds (startsecs)\r\n",
      "{\"timestamp\": \"2018-03-18T20:37:38.905866Z\", \"message\": \"127.0.0.1 - - [18/Mar/2018 20:37:38] \\\"GET / HTTP/1.0\\\" 200 -\", \"host\": \"azure-dl-2914933029-vdtbv\", \"path\": \"/opt/conda/envs/py3.6/lib/python3.6/site-packages/werkzeug/_internal.py\", \"tags\": [], \"level\": \"INFO\", \"logger\": \"werkzeug\", \"stack_info\": null}\r\n",
      "{\"timestamp\": \"2018-03-18T20:37:39.197264Z\", \"message\": \"127.0.0.1 - - [18/Mar/2018 20:37:39] \\\"GET /favicon.ico HTTP/1.0\\\" 404 -\", \"host\": \"azure-dl-2914933029-vdtbv\", \"path\": \"/opt/conda/envs/py3.6/lib/python3.6/site-packages/werkzeug/_internal.py\", \"tags\": [], \"level\": \"INFO\", \"logger\": \"werkzeug\", \"stack_info\": null}\r\n",
      "{\"timestamp\": \"2018-03-18T20:37:45.383424Z\", \"message\": \"127.0.0.1 - - [18/Mar/2018 20:37:45] \\\"GET /version HTTP/1.0\\\" 200 -\", \"host\": \"azure-dl-2914933029-vdtbv\", \"path\": \"/opt/conda/envs/py3.6/lib/python3.6/site-packages/werkzeug/_internal.py\", \"tags\": [], \"level\": \"INFO\", \"logger\": \"werkzeug\", \"stack_info\": null}\r\n",
      "{\"timestamp\": \"2018-03-18T20:37:45.400662Z\", \"message\": \"127.0.0.1 - - [18/Mar/2018 20:37:45] \\\"GET /favicon.ico HTTP/1.0\\\" 404 -\", \"host\": \"azure-dl-2914933029-vdtbv\", \"path\": \"/opt/conda/envs/py3.6/lib/python3.6/site-packages/werkzeug/_internal.py\", \"tags\": [], \"level\": \"INFO\", \"logger\": \"werkzeug\", \"stack_info\": null}\r\n",
      "{\"timestamp\": \"2018-03-18T20:37:45.643071Z\", \"message\": \"127.0.0.1 - - [18/Mar/2018 20:37:45] \\\"GET /favicon.ico HTTP/1.0\\\" 404 -\", \"host\": \"azure-dl-2914933029-vdtbv\", \"path\": \"/opt/conda/envs/py3.6/lib/python3.6/site-packages/werkzeug/_internal.py\", \"tags\": [], \"level\": \"INFO\", \"logger\": \"werkzeug\", \"stack_info\": null}\r\n",
      "{\"timestamp\": \"2018-03-18T20:38:46.741747Z\", \"message\": \"127.0.0.1 - - [18/Mar/2018 20:38:46] \\\"GET /version HTTP/1.0\\\" 200 -\", \"host\": \"azure-dl-2914933029-vdtbv\", \"path\": \"/opt/conda/envs/py3.6/lib/python3.6/site-packages/werkzeug/_internal.py\", \"tags\": [], \"level\": \"INFO\", \"logger\": \"werkzeug\", \"stack_info\": null}\r\n",
      "Predictions: [[('n02690373 airliner', 2057.7768325805664), ('n04592741 wing', 1766.9858932495117), ('n04266014 space shuttle', 1649.7432708740234)]]\r\n",
      "{\"timestamp\": \"2018-03-18T20:38:57.269042Z\", \"message\": \"Predictions: [[('n02690373 airliner', 2057.7768325805664), ('n04592741 wing', 1766.9858932495117), ('n04266014 space shuttle', 1649.7432708740234)]]\", \"host\": \"azure-dl-2914933029-vdtbv\", \"path\": \"/code/driver.py\", \"tags\": [], \"level\": \"INFO\", \"logger\": \"cntk_svc_logger\", \"stack_info\": null}\r\n",
      "Predictions took 1488.61 ms\r\n",
      "{\"timestamp\": \"2018-03-18T20:38:57.269255Z\", \"message\": \"Predictions took 1488.61 ms\", \"host\": \"azure-dl-2914933029-vdtbv\", \"path\": \"/code/driver.py\", \"tags\": [], \"level\": \"INFO\", \"logger\": \"cntk_svc_logger\", \"stack_info\": null}\r\n",
      "Time distribution: preprocess=12.93 ms, eval=1475.45 ms, resultPrep = 0.1 ms\r\n",
      "{\"timestamp\": \"2018-03-18T20:38:57.269351Z\", \"message\": \"Time distribution: preprocess=12.93 ms, eval=1475.45 ms, resultPrep = 0.1 ms\", \"host\": \"azure-dl-2914933029-vdtbv\", \"path\": \"/code/driver.py\", \"tags\": [], \"level\": \"INFO\", \"logger\": \"cntk_svc_logger\", \"stack_info\": null}\r\n",
      "{\"timestamp\": \"2018-03-18T20:38:57.269742Z\", \"message\": \"127.0.0.1 - - [18/Mar/2018 20:38:57] \\\"POST /score HTTP/1.0\\\" 200 -\", \"host\": \"azure-dl-2914933029-vdtbv\", \"path\": \"/opt/conda/envs/py3.6/lib/python3.6/site-packages/werkzeug/_internal.py\", \"tags\": [], \"level\": \"INFO\", \"logger\": \"werkzeug\", \"stack_info\": null}\r\n",
      "Predictions: [[('n02690373 airliner', 2057.77645111084), ('n04592741 wing', 1766.9858932495117), ('n04266014 space shuttle', 1649.7426986694336)]]\r\n",
      "{\"timestamp\": \"2018-03-18T20:39:06.949465Z\", \"message\": \"Predictions: [[('n02690373 airliner', 2057.77645111084), ('n04592741 wing', 1766.9858932495117), ('n04266014 space shuttle', 1649.7426986694336)]]\", \"host\": \"azure-dl-2914933029-vdtbv\", \"path\": \"/code/driver.py\", \"tags\": [], \"level\": \"INFO\", \"logger\": \"cntk_svc_logger\", \"stack_info\": null}\r\n",
      "Predictions took 9484.38 ms\r\n",
      "{\"timestamp\": \"2018-03-18T20:39:06.949696Z\", \"message\": \"Predictions took 9484.38 ms\", \"host\": \"azure-dl-2914933029-vdtbv\", \"path\": \"/code/driver.py\", \"tags\": [], \"level\": \"INFO\", \"logger\": \"cntk_svc_logger\", \"stack_info\": null}\r\n",
      "Time distribution: preprocess=3.25 ms, eval=9480.88 ms, resultPrep = 0.1 ms\r\n",
      "{\"timestamp\": \"2018-03-18T20:39:06.949793Z\", \"message\": \"Time distribution: preprocess=3.25 ms, eval=9480.88 ms, resultPrep = 0.1 ms\", \"host\": \"azure-dl-2914933029-vdtbv\", \"path\": \"/code/driver.py\", \"tags\": [], \"level\": \"INFO\", \"logger\": \"cntk_svc_logger\", \"stack_info\": null}\r\n",
      "{\"timestamp\": \"2018-03-18T20:39:06.950108Z\", \"message\": \"127.0.0.1 - - [18/Mar/2018 20:39:06] \\\"POST /score HTTP/1.0\\\" 200 -\", \"host\": \"azure-dl-2914933029-vdtbv\", \"path\": \"/opt/conda/envs/py3.6/lib/python3.6/site-packages/werkzeug/_internal.py\", \"tags\": [], \"level\": \"INFO\", \"logger\": \"werkzeug\", \"stack_info\": null}\r\n",
      "Predictions: [[('n02690373 airliner', 2057.77645111084), ('n04592741 wing', 1766.9858932495117), ('n04266014 space shuttle', 1649.7426986694336)]]\r\n",
      "{\"timestamp\": \"2018-03-18T20:39:09.211679Z\", \"message\": \"Predictions: [[('n02690373 airliner', 2057.77645111084), ('n04592741 wing', 1766.9858932495117), ('n04266014 space shuttle', 1649.7426986694336)]]\", \"host\": \"azure-dl-2914933029-vdtbv\", \"path\": \"/code/driver.py\", \"tags\": [], \"level\": \"INFO\", \"logger\": \"cntk_svc_logger\", \"stack_info\": null}\r\n",
      "Predictions took 47.78 ms\r\n",
      "{\"timestamp\": \"2018-03-18T20:39:09.211867Z\", \"message\": \"Predictions took 47.78 ms\", \"host\": \"azure-dl-2914933029-vdtbv\", \"path\": \"/code/driver.py\", \"tags\": [], \"level\": \"INFO\", \"logger\": \"cntk_svc_logger\", \"stack_info\": null}\r\n",
      "Time distribution: preprocess=2.93 ms, eval=44.61 ms, resultPrep = 0.09 ms\r\n",
      "{\"timestamp\": \"2018-03-18T20:39:09.211960Z\", \"message\": \"Time distribution: preprocess=2.93 ms, eval=44.61 ms, resultPrep = 0.09 ms\", \"host\": \"azure-dl-2914933029-vdtbv\", \"path\": \"/code/driver.py\", \"tags\": [], \"level\": \"INFO\", \"logger\": \"cntk_svc_logger\", \"stack_info\": null}\r\n",
      "{\"timestamp\": \"2018-03-18T20:39:09.212244Z\", \"message\": \"127.0.0.1 - - [18/Mar/2018 20:39:09] \\\"POST /score HTTP/1.0\\\" 200 -\", \"host\": \"azure-dl-2914933029-vdtbv\", \"path\": \"/opt/conda/envs/py3.6/lib/python3.6/site-packages/werkzeug/_internal.py\", \"tags\": [], \"level\": \"INFO\", \"logger\": \"werkzeug\", \"stack_info\": null}\r\n",
      "Predictions: [[('n02690373 airliner', 2057.77645111084), ('n04592741 wing', 1766.9858932495117), ('n04266014 space shuttle', 1649.7426986694336)]]\r\n",
      "{\"timestamp\": \"2018-03-18T20:39:09.448067Z\", \"message\": \"Predictions: [[('n02690373 airliner', 2057.77645111084), ('n04592741 wing', 1766.9858932495117), ('n04266014 space shuttle', 1649.7426986694336)]]\", \"host\": \"azure-dl-2914933029-vdtbv\", \"path\": \"/code/driver.py\", \"tags\": [], \"level\": \"INFO\", \"logger\": \"cntk_svc_logger\", \"stack_info\": null}\r\n",
      "Predictions took 47.74 ms\r\n",
      "{\"timestamp\": \"2018-03-18T20:39:09.448237Z\", \"message\": \"Predictions took 47.74 ms\", \"host\": \"azure-dl-2914933029-vdtbv\", \"path\": \"/code/driver.py\", \"tags\": [], \"level\": \"INFO\", \"logger\": \"cntk_svc_logger\", \"stack_info\": null}\r\n",
      "Time distribution: preprocess=2.92 ms, eval=44.59 ms, resultPrep = 0.09 ms\r\n",
      "{\"timestamp\": \"2018-03-18T20:39:09.448330Z\", \"message\": \"Time distribution: preprocess=2.92 ms, eval=44.59 ms, resultPrep = 0.09 ms\", \"host\": \"azure-dl-2914933029-vdtbv\", \"path\": \"/code/driver.py\", \"tags\": [], \"level\": \"INFO\", \"logger\": \"cntk_svc_logger\", \"stack_info\": null}\r\n",
      "{\"timestamp\": \"2018-03-18T20:39:09.448589Z\", \"message\": \"127.0.0.1 - - [18/Mar/2018 20:39:09] \\\"POST /score HTTP/1.0\\\" 200 -\", \"host\": \"azure-dl-2914933029-vdtbv\", \"path\": \"/opt/conda/envs/py3.6/lib/python3.6/site-packages/werkzeug/_internal.py\", \"tags\": [], \"level\": \"INFO\", \"logger\": \"werkzeug\", \"stack_info\": null}\r\n",
      "Predictions: [[('n02690373 airliner', 2057.77645111084), ('n04592741 wing', 1766.9858932495117), ('n04266014 space shuttle', 1649.7426986694336)]]\r\n",
      "{\"timestamp\": \"2018-03-18T20:39:11.277923Z\", \"message\": \"Predictions: [[('n02690373 airliner', 2057.77645111084), ('n04592741 wing', 1766.9858932495117), ('n04266014 space shuttle', 1649.7426986694336)]]\", \"host\": \"azure-dl-2914933029-vdtbv\", \"path\": \"/code/driver.py\", \"tags\": [], \"level\": \"INFO\", \"logger\": \"cntk_svc_logger\", \"stack_info\": null}\r\n",
      "Predictions took 67.65 ms\r\n",
      "{\"timestamp\": \"2018-03-18T20:39:11.278120Z\", \"message\": \"Predictions took 67.65 ms\", \"host\": \"azure-dl-2914933029-vdtbv\", \"path\": \"/code/driver.py\", \"tags\": [], \"level\": \"INFO\", \"logger\": \"cntk_svc_logger\", \"stack_info\": null}\r\n",
      "Time distribution: preprocess=3.0 ms, eval=64.42 ms, resultPrep = 0.09 ms\r\n",
      "{\"timestamp\": \"2018-03-18T20:39:11.278212Z\", \"message\": \"Time distribution: preprocess=3.0 ms, eval=64.42 ms, resultPrep = 0.09 ms\", \"host\": \"azure-dl-2914933029-vdtbv\", \"path\": \"/code/driver.py\", \"tags\": [], \"level\": \"INFO\", \"logger\": \"cntk_svc_logger\", \"stack_info\": null}\r\n",
      "{\"timestamp\": \"2018-03-18T20:39:11.278738Z\", \"message\": \"127.0.0.1 - - [18/Mar/2018 20:39:11] \\\"POST /score HTTP/1.0\\\" 200 -\", \"host\": \"azure-dl-2914933029-vdtbv\", \"path\": \"/opt/conda/envs/py3.6/lib/python3.6/site-packages/werkzeug/_internal.py\", \"tags\": [], \"level\": \"INFO\", \"logger\": \"werkzeug\", \"stack_info\": null}\r\n",
      "Predictions: [[('n02690373 airliner', 2057.77645111084), ('n04592741 wing', 1766.9858932495117), ('n04266014 space shuttle', 1649.7426986694336)]]\r\n",
      "{\"timestamp\": \"2018-03-18T20:39:11.534732Z\", \"message\": \"Predictions: [[('n02690373 airliner', 2057.77645111084), ('n04592741 wing', 1766.9858932495117), ('n04266014 space shuttle', 1649.7426986694336)]]\", \"host\": \"azure-dl-2914933029-vdtbv\", \"path\": \"/code/driver.py\", \"tags\": [], \"level\": \"INFO\", \"logger\": \"cntk_svc_logger\", \"stack_info\": null}\r\n",
      "Predictions took 67.56 ms\r\n",
      "{\"timestamp\": \"2018-03-18T20:39:11.535707Z\", \"message\": \"Predictions took 67.56 ms\", \"host\": \"azure-dl-2914933029-vdtbv\", \"path\": \"/code/driver.py\", \"tags\": [], \"level\": \"INFO\", \"logger\": \"cntk_svc_logger\", \"stack_info\": null}\r\n",
      "Time distribution: preprocess=3.0 ms, eval=64.33 ms, resultPrep = 0.09 ms\r\n",
      "{\"timestamp\": \"2018-03-18T20:39:11.536235Z\", \"message\": \"Time distribution: preprocess=3.0 ms, eval=64.33 ms, resultPrep = 0.09 ms\", \"host\": \"azure-dl-2914933029-vdtbv\", \"path\": \"/code/driver.py\", \"tags\": [], \"level\": \"INFO\", \"logger\": \"cntk_svc_logger\", \"stack_info\": null}\r\n",
      "{\"timestamp\": \"2018-03-18T20:39:11.537271Z\", \"message\": \"127.0.0.1 - - [18/Mar/2018 20:39:11] \\\"POST /score HTTP/1.0\\\" 200 -\", \"host\": \"azure-dl-2914933029-vdtbv\", \"path\": \"/opt/conda/envs/py3.6/lib/python3.6/site-packages/werkzeug/_internal.py\", \"tags\": [], \"level\": \"INFO\", \"logger\": \"werkzeug\", \"stack_info\": null}\r\n",
      "Predictions: [[('n02690373 airliner', 2057.77645111084), ('n04592741 wing', 1766.9858932495117), ('n04266014 space shuttle', 1649.7426986694336)]]\r\n",
      "{\"timestamp\": \"2018-03-18T20:39:14.974348Z\", \"message\": \"Predictions: [[('n02690373 airliner', 2057.77645111084), ('n04592741 wing', 1766.9858932495117), ('n04266014 space shuttle', 1649.7426986694336)]]\", \"host\": \"azure-dl-2914933029-vdtbv\", \"path\": \"/code/driver.py\", \"tags\": [], \"level\": \"INFO\", \"logger\": \"cntk_svc_logger\", \"stack_info\": null}\r\n",
      "Predictions took 67.54 ms\r\n",
      "{\"timestamp\": \"2018-03-18T20:39:14.974990Z\", \"message\": \"Predictions took 67.54 ms\", \"host\": \"azure-dl-2914933029-vdtbv\", \"path\": \"/code/driver.py\", \"tags\": [], \"level\": \"INFO\", \"logger\": \"cntk_svc_logger\", \"stack_info\": null}\r\n",
      "Time distribution: preprocess=3.19 ms, eval=64.08 ms, resultPrep = 0.12 ms\r\n",
      "{\"timestamp\": \"2018-03-18T20:39:14.975383Z\", \"message\": \"Time distribution: preprocess=3.19 ms, eval=64.08 ms, resultPrep = 0.12 ms\", \"host\": \"azure-dl-2914933029-vdtbv\", \"path\": \"/code/driver.py\", \"tags\": [], \"level\": \"INFO\", \"logger\": \"cntk_svc_logger\", \"stack_info\": null}\r\n",
      "{\"timestamp\": \"2018-03-18T20:39:14.975899Z\", \"message\": \"127.0.0.1 - - [18/Mar/2018 20:39:14] \\\"POST /score HTTP/1.0\\\" 200 -\", \"host\": \"azure-dl-2914933029-vdtbv\", \"path\": \"/opt/conda/envs/py3.6/lib/python3.6/site-packages/werkzeug/_internal.py\", \"tags\": [], \"level\": \"INFO\", \"logger\": \"werkzeug\", \"stack_info\": null}\r\n",
      "Predictions: [[('n04285008 sports car, sport car', 1673.9952087402344), ('n04037443 racer, race car, racing car', 1280.6121826171875), ('n03100240 convertible', 1262.292766571045)]]\r\n",
      "{\"timestamp\": \"2018-03-18T20:39:15.490374Z\", \"message\": \"Predictions: [[('n04285008 sports car, sport car', 1673.9952087402344), ('n04037443 racer, race car, racing car', 1280.6121826171875), ('n03100240 convertible', 1262.292766571045)]]\", \"host\": \"azure-dl-2914933029-vdtbv\", \"path\": \"/code/driver.py\", \"tags\": [], \"level\": \"INFO\", \"logger\": \"cntk_svc_logger\", \"stack_info\": null}\r\n",
      "Predictions took 67.46 ms\r\n",
      "{\"timestamp\": \"2018-03-18T20:39:15.490921Z\", \"message\": \"Predictions took 67.46 ms\", \"host\": \"azure-dl-2914933029-vdtbv\", \"path\": \"/code/driver.py\", \"tags\": [], \"level\": \"INFO\", \"logger\": \"cntk_svc_logger\", \"stack_info\": null}\r\n",
      "Time distribution: preprocess=2.97 ms, eval=64.27 ms, resultPrep = 0.09 ms\r\n",
      "{\"timestamp\": \"2018-03-18T20:39:15.491252Z\", \"message\": \"Time distribution: preprocess=2.97 ms, eval=64.27 ms, resultPrep = 0.09 ms\", \"host\": \"azure-dl-2914933029-vdtbv\", \"path\": \"/code/driver.py\", \"tags\": [], \"level\": \"INFO\", \"logger\": \"cntk_svc_logger\", \"stack_info\": null}\r\n",
      "{\"timestamp\": \"2018-03-18T20:39:15.491759Z\", \"message\": \"127.0.0.1 - - [18/Mar/2018 20:39:15] \\\"POST /score HTTP/1.0\\\" 200 -\", \"host\": \"azure-dl-2914933029-vdtbv\", \"path\": \"/opt/conda/envs/py3.6/lib/python3.6/site-packages/werkzeug/_internal.py\", \"tags\": [], \"level\": \"INFO\", \"logger\": \"werkzeug\", \"stack_info\": null}\r\n",
      "Predictions: [[('n03673027 liner, ocean liner', 2115.609931945801), ('n03216828 dock, dockage, docking facility', 1490.8696174621582), ('n04606251 wreck', 1095.53804397583)]]\r\n",
      "{\"timestamp\": \"2018-03-18T20:39:16.690200Z\", \"message\": \"Predictions: [[('n03673027 liner, ocean liner', 2115.609931945801), ('n03216828 dock, dockage, docking facility', 1490.8696174621582), ('n04606251 wreck', 1095.53804397583)]]\", \"host\": \"azure-dl-2914933029-vdtbv\", \"path\": \"/code/driver.py\", \"tags\": [], \"level\": \"INFO\", \"logger\": \"cntk_svc_logger\", \"stack_info\": null}\r\n",
      "Predictions took 67.85 ms\r\n",
      "{\"timestamp\": \"2018-03-18T20:39:16.690845Z\", \"message\": \"Predictions took 67.85 ms\", \"host\": \"azure-dl-2914933029-vdtbv\", \"path\": \"/code/driver.py\", \"tags\": [], \"level\": \"INFO\", \"logger\": \"cntk_svc_logger\", \"stack_info\": null}\r\n",
      "Time distribution: preprocess=3.0 ms, eval=64.61 ms, resultPrep = 0.1 ms\r\n",
      "{\"timestamp\": \"2018-03-18T20:39:16.691182Z\", \"message\": \"Time distribution: preprocess=3.0 ms, eval=64.61 ms, resultPrep = 0.1 ms\", \"host\": \"azure-dl-2914933029-vdtbv\", \"path\": \"/code/driver.py\", \"tags\": [], \"level\": \"INFO\", \"logger\": \"cntk_svc_logger\", \"stack_info\": null}\r\n",
      "{\"timestamp\": \"2018-03-18T20:39:16.691737Z\", \"message\": \"127.0.0.1 - - [18/Mar/2018 20:39:16] \\\"POST /score HTTP/1.0\\\" 200 -\", \"host\": \"azure-dl-2914933029-vdtbv\", \"path\": \"/opt/conda/envs/py3.6/lib/python3.6/site-packages/werkzeug/_internal.py\", \"tags\": [], \"level\": \"INFO\", \"logger\": \"werkzeug\", \"stack_info\": null}\r\n",
      "Predictions: [[('n01697457 African crocodile, Nile crocodile, Crocodylus niloticus', 2864.752960205078), ('n01698640 American alligator, Alligator mississipiensis', 2209.1690063476562), ('n01704323 triceratops', 1266.3655281066895)]]\r\n",
      "{\"timestamp\": \"2018-03-18T20:39:17.107310Z\", \"message\": \"Predictions: [[('n01697457 African crocodile, Nile crocodile, Crocodylus niloticus', 2864.752960205078), ('n01698640 American alligator, Alligator mississipiensis', 2209.1690063476562), ('n01704323 triceratops', 1266.3655281066895)]]\", \"host\": \"azure-dl-2914933029-vdtbv\", \"path\": \"/code/driver.py\", \"tags\": [], \"level\": \"INFO\", \"logger\": \"cntk_svc_logger\", \"stack_info\": null}\r\n",
      "Predictions took 67.71 ms\r\n",
      "{\"timestamp\": \"2018-03-18T20:39:17.107887Z\", \"message\": \"Predictions took 67.71 ms\", \"host\": \"azure-dl-2914933029-vdtbv\", \"path\": \"/code/driver.py\", \"tags\": [], \"level\": \"INFO\", \"logger\": \"cntk_svc_logger\", \"stack_info\": null}\r\n",
      "Time distribution: preprocess=3.26 ms, eval=64.17 ms, resultPrep = 0.11 ms\r\n",
      "{\"timestamp\": \"2018-03-18T20:39:17.108218Z\", \"message\": \"Time distribution: preprocess=3.26 ms, eval=64.17 ms, resultPrep = 0.11 ms\", \"host\": \"azure-dl-2914933029-vdtbv\", \"path\": \"/code/driver.py\", \"tags\": [], \"level\": \"INFO\", \"logger\": \"cntk_svc_logger\", \"stack_info\": null}\r\n",
      "{\"timestamp\": \"2018-03-18T20:39:17.108774Z\", \"message\": \"127.0.0.1 - - [18/Mar/2018 20:39:17] \\\"POST /score HTTP/1.0\\\" 200 -\", \"host\": \"azure-dl-2914933029-vdtbv\", \"path\": \"/opt/conda/envs/py3.6/lib/python3.6/site-packages/werkzeug/_internal.py\", \"tags\": [], \"level\": \"INFO\", \"logger\": \"werkzeug\", \"stack_info\": null}\r\n",
      "Predictions: [[('n02356798 fox squirrel, eastern fox squirrel, Sciurus niger', 962.3861312866211), ('n02500267 indri, indris, Indri indri, Indri brevicaudatus', 953.0474662780762), ('n02490219 marmoset', 925.6837844848633)]]\r\n",
      "{\"timestamp\": \"2018-03-18T20:39:18.424637Z\", \"message\": \"Predictions: [[('n02356798 fox squirrel, eastern fox squirrel, Sciurus niger', 962.3861312866211), ('n02500267 indri, indris, Indri indri, Indri brevicaudatus', 953.0474662780762), ('n02490219 marmoset', 925.6837844848633)]]\", \"host\": \"azure-dl-2914933029-vdtbv\", \"path\": \"/code/driver.py\", \"tags\": [], \"level\": \"INFO\", \"logger\": \"cntk_svc_logger\", \"stack_info\": null}\r\n",
      "Predictions took 70.11 ms\r\n",
      "{\"timestamp\": \"2018-03-18T20:39:18.424851Z\", \"message\": \"Predictions took 70.11 ms\", \"host\": \"azure-dl-2914933029-vdtbv\", \"path\": \"/code/driver.py\", \"tags\": [], \"level\": \"INFO\", \"logger\": \"cntk_svc_logger\", \"stack_info\": null}\r\n",
      "Time distribution: preprocess=3.48 ms, eval=66.36 ms, resultPrep = 0.1 ms\r\n",
      "{\"timestamp\": \"2018-03-18T20:39:18.424948Z\", \"message\": \"Time distribution: preprocess=3.48 ms, eval=66.36 ms, resultPrep = 0.1 ms\", \"host\": \"azure-dl-2914933029-vdtbv\", \"path\": \"/code/driver.py\", \"tags\": [], \"level\": \"INFO\", \"logger\": \"cntk_svc_logger\", \"stack_info\": null}\r\n",
      "{\"timestamp\": \"2018-03-18T20:39:18.425217Z\", \"message\": \"127.0.0.1 - - [18/Mar/2018 20:39:18] \\\"POST /score HTTP/1.0\\\" 200 -\", \"host\": \"azure-dl-2914933029-vdtbv\", \"path\": \"/opt/conda/envs/py3.6/lib/python3.6/site-packages/werkzeug/_internal.py\", \"tags\": [], \"level\": \"INFO\", \"logger\": \"werkzeug\", \"stack_info\": null}\r\n",
      "Predictions: [[('n01530575 brambling, Fringilla montifringilla', 1367.5324440002441), ('n01807496 partridge', 963.9557838439941), ('n01601694 water ouzel, dipper', 886.3053321838379)]]\r\n",
      "{\"timestamp\": \"2018-03-18T20:39:18.927586Z\", \"message\": \"Predictions: [[('n01530575 brambling, Fringilla montifringilla', 1367.5324440002441), ('n01807496 partridge', 963.9557838439941), ('n01601694 water ouzel, dipper', 886.3053321838379)]]\", \"host\": \"azure-dl-2914933029-vdtbv\", \"path\": \"/code/driver.py\", \"tags\": [], \"level\": \"INFO\", \"logger\": \"cntk_svc_logger\", \"stack_info\": null}\r\n",
      "Predictions took 68.15 ms\r\n",
      "{\"timestamp\": \"2018-03-18T20:39:18.927798Z\", \"message\": \"Predictions took 68.15 ms\", \"host\": \"azure-dl-2914933029-vdtbv\", \"path\": \"/code/driver.py\", \"tags\": [], \"level\": \"INFO\", \"logger\": \"cntk_svc_logger\", \"stack_info\": null}\r\n",
      "Time distribution: preprocess=3.45 ms, eval=64.46 ms, resultPrep = 0.1 ms\r\n"
     ]
    },
    {
     "name": "stdout",
     "output_type": "stream",
     "text": [
      "{\"timestamp\": \"2018-03-18T20:39:18.927960Z\", \"message\": \"Time distribution: preprocess=3.45 ms, eval=64.46 ms, resultPrep = 0.1 ms\", \"host\": \"azure-dl-2914933029-vdtbv\", \"path\": \"/code/driver.py\", \"tags\": [], \"level\": \"INFO\", \"logger\": \"cntk_svc_logger\", \"stack_info\": null}\r\n",
      "{\"timestamp\": \"2018-03-18T20:39:18.928439Z\", \"message\": \"127.0.0.1 - - [18/Mar/2018 20:39:18] \\\"POST /score HTTP/1.0\\\" 200 -\", \"host\": \"azure-dl-2914933029-vdtbv\", \"path\": \"/opt/conda/envs/py3.6/lib/python3.6/site-packages/werkzeug/_internal.py\", \"tags\": [], \"level\": \"INFO\", \"logger\": \"werkzeug\", \"stack_info\": null}\r\n",
      "Predictions: [[('n02690373 airliner', 2057.77645111084), ('n04592741 wing', 1766.9858932495117), ('n04266014 space shuttle', 1649.7426986694336)]]\r\n",
      "{\"timestamp\": \"2018-03-18T20:40:03.205950Z\", \"message\": \"Predictions: [[('n02690373 airliner', 2057.77645111084), ('n04592741 wing', 1766.9858932495117), ('n04266014 space shuttle', 1649.7426986694336)]]\", \"host\": \"azure-dl-2914933029-vdtbv\", \"path\": \"/code/driver.py\", \"tags\": [], \"level\": \"INFO\", \"logger\": \"cntk_svc_logger\", \"stack_info\": null}\r\n",
      "Predictions took 67.18 ms\r\n",
      "{\"timestamp\": \"2018-03-18T20:40:03.206559Z\", \"message\": \"Predictions took 67.18 ms\", \"host\": \"azure-dl-2914933029-vdtbv\", \"path\": \"/code/driver.py\", \"tags\": [], \"level\": \"INFO\", \"logger\": \"cntk_svc_logger\", \"stack_info\": null}\r\n",
      "Time distribution: preprocess=2.94 ms, eval=64.01 ms, resultPrep = 0.09 ms\r\n",
      "{\"timestamp\": \"2018-03-18T20:40:03.206976Z\", \"message\": \"Time distribution: preprocess=2.94 ms, eval=64.01 ms, resultPrep = 0.09 ms\", \"host\": \"azure-dl-2914933029-vdtbv\", \"path\": \"/code/driver.py\", \"tags\": [], \"level\": \"INFO\", \"logger\": \"cntk_svc_logger\", \"stack_info\": null}\r\n",
      "{\"timestamp\": \"2018-03-18T20:40:03.207975Z\", \"message\": \"127.0.0.1 - - [18/Mar/2018 20:40:03] \\\"POST /score HTTP/1.0\\\" 200 -\", \"host\": \"azure-dl-2914933029-vdtbv\", \"path\": \"/opt/conda/envs/py3.6/lib/python3.6/site-packages/werkzeug/_internal.py\", \"tags\": [], \"level\": \"INFO\", \"logger\": \"werkzeug\", \"stack_info\": null}\r\n",
      "Predictions: [[('n02690373 airliner', 2057.77645111084), ('n04592741 wing', 1766.9858932495117), ('n04266014 space shuttle', 1649.7426986694336)]]\r\n",
      "{\"timestamp\": \"2018-03-18T20:40:03.439593Z\", \"message\": \"Predictions: [[('n02690373 airliner', 2057.77645111084), ('n04592741 wing', 1766.9858932495117), ('n04266014 space shuttle', 1649.7426986694336)]]\", \"host\": \"azure-dl-2914933029-vdtbv\", \"path\": \"/code/driver.py\", \"tags\": [], \"level\": \"INFO\", \"logger\": \"cntk_svc_logger\", \"stack_info\": null}\r\n",
      "Predictions took 66.05 ms\r\n",
      "{\"timestamp\": \"2018-03-18T20:40:03.440025Z\", \"message\": \"Predictions took 66.05 ms\", \"host\": \"azure-dl-2914933029-vdtbv\", \"path\": \"/code/driver.py\", \"tags\": [], \"level\": \"INFO\", \"logger\": \"cntk_svc_logger\", \"stack_info\": null}\r\n",
      "Time distribution: preprocess=2.75 ms, eval=63.07 ms, resultPrep = 0.09 ms\r\n",
      "{\"timestamp\": \"2018-03-18T20:40:03.440361Z\", \"message\": \"Time distribution: preprocess=2.75 ms, eval=63.07 ms, resultPrep = 0.09 ms\", \"host\": \"azure-dl-2914933029-vdtbv\", \"path\": \"/code/driver.py\", \"tags\": [], \"level\": \"INFO\", \"logger\": \"cntk_svc_logger\", \"stack_info\": null}\r\n",
      "{\"timestamp\": \"2018-03-18T20:40:03.440848Z\", \"message\": \"127.0.0.1 - - [18/Mar/2018 20:40:03] \\\"POST /score HTTP/1.0\\\" 200 -\", \"host\": \"azure-dl-2914933029-vdtbv\", \"path\": \"/opt/conda/envs/py3.6/lib/python3.6/site-packages/werkzeug/_internal.py\", \"tags\": [], \"level\": \"INFO\", \"logger\": \"werkzeug\", \"stack_info\": null}\r\n",
      "Predictions: [[('n04285008 sports car, sport car', 1673.9952087402344), ('n04037443 racer, race car, racing car', 1280.6121826171875), ('n03100240 convertible', 1262.292766571045)]]\r\n",
      "{\"timestamp\": \"2018-03-18T20:40:03.665233Z\", \"message\": \"Predictions: [[('n04285008 sports car, sport car', 1673.9952087402344), ('n04037443 racer, race car, racing car', 1280.6121826171875), ('n03100240 convertible', 1262.292766571045)]]\", \"host\": \"azure-dl-2914933029-vdtbv\", \"path\": \"/code/driver.py\", \"tags\": [], \"level\": \"INFO\", \"logger\": \"cntk_svc_logger\", \"stack_info\": null}\r\n",
      "Predictions took 67.13 ms\r\n",
      "{\"timestamp\": \"2018-03-18T20:40:03.665811Z\", \"message\": \"Predictions took 67.13 ms\", \"host\": \"azure-dl-2914933029-vdtbv\", \"path\": \"/code/driver.py\", \"tags\": [], \"level\": \"INFO\", \"logger\": \"cntk_svc_logger\", \"stack_info\": null}\r\n",
      "Time distribution: preprocess=2.82 ms, eval=63.81 ms, resultPrep = 0.1 ms\r\n",
      "{\"timestamp\": \"2018-03-18T20:40:03.666152Z\", \"message\": \"Time distribution: preprocess=2.82 ms, eval=63.81 ms, resultPrep = 0.1 ms\", \"host\": \"azure-dl-2914933029-vdtbv\", \"path\": \"/code/driver.py\", \"tags\": [], \"level\": \"INFO\", \"logger\": \"cntk_svc_logger\", \"stack_info\": null}\r\n",
      "{\"timestamp\": \"2018-03-18T20:40:03.666698Z\", \"message\": \"127.0.0.1 - - [18/Mar/2018 20:40:03] \\\"POST /score HTTP/1.0\\\" 200 -\", \"host\": \"azure-dl-2914933029-vdtbv\", \"path\": \"/opt/conda/envs/py3.6/lib/python3.6/site-packages/werkzeug/_internal.py\", \"tags\": [], \"level\": \"INFO\", \"logger\": \"werkzeug\", \"stack_info\": null}\r\n",
      "Predictions: [[('n04285008 sports car, sport car', 1673.9952087402344), ('n04037443 racer, race car, racing car', 1280.6121826171875), ('n03100240 convertible', 1262.292766571045)]]\r\n",
      "{\"timestamp\": \"2018-03-18T20:40:03.871075Z\", \"message\": \"Predictions: [[('n04285008 sports car, sport car', 1673.9952087402344), ('n04037443 racer, race car, racing car', 1280.6121826171875), ('n03100240 convertible', 1262.292766571045)]]\", \"host\": \"azure-dl-2914933029-vdtbv\", \"path\": \"/code/driver.py\", \"tags\": [], \"level\": \"INFO\", \"logger\": \"cntk_svc_logger\", \"stack_info\": null}\r\n",
      "Predictions took 68.29 ms\r\n",
      "{\"timestamp\": \"2018-03-18T20:40:03.871629Z\", \"message\": \"Predictions took 68.29 ms\", \"host\": \"azure-dl-2914933029-vdtbv\", \"path\": \"/code/driver.py\", \"tags\": [], \"level\": \"INFO\", \"logger\": \"cntk_svc_logger\", \"stack_info\": null}\r\n",
      "Time distribution: preprocess=3.97 ms, eval=64.1 ms, resultPrep = 0.1 ms\r\n",
      "{\"timestamp\": \"2018-03-18T20:40:03.871963Z\", \"message\": \"Time distribution: preprocess=3.97 ms, eval=64.1 ms, resultPrep = 0.1 ms\", \"host\": \"azure-dl-2914933029-vdtbv\", \"path\": \"/code/driver.py\", \"tags\": [], \"level\": \"INFO\", \"logger\": \"cntk_svc_logger\", \"stack_info\": null}\r\n",
      "{\"timestamp\": \"2018-03-18T20:40:03.872510Z\", \"message\": \"127.0.0.1 - - [18/Mar/2018 20:40:03] \\\"POST /score HTTP/1.0\\\" 200 -\", \"host\": \"azure-dl-2914933029-vdtbv\", \"path\": \"/opt/conda/envs/py3.6/lib/python3.6/site-packages/werkzeug/_internal.py\", \"tags\": [], \"level\": \"INFO\", \"logger\": \"werkzeug\", \"stack_info\": null}\r\n",
      "Predictions: [[('n03673027 liner, ocean liner', 2115.609931945801), ('n03216828 dock, dockage, docking facility', 1490.8696174621582), ('n04606251 wreck', 1095.53804397583)]]\r\n",
      "{\"timestamp\": \"2018-03-18T20:40:04.129100Z\", \"message\": \"Predictions: [[('n03673027 liner, ocean liner', 2115.609931945801), ('n03216828 dock, dockage, docking facility', 1490.8696174621582), ('n04606251 wreck', 1095.53804397583)]]\", \"host\": \"azure-dl-2914933029-vdtbv\", \"path\": \"/code/driver.py\", \"tags\": [], \"level\": \"INFO\", \"logger\": \"cntk_svc_logger\", \"stack_info\": null}\r\n",
      "Predictions took 67.9 ms\r\n",
      "{\"timestamp\": \"2018-03-18T20:40:04.129714Z\", \"message\": \"Predictions took 67.9 ms\", \"host\": \"azure-dl-2914933029-vdtbv\", \"path\": \"/code/driver.py\", \"tags\": [], \"level\": \"INFO\", \"logger\": \"cntk_svc_logger\", \"stack_info\": null}\r\n",
      "Time distribution: preprocess=3.55 ms, eval=64.13 ms, resultPrep = 0.09 ms\r\n",
      "{\"timestamp\": \"2018-03-18T20:40:04.130046Z\", \"message\": \"Time distribution: preprocess=3.55 ms, eval=64.13 ms, resultPrep = 0.09 ms\", \"host\": \"azure-dl-2914933029-vdtbv\", \"path\": \"/code/driver.py\", \"tags\": [], \"level\": \"INFO\", \"logger\": \"cntk_svc_logger\", \"stack_info\": null}\r\n",
      "{\"timestamp\": \"2018-03-18T20:40:04.130588Z\", \"message\": \"127.0.0.1 - - [18/Mar/2018 20:40:04] \\\"POST /score HTTP/1.0\\\" 200 -\", \"host\": \"azure-dl-2914933029-vdtbv\", \"path\": \"/opt/conda/envs/py3.6/lib/python3.6/site-packages/werkzeug/_internal.py\", \"tags\": [], \"level\": \"INFO\", \"logger\": \"werkzeug\", \"stack_info\": null}\r\n",
      "Predictions: [[('n03673027 liner, ocean liner', 2115.609931945801), ('n03216828 dock, dockage, docking facility', 1490.8696174621582), ('n04606251 wreck', 1095.53804397583)]]\r\n",
      "{\"timestamp\": \"2018-03-18T20:40:04.361929Z\", \"message\": \"Predictions: [[('n03673027 liner, ocean liner', 2115.609931945801), ('n03216828 dock, dockage, docking facility', 1490.8696174621582), ('n04606251 wreck', 1095.53804397583)]]\", \"host\": \"azure-dl-2914933029-vdtbv\", \"path\": \"/code/driver.py\", \"tags\": [], \"level\": \"INFO\", \"logger\": \"cntk_svc_logger\", \"stack_info\": null}\r\n",
      "Predictions took 67.41 ms\r\n",
      "{\"timestamp\": \"2018-03-18T20:40:04.362370Z\", \"message\": \"Predictions took 67.41 ms\", \"host\": \"azure-dl-2914933029-vdtbv\", \"path\": \"/code/driver.py\", \"tags\": [], \"level\": \"INFO\", \"logger\": \"cntk_svc_logger\", \"stack_info\": null}\r\n",
      "Time distribution: preprocess=2.93 ms, eval=64.26 ms, resultPrep = 0.09 ms\r\n",
      "{\"timestamp\": \"2018-03-18T20:40:04.362704Z\", \"message\": \"Time distribution: preprocess=2.93 ms, eval=64.26 ms, resultPrep = 0.09 ms\", \"host\": \"azure-dl-2914933029-vdtbv\", \"path\": \"/code/driver.py\", \"tags\": [], \"level\": \"INFO\", \"logger\": \"cntk_svc_logger\", \"stack_info\": null}\r\n",
      "{\"timestamp\": \"2018-03-18T20:40:04.363188Z\", \"message\": \"127.0.0.1 - - [18/Mar/2018 20:40:04] \\\"POST /score HTTP/1.0\\\" 200 -\", \"host\": \"azure-dl-2914933029-vdtbv\", \"path\": \"/opt/conda/envs/py3.6/lib/python3.6/site-packages/werkzeug/_internal.py\", \"tags\": [], \"level\": \"INFO\", \"logger\": \"werkzeug\", \"stack_info\": null}\r\n",
      "Predictions: [[('n01697457 African crocodile, Nile crocodile, Crocodylus niloticus', 2864.752960205078), ('n01698640 American alligator, Alligator mississipiensis', 2209.1690063476562), ('n01704323 triceratops', 1266.3655281066895)]]\r\n",
      "{\"timestamp\": \"2018-03-18T20:40:04.601173Z\", \"message\": \"Predictions: [[('n01697457 African crocodile, Nile crocodile, Crocodylus niloticus', 2864.752960205078), ('n01698640 American alligator, Alligator mississipiensis', 2209.1690063476562), ('n01704323 triceratops', 1266.3655281066895)]]\", \"host\": \"azure-dl-2914933029-vdtbv\", \"path\": \"/code/driver.py\", \"tags\": [], \"level\": \"INFO\", \"logger\": \"cntk_svc_logger\", \"stack_info\": null}\r\n",
      "Predictions took 68.78 ms\r\n",
      "{\"timestamp\": \"2018-03-18T20:40:04.601666Z\", \"message\": \"Predictions took 68.78 ms\", \"host\": \"azure-dl-2914933029-vdtbv\", \"path\": \"/code/driver.py\", \"tags\": [], \"level\": \"INFO\", \"logger\": \"cntk_svc_logger\", \"stack_info\": null}\r\n",
      "Time distribution: preprocess=4.76 ms, eval=63.76 ms, resultPrep = 0.09 ms\r\n",
      "{\"timestamp\": \"2018-03-18T20:40:04.601997Z\", \"message\": \"Time distribution: preprocess=4.76 ms, eval=63.76 ms, resultPrep = 0.09 ms\", \"host\": \"azure-dl-2914933029-vdtbv\", \"path\": \"/code/driver.py\", \"tags\": [], \"level\": \"INFO\", \"logger\": \"cntk_svc_logger\", \"stack_info\": null}\r\n",
      "{\"timestamp\": \"2018-03-18T20:40:04.602487Z\", \"message\": \"127.0.0.1 - - [18/Mar/2018 20:40:04] \\\"POST /score HTTP/1.0\\\" 200 -\", \"host\": \"azure-dl-2914933029-vdtbv\", \"path\": \"/opt/conda/envs/py3.6/lib/python3.6/site-packages/werkzeug/_internal.py\", \"tags\": [], \"level\": \"INFO\", \"logger\": \"werkzeug\", \"stack_info\": null}\r\n",
      "Predictions: [[('n01697457 African crocodile, Nile crocodile, Crocodylus niloticus', 2864.752960205078), ('n01698640 American alligator, Alligator mississipiensis', 2209.1690063476562), ('n01704323 triceratops', 1266.3655281066895)]]\r\n",
      "{\"timestamp\": \"2018-03-18T20:40:04.836262Z\", \"message\": \"Predictions: [[('n01697457 African crocodile, Nile crocodile, Crocodylus niloticus', 2864.752960205078), ('n01698640 American alligator, Alligator mississipiensis', 2209.1690063476562), ('n01704323 triceratops', 1266.3655281066895)]]\", \"host\": \"azure-dl-2914933029-vdtbv\", \"path\": \"/code/driver.py\", \"tags\": [], \"level\": \"INFO\", \"logger\": \"cntk_svc_logger\", \"stack_info\": null}\r\n",
      "Predictions took 67.0 ms\r\n",
      "{\"timestamp\": \"2018-03-18T20:40:04.836753Z\", \"message\": \"Predictions took 67.0 ms\", \"host\": \"azure-dl-2914933029-vdtbv\", \"path\": \"/code/driver.py\", \"tags\": [], \"level\": \"INFO\", \"logger\": \"cntk_svc_logger\", \"stack_info\": null}\r\n",
      "Time distribution: preprocess=3.23 ms, eval=63.5 ms, resultPrep = 0.09 ms\r\n",
      "{\"timestamp\": \"2018-03-18T20:40:04.837096Z\", \"message\": \"Time distribution: preprocess=3.23 ms, eval=63.5 ms, resultPrep = 0.09 ms\", \"host\": \"azure-dl-2914933029-vdtbv\", \"path\": \"/code/driver.py\", \"tags\": [], \"level\": \"INFO\", \"logger\": \"cntk_svc_logger\", \"stack_info\": null}\r\n",
      "{\"timestamp\": \"2018-03-18T20:40:04.838405Z\", \"message\": \"127.0.0.1 - - [18/Mar/2018 20:40:04] \\\"POST /score HTTP/1.0\\\" 200 -\", \"host\": \"azure-dl-2914933029-vdtbv\", \"path\": \"/opt/conda/envs/py3.6/lib/python3.6/site-packages/werkzeug/_internal.py\", \"tags\": [], \"level\": \"INFO\", \"logger\": \"werkzeug\", \"stack_info\": null}\r\n",
      "Predictions: [[('n02356798 fox squirrel, eastern fox squirrel, Sciurus niger', 962.3861312866211), ('n02500267 indri, indris, Indri indri, Indri brevicaudatus', 953.0474662780762), ('n02490219 marmoset', 925.6837844848633)]]\r\n",
      "{\"timestamp\": \"2018-03-18T20:40:05.078453Z\", \"message\": \"Predictions: [[('n02356798 fox squirrel, eastern fox squirrel, Sciurus niger', 962.3861312866211), ('n02500267 indri, indris, Indri indri, Indri brevicaudatus', 953.0474662780762), ('n02490219 marmoset', 925.6837844848633)]]\", \"host\": \"azure-dl-2914933029-vdtbv\", \"path\": \"/code/driver.py\", \"tags\": [], \"level\": \"INFO\", \"logger\": \"cntk_svc_logger\", \"stack_info\": null}\r\n",
      "Predictions took 67.74 ms\r\n",
      "{\"timestamp\": \"2018-03-18T20:40:05.079007Z\", \"message\": \"Predictions took 67.74 ms\", \"host\": \"azure-dl-2914933029-vdtbv\", \"path\": \"/code/driver.py\", \"tags\": [], \"level\": \"INFO\", \"logger\": \"cntk_svc_logger\", \"stack_info\": null}\r\n",
      "Time distribution: preprocess=3.5 ms, eval=63.98 ms, resultPrep = 0.09 ms\r\n",
      "{\"timestamp\": \"2018-03-18T20:40:05.079336Z\", \"message\": \"Time distribution: preprocess=3.5 ms, eval=63.98 ms, resultPrep = 0.09 ms\", \"host\": \"azure-dl-2914933029-vdtbv\", \"path\": \"/code/driver.py\", \"tags\": [], \"level\": \"INFO\", \"logger\": \"cntk_svc_logger\", \"stack_info\": null}\r\n",
      "{\"timestamp\": \"2018-03-18T20:40:05.079853Z\", \"message\": \"127.0.0.1 - - [18/Mar/2018 20:40:05] \\\"POST /score HTTP/1.0\\\" 200 -\", \"host\": \"azure-dl-2914933029-vdtbv\", \"path\": \"/opt/conda/envs/py3.6/lib/python3.6/site-packages/werkzeug/_internal.py\", \"tags\": [], \"level\": \"INFO\", \"logger\": \"werkzeug\", \"stack_info\": null}\r\n",
      "Predictions: [[('n02356798 fox squirrel, eastern fox squirrel, Sciurus niger', 962.3861312866211), ('n02500267 indri, indris, Indri indri, Indri brevicaudatus', 953.0474662780762), ('n02490219 marmoset', 925.6837844848633)]]\r\n",
      "{\"timestamp\": \"2018-03-18T20:40:05.313967Z\", \"message\": \"Predictions: [[('n02356798 fox squirrel, eastern fox squirrel, Sciurus niger', 962.3861312866211), ('n02500267 indri, indris, Indri indri, Indri brevicaudatus', 953.0474662780762), ('n02490219 marmoset', 925.6837844848633)]]\", \"host\": \"azure-dl-2914933029-vdtbv\", \"path\": \"/code/driver.py\", \"tags\": [], \"level\": \"INFO\", \"logger\": \"cntk_svc_logger\", \"stack_info\": null}\r\n",
      "Predictions took 67.29 ms\r\n",
      "{\"timestamp\": \"2018-03-18T20:40:05.314396Z\", \"message\": \"Predictions took 67.29 ms\", \"host\": \"azure-dl-2914933029-vdtbv\", \"path\": \"/code/driver.py\", \"tags\": [], \"level\": \"INFO\", \"logger\": \"cntk_svc_logger\", \"stack_info\": null}\r\n",
      "Time distribution: preprocess=3.38 ms, eval=63.66 ms, resultPrep = 0.09 ms\r\n",
      "{\"timestamp\": \"2018-03-18T20:40:05.314736Z\", \"message\": \"Time distribution: preprocess=3.38 ms, eval=63.66 ms, resultPrep = 0.09 ms\", \"host\": \"azure-dl-2914933029-vdtbv\", \"path\": \"/code/driver.py\", \"tags\": [], \"level\": \"INFO\", \"logger\": \"cntk_svc_logger\", \"stack_info\": null}\r\n",
      "{\"timestamp\": \"2018-03-18T20:40:05.315228Z\", \"message\": \"127.0.0.1 - - [18/Mar/2018 20:40:05] \\\"POST /score HTTP/1.0\\\" 200 -\", \"host\": \"azure-dl-2914933029-vdtbv\", \"path\": \"/opt/conda/envs/py3.6/lib/python3.6/site-packages/werkzeug/_internal.py\", \"tags\": [], \"level\": \"INFO\", \"logger\": \"werkzeug\", \"stack_info\": null}\r\n",
      "Predictions: [[('n01530575 brambling, Fringilla montifringilla', 1367.5324440002441), ('n01807496 partridge', 963.9557838439941), ('n01601694 water ouzel, dipper', 886.3053321838379)]]\r\n",
      "{\"timestamp\": \"2018-03-18T20:40:05.579595Z\", \"message\": \"Predictions: [[('n01530575 brambling, Fringilla montifringilla', 1367.5324440002441), ('n01807496 partridge', 963.9557838439941), ('n01601694 water ouzel, dipper', 886.3053321838379)]]\", \"host\": \"azure-dl-2914933029-vdtbv\", \"path\": \"/code/driver.py\", \"tags\": [], \"level\": \"INFO\", \"logger\": \"cntk_svc_logger\", \"stack_info\": null}\r\n",
      "Predictions took 67.4 ms\r\n",
      "{\"timestamp\": \"2018-03-18T20:40:05.580118Z\", \"message\": \"Predictions took 67.4 ms\", \"host\": \"azure-dl-2914933029-vdtbv\", \"path\": \"/code/driver.py\", \"tags\": [], \"level\": \"INFO\", \"logger\": \"cntk_svc_logger\", \"stack_info\": null}\r\n",
      "Time distribution: preprocess=3.27 ms, eval=63.89 ms, resultPrep = 0.09 ms\r\n"
     ]
    },
    {
     "name": "stdout",
     "output_type": "stream",
     "text": [
      "{\"timestamp\": \"2018-03-18T20:40:05.580447Z\", \"message\": \"Time distribution: preprocess=3.27 ms, eval=63.89 ms, resultPrep = 0.09 ms\", \"host\": \"azure-dl-2914933029-vdtbv\", \"path\": \"/code/driver.py\", \"tags\": [], \"level\": \"INFO\", \"logger\": \"cntk_svc_logger\", \"stack_info\": null}\r\n",
      "{\"timestamp\": \"2018-03-18T20:40:05.580947Z\", \"message\": \"127.0.0.1 - - [18/Mar/2018 20:40:05] \\\"POST /score HTTP/1.0\\\" 200 -\", \"host\": \"azure-dl-2914933029-vdtbv\", \"path\": \"/opt/conda/envs/py3.6/lib/python3.6/site-packages/werkzeug/_internal.py\", \"tags\": [], \"level\": \"INFO\", \"logger\": \"werkzeug\", \"stack_info\": null}\r\n",
      "Predictions: [[('n01530575 brambling, Fringilla montifringilla', 1367.5324440002441), ('n01807496 partridge', 963.9557838439941), ('n01601694 water ouzel, dipper', 886.3053321838379)]]\r\n",
      "{\"timestamp\": \"2018-03-18T20:40:05.842165Z\", \"message\": \"Predictions: [[('n01530575 brambling, Fringilla montifringilla', 1367.5324440002441), ('n01807496 partridge', 963.9557838439941), ('n01601694 water ouzel, dipper', 886.3053321838379)]]\", \"host\": \"azure-dl-2914933029-vdtbv\", \"path\": \"/code/driver.py\", \"tags\": [], \"level\": \"INFO\", \"logger\": \"cntk_svc_logger\", \"stack_info\": null}\r\n",
      "Predictions took 67.66 ms\r\n",
      "{\"timestamp\": \"2018-03-18T20:40:05.842726Z\", \"message\": \"Predictions took 67.66 ms\", \"host\": \"azure-dl-2914933029-vdtbv\", \"path\": \"/code/driver.py\", \"tags\": [], \"level\": \"INFO\", \"logger\": \"cntk_svc_logger\", \"stack_info\": null}\r\n",
      "Time distribution: preprocess=3.29 ms, eval=64.13 ms, resultPrep = 0.1 ms\r\n",
      "{\"timestamp\": \"2018-03-18T20:40:05.843058Z\", \"message\": \"Time distribution: preprocess=3.29 ms, eval=64.13 ms, resultPrep = 0.1 ms\", \"host\": \"azure-dl-2914933029-vdtbv\", \"path\": \"/code/driver.py\", \"tags\": [], \"level\": \"INFO\", \"logger\": \"cntk_svc_logger\", \"stack_info\": null}\r\n",
      "{\"timestamp\": \"2018-03-18T20:40:05.843626Z\", \"message\": \"127.0.0.1 - - [18/Mar/2018 20:40:05] \\\"POST /score HTTP/1.0\\\" 200 -\", \"host\": \"azure-dl-2914933029-vdtbv\", \"path\": \"/opt/conda/envs/py3.6/lib/python3.6/site-packages/werkzeug/_internal.py\", \"tags\": [], \"level\": \"INFO\", \"logger\": \"werkzeug\", \"stack_info\": null}\r\n",
      "{\"timestamp\": \"2018-03-19T03:18:03.895339Z\", \"message\": \"127.0.0.1 - - [19/Mar/2018 03:18:03] \\\"GET / HTTP/1.0\\\" 200 -\", \"host\": \"azure-dl-2914933029-vdtbv\", \"path\": \"/opt/conda/envs/py3.6/lib/python3.6/site-packages/werkzeug/_internal.py\", \"tags\": [], \"level\": \"INFO\", \"logger\": \"werkzeug\", \"stack_info\": null}\r\n",
      "{\"timestamp\": \"2018-03-19T03:18:34.359322Z\", \"message\": \"127.0.0.1 - - [19/Mar/2018 03:18:34] \\\"GET /webdav HTTP/1.0\\\" 404 -\", \"host\": \"azure-dl-2914933029-vdtbv\", \"path\": \"/opt/conda/envs/py3.6/lib/python3.6/site-packages/werkzeug/_internal.py\", \"tags\": [], \"level\": \"INFO\", \"logger\": \"werkzeug\", \"stack_info\": null}\r\n",
      "{\"timestamp\": \"2018-03-19T03:18:54.804080Z\", \"message\": \"127.0.0.1 - - [19/Mar/2018 03:18:54] \\\"GET /webdav HTTP/1.0\\\" 404 -\", \"host\": \"azure-dl-2914933029-vdtbv\", \"path\": \"/opt/conda/envs/py3.6/lib/python3.6/site-packages/werkzeug/_internal.py\", \"tags\": [], \"level\": \"INFO\", \"logger\": \"werkzeug\", \"stack_info\": null}\r\n",
      "{\"timestamp\": \"2018-03-19T08:19:03.598151Z\", \"message\": \"127.0.0.1 - - [19/Mar/2018 08:19:03] \\\"GET / HTTP/1.0\\\" 200 -\", \"host\": \"azure-dl-2914933029-vdtbv\", \"path\": \"/opt/conda/envs/py3.6/lib/python3.6/site-packages/werkzeug/_internal.py\", \"tags\": [], \"level\": \"INFO\", \"logger\": \"werkzeug\", \"stack_info\": null}\r\n",
      "{\"timestamp\": \"2018-03-19T08:19:33.837453Z\", \"message\": \"127.0.0.1 - - [19/Mar/2018 08:19:33] \\\"GET /webdav HTTP/1.0\\\" 404 -\", \"host\": \"azure-dl-2914933029-vdtbv\", \"path\": \"/opt/conda/envs/py3.6/lib/python3.6/site-packages/werkzeug/_internal.py\", \"tags\": [], \"level\": \"INFO\", \"logger\": \"werkzeug\", \"stack_info\": null}\r\n"
     ]
    }
   ],
   "source": [
    "!kubectl logs azure-dl-2914933029-vdtbv"
   ]
  },
  {
   "cell_type": "code",
   "execution_count": 55,
   "metadata": {},
   "outputs": [
    {
     "name": "stdout",
     "output_type": "stream",
     "text": [
      "NAME       TYPE           CLUSTER-IP   EXTERNAL-IP     PORT(S)        AGE\r\n",
      "azure-dl   LoadBalancer   10.0.125.6   52.234.213.11   80:30179/TCP   12h\r\n"
     ]
    }
   ],
   "source": [
    "!kubectl get service azure-dl"
   ]
  },
  {
   "cell_type": "code",
   "execution_count": 157,
   "metadata": {},
   "outputs": [
    {
     "name": "stdout",
     "output_type": "stream",
     "text": [
      "Preparing Web app\n",
      "Preparing Web app\n",
      "Preparing Web app\n",
      "Preparing Web app\n",
      "Preparing Web app\n",
      "Preparing Web app\n",
      "Preparing Web app\n",
      "Preparing Web app\n",
      "Preparing Web app\n",
      "Preparing Web app\n",
      "Preparing Web app\n",
      "Preparing Web app\n",
      "Preparing Web app\n",
      "Preparing Web app\n",
      "Preparing Web app\n",
      "Preparing Web app\n",
      "Web app ready\n"
     ]
    }
   ],
   "source": [
    "# from time import sleep\n",
    "# for i in range(20):\n",
    "#     json_data = !curl http://localhost:1212/marathon/v2/apps\n",
    "#     if json.loads(json_data[-1])['apps'][0]['tasksRunning']==1:\n",
    "#         print('Web app ready')\n",
    "#         break\n",
    "#     else:\n",
    "#         print('Preparing Web app')\n",
    "#     sleep(10)\n",
    "# else:\n",
    "#     print('Timeout! Something went wrong!')"
   ]
  },
  {
   "cell_type": "markdown",
   "metadata": {
    "collapsed": true
   },
   "source": [
    "<a id='section7'></a>"
   ]
  },
  {
   "cell_type": "markdown",
   "metadata": {},
   "source": [
    "## Tear it all down \n",
    "Once you are done with your cluster you can use the following two commands to destroy it all."
   ]
  },
  {
   "cell_type": "code",
   "execution_count": null,
   "metadata": {
    "collapsed": true
   },
   "outputs": [],
   "source": [
    "!kubectl delete -f az-dl.json"
   ]
  },
  {
   "cell_type": "code",
   "execution_count": null,
   "metadata": {
    "collapsed": true
   },
   "outputs": [],
   "source": [
    "!aks delete -n myAKSCluster -g $resource_group"
   ]
  },
  {
   "cell_type": "code",
   "execution_count": 162,
   "metadata": {
    "collapsed": true
   },
   "outputs": [],
   "source": [
    "!az group delete --name $resource_group -y"
   ]
  }
 ],
 "metadata": {
  "anaconda-cloud": {},
  "kernelspec": {
   "display_name": "Python 3.5",
   "language": "python",
   "name": "python3"
  },
  "language_info": {
   "codemirror_mode": {
    "name": "ipython",
    "version": 3
   },
   "file_extension": ".py",
   "mimetype": "text/x-python",
   "name": "python",
   "nbconvert_exporter": "python",
   "pygments_lexer": "ipython3",
   "version": "3.5.2"
  }
 },
 "nbformat": 4,
 "nbformat_minor": 1
}
