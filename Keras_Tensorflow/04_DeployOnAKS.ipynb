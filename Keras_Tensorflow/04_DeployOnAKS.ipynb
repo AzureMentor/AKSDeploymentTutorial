{
 "cells": [
  {
   "cell_type": "markdown",
   "metadata": {},
   "source": [
    "# Deploy Web App on Azure Container Services (AKS)\n"
   ]
  },
  {
   "cell_type": "markdown",
   "metadata": {},
   "source": [
    "In this notebook, we will set up an Azure Container Service which will be managed by Kubernetes. We will then take the Docker image we created earlier that contains our app and deploy it to the AKS cluster. Then, we will check everything is working by sending an image to it and getting it scored. \n",
    "\n",
    "The process is split into the following steps:\n",
    "- Define our resource names\n",
    "- Login to Azure\n",
    "- Create resource group and create AKS\n",
    "- Connect to AKS\n",
    "- Deploy our app\n",
    "- Tear it all down\n",
    "\n",
    "We assume that this notebook is running on Linux and Azure CLI is installed before proceeding."
   ]
  },
  {
   "cell_type": "markdown",
   "metadata": {},
   "source": [
    "## Setup"
   ]
  },
  {
   "cell_type": "markdown",
   "metadata": {},
   "source": [
    "Below are the various name definitions for the resources needed to setup AKS as well as the name of the Docker image we will be using."
   ]
  },
  {
   "cell_type": "code",
   "execution_count": 1,
   "metadata": {
    "collapsed": true
   },
   "outputs": [],
   "source": [
    "# Please modify the below as you see fit\n",
    "resource_group = \"<RESOURCE_GROUP>\" \n",
    "aks_name = \"<AKS_CLUSTER_NAME>\"\n",
    "location = \"eastus\"\n",
    "\n",
    "image_name = '<YOUR_DOCKER_IMAGE>' # 'fboylu/kerastf-gpu' Feel free to use this image if you want to \n",
    "                                   # skip creating your own container\n",
    "selected_subscription = \"'<YOUR_SUBSCRIPTION>'\" # If you have multiple subscriptions select \n",
    "                                                # the subscription you want to use here"
   ]
  },
  {
   "cell_type": "markdown",
   "metadata": {},
   "source": [
    "## Azure account login"
   ]
  },
  {
   "cell_type": "markdown",
   "metadata": {},
   "source": [
    "The command below will initiate a login to your Azure account. It will pop up with an url to go to where you will enter a one off code and log into your Azure account using your browser."
   ]
  },
  {
   "cell_type": "code",
   "execution_count": 6,
   "metadata": {
    "collapsed": true
   },
   "outputs": [],
   "source": [
    "!az login -o table"
   ]
  },
  {
   "cell_type": "code",
   "execution_count": 7,
   "metadata": {
    "collapsed": true
   },
   "outputs": [],
   "source": [
    "!az account set --subscription $selected_subscription"
   ]
  },
  {
   "cell_type": "code",
   "execution_count": 8,
   "metadata": {
    "collapsed": true
   },
   "outputs": [],
   "source": [
    "!az account show"
   ]
  },
  {
   "cell_type": "markdown",
   "metadata": {},
   "source": [
    "You will also need to register the container service resources on your subscription if you haven't already done so."
   ]
  },
  {
   "cell_type": "code",
   "execution_count": 9,
   "metadata": {
    "collapsed": true
   },
   "outputs": [],
   "source": [
    "!az provider register -n Microsoft.ContainerService"
   ]
  },
  {
   "cell_type": "code",
   "execution_count": 10,
   "metadata": {
    "collapsed": true
   },
   "outputs": [],
   "source": [
    "!az provider show -n Microsoft.ContainerService"
   ]
  },
  {
   "cell_type": "markdown",
   "metadata": {},
   "source": [
    "## Create resources and dependencies"
   ]
  },
  {
   "cell_type": "markdown",
   "metadata": {},
   "source": [
    "### Create resource group and AKS cluster"
   ]
  },
  {
   "cell_type": "markdown",
   "metadata": {},
   "source": [
    "Azure encourages the use of groups to organize all the Azure components you deploy. That way it is easier to find them but also we can delete a number of resources simply by deleting the group."
   ]
  },
  {
   "cell_type": "code",
   "execution_count": 11,
   "metadata": {},
   "outputs": [
    {
     "name": "stdout",
     "output_type": "stream",
     "text": [
      "{\r\n",
      "  \"id\": \"/subscriptions/edf507a2-6235-46c5-b560-fd463ba2e771/resourceGroups/fbaksrg\",\r\n",
      "  \"location\": \"eastus\",\r\n",
      "  \"managedBy\": null,\r\n",
      "  \"name\": \"fbaksrg\",\r\n",
      "  \"properties\": {\r\n",
      "    \"provisioningState\": \"Succeeded\"\r\n",
      "  },\r\n",
      "  \"tags\": null\r\n",
      "}\r\n"
     ]
    }
   ],
   "source": [
    "!az group create --name $resource_group --location $location"
   ]
  },
  {
   "cell_type": "markdown",
   "metadata": {},
   "source": [
    "Below, we create the AKS cluster in the resource group we created earlier."
   ]
  },
  {
   "cell_type": "code",
   "execution_count": 12,
   "metadata": {},
   "outputs": [
    {
     "name": "stdout",
     "output_type": "stream",
     "text": [
      "\u001b[K{- Finished ..principal creation[##################################]  100.0000%\n",
      "  \"additionalProperties\": {},\n",
      "  \"agentPoolProfiles\": [\n",
      "    {\n",
      "      \"additionalProperties\": {},\n",
      "      \"count\": 1,\n",
      "      \"dnsPrefix\": null,\n",
      "      \"fqdn\": null,\n",
      "      \"name\": \"nodepool1\",\n",
      "      \"osDiskSizeGb\": null,\n",
      "      \"osType\": \"Linux\",\n",
      "      \"ports\": null,\n",
      "      \"storageProfile\": \"ManagedDisks\",\n",
      "      \"vmSize\": \"Standard_NC6\",\n",
      "      \"vnetSubnetId\": null\n",
      "    }\n",
      "  ],\n",
      "  \"dnsPrefix\": \"fbAKSClust-fbaksrg-edf507\",\n",
      "  \"fqdn\": \"fbaksclust-fbaksrg-edf507-1d0981c7.hcp.eastus.azmk8s.io\",\n",
      "  \"id\": \"/subscriptions/edf507a2-6235-46c5-b560-fd463ba2e771/resourcegroups/fbaksrg/providers/Microsoft.ContainerService/managedClusters/fbAKSCluster\",\n",
      "  \"kubernetesVersion\": \"1.7.9\",\n",
      "  \"linuxProfile\": {\n",
      "    \"additionalProperties\": {},\n",
      "    \"adminUsername\": \"azureuser\",\n",
      "    \"ssh\": {\n",
      "      \"additionalProperties\": {},\n",
      "      \"publicKeys\": [\n",
      "        {\n",
      "          \"additionalProperties\": {},\n",
      "          \"keyData\": \"ssh-rsa AAAAB3NzaC1yc2EAAAADAQABAAABAQCgTNSnvmSzdPGTzAvv8RkIm0wntQNwHEm0weIYisqfLFxYkfEAe2q5gyWgZzvRqn4u5SX8YQjj8TPxSJBp2z9VDh7OD2WdMP0ApbhgREsaCdycIb+6Ykeu8YMA6f+mlCbz4xrHh3L2SsjaLXkaA2GBPMAHwnK0eXcZlJIKO51/1j2jcd9dgx3k0FdEanTnG/15MkC32VixMmPUBEdmkSvUiZwdOncX6CzpkzTaCmdncrGJ9TlX1qAgsPH4SBFAn4wyj7213yX1xGD/nkpJLEXhe+QVBgIC1s4OLtSFNdK3yER26hT9teE5FQSpTye9SfsT+MzztThskDhzmWVAxewR\"\n",
      "        }\n",
      "      ]\n",
      "    }\n",
      "  },\n",
      "  \"location\": \"eastus\",\n",
      "  \"name\": \"fbAKSCluster\",\n",
      "  \"provisioningState\": \"Succeeded\",\n",
      "  \"resourceGroup\": \"fbaksrg\",\n",
      "  \"servicePrincipalProfile\": {\n",
      "    \"additionalProperties\": {},\n",
      "    \"clientId\": \"613f7349-cc3a-49f7-9d65-2ab3afc4453a\",\n",
      "    \"keyVaultSecretRef\": null,\n",
      "    \"secret\": null\n",
      "  },\n",
      "  \"tags\": null,\n",
      "  \"type\": \"Microsoft.ContainerService/ManagedClusters\"\n",
      "}\n",
      "\u001b[0mCPU times: user 25.2 s, sys: 7.32 s, total: 32.5 s\n",
      "Wall time: 25min 36s\n"
     ]
    }
   ],
   "source": [
    "%%time\n",
    "!az aks create --resource-group $resource_group --name $aks_name --node-count 1 --generate-ssh-keys -s Standard_NC6"
   ]
  },
  {
   "cell_type": "markdown",
   "metadata": {},
   "source": [
    "### Install kubectl CLI"
   ]
  },
  {
   "cell_type": "markdown",
   "metadata": {},
   "source": [
    "To connect to the Kubernetes cluster, we will use kubectl, the Kubernetes command-line client. To install, run the following:"
   ]
  },
  {
   "cell_type": "code",
   "execution_count": 12,
   "metadata": {},
   "outputs": [
    {
     "name": "stdout",
     "output_type": "stream",
     "text": [
      "\u001b[33mDownloading client to /usr/local/bin/kubectl from https://storage.googleapis.com/kubernetes-release/release/v1.9.6/bin/linux/amd64/kubectl\u001b[0m\r\n"
     ]
    }
   ],
   "source": [
    "!sudo az aks install-cli"
   ]
  },
  {
   "cell_type": "markdown",
   "metadata": {},
   "source": [
    "## Connect to AKS cluster"
   ]
  },
  {
   "cell_type": "markdown",
   "metadata": {},
   "source": [
    "To configure kubectl to connect to the Kubernetes cluster, run the following command:"
   ]
  },
  {
   "cell_type": "code",
   "execution_count": 13,
   "metadata": {},
   "outputs": [
    {
     "name": "stdout",
     "output_type": "stream",
     "text": [
      "Merged \"fbAKSCluster\" as current context in /home/fboylu/.kube/config\r\n"
     ]
    }
   ],
   "source": [
    "!az aks get-credentials --resource-group $resource_group --name $aks_name"
   ]
  },
  {
   "cell_type": "markdown",
   "metadata": {},
   "source": [
    "Let's verify connection by listing the nodes."
   ]
  },
  {
   "cell_type": "code",
   "execution_count": 14,
   "metadata": {},
   "outputs": [
    {
     "name": "stdout",
     "output_type": "stream",
     "text": [
      "NAME                       STATUS    ROLES     AGE       VERSION\r\n",
      "aks-nodepool1-28016997-0   Ready     agent     11m       v1.7.9\r\n"
     ]
    }
   ],
   "source": [
    "!kubectl get nodes"
   ]
  },
  {
   "cell_type": "markdown",
   "metadata": {},
   "source": [
    "Let's check the pods on our cluster."
   ]
  },
  {
   "cell_type": "code",
   "execution_count": 15,
   "metadata": {},
   "outputs": [
    {
     "name": "stdout",
     "output_type": "stream",
     "text": [
      "NAMESPACE     NAME                                    READY     STATUS    RESTARTS   AGE\r\n",
      "kube-system   heapster-2574232661-dz21t               2/2       Running   0          12m\r\n",
      "kube-system   kube-dns-v20-2253765213-6z48m           3/3       Running   0          14m\r\n",
      "kube-system   kube-dns-v20-2253765213-htqfl           3/3       Running   0          14m\r\n",
      "kube-system   kube-proxy-50n4d                        1/1       Running   0          13m\r\n",
      "kube-system   kube-svc-redirect-lz97p                 1/1       Running   0          13m\r\n",
      "kube-system   kubernetes-dashboard-2898242510-g0rlq   1/1       Running   0          14m\r\n",
      "kube-system   tunnelfront-3141404306-34mj0            1/1       Running   0          14m\r\n"
     ]
    }
   ],
   "source": [
    "!kubectl get pods --all-namespaces"
   ]
  },
  {
   "cell_type": "markdown",
   "metadata": {},
   "source": [
    "## Deploy application"
   ]
  },
  {
   "cell_type": "markdown",
   "metadata": {},
   "source": [
    "Below we define our Kubernetes manifest file for our service and load balancer. Note that we have to specify the volume mounts to the drivers that are located on the node."
   ]
  },
  {
   "cell_type": "code",
   "execution_count": 16,
   "metadata": {
    "collapsed": true
   },
   "outputs": [],
   "source": [
    "app_template = {\n",
    "  \"apiVersion\": \"apps/v1beta1\",\n",
    "  \"kind\": \"Deployment\",\n",
    "  \"metadata\": {\n",
    "      \"name\": \"azure-dl\"\n",
    "  },\n",
    "  \"spec\":{\n",
    "      \"replicas\":1,\n",
    "      \"template\":{\n",
    "          \"metadata\":{\n",
    "              \"labels\":{\n",
    "                  \"app\":\"azure-dl\"\n",
    "              }\n",
    "          },\n",
    "          \"spec\":{\n",
    "              \"containers\":[\n",
    "                  {\n",
    "                      \"name\": \"azure-dl\",\n",
    "                      \"image\": \"fboylu/kerastf-gpu\",\n",
    "                      \"env\":[\n",
    "                          {\n",
    "                              \"name\": \"LD_LIBRARY_PATH\",\n",
    "                              \"value\": \"$LD_LIBRARY_PATH:/usr/local/nvidia/lib64:/opt/conda/envs/py3.5/lib\"\n",
    "                          }\n",
    "                      ],\n",
    "                      \"ports\":[\n",
    "                          {\n",
    "                              \"containerPort\":80,\n",
    "                              \"name\":\"model\"\n",
    "                          }\n",
    "                      ],\n",
    "                      \"volumeMounts\":[\n",
    "                          {\n",
    "                              \"name\": \"bin\",\n",
    "                              \"mountPath\":\"/usr/local/nvidia/bin\" \n",
    "                          },\n",
    "                          {\n",
    "                              \"name\": \"lib\",\n",
    "                              \"mountPath\":\"/usr/local/nvidia/lib64\" \n",
    "                          },\n",
    "                          {\n",
    "                              \"name\": \"libcuda\",\n",
    "                              \"mountPath\":\"/usr/lib/x86_64-linux-gnu/libcuda.so.1\" \n",
    "                          },\n",
    "                      ],\n",
    "                      \"resources\":{\n",
    "                           \"requests\":{\n",
    "                               \"alpha.kubernetes.io/nvidia-gpu\": 1\n",
    "                           },\n",
    "                           \"limits\":{\n",
    "                               \"alpha.kubernetes.io/nvidia-gpu\": 1\n",
    "                           }\n",
    "                       }  \n",
    "                  }\n",
    "              ],\n",
    "              \"volumes\":[\n",
    "                  {\n",
    "                      \"name\": \"bin\",\n",
    "                      \"hostPath\":{\n",
    "                          \"path\":\"/usr/lib/nvidia-384/bin\"\n",
    "                      },\n",
    "                  },\n",
    "                  {\n",
    "                      \"name\": \"lib\",\n",
    "                      \"hostPath\":{\n",
    "                          \"path\":\"/usr/lib/nvidia-384\"\n",
    "                      },\n",
    "                  },\n",
    "                  {\n",
    "                      \"name\": \"libcuda\",\n",
    "                      \"hostPath\":{\n",
    "                          \"path\":\"/usr/lib/x86_64-linux-gnu/libcuda.so.1\"\n",
    "                      },\n",
    "                  },\n",
    "              ]\n",
    "          }\n",
    "      }\n",
    "  }\n",
    "}\n",
    "\n",
    "service_temp = {\n",
    "  \"apiVersion\": \"v1\",\n",
    "  \"kind\": \"Service\",\n",
    "  \"metadata\": {\n",
    "      \"name\": \"azure-dl\"\n",
    "  },\n",
    "  \"spec\":{\n",
    "      \"type\": \"LoadBalancer\",\n",
    "      \"ports\":[\n",
    "          {\n",
    "              \"port\":80\n",
    "          }\n",
    "      ],\n",
    "      \"selector\":{\n",
    "            \"app\":\"azure-dl\"\n",
    "      }\n",
    "   }\n",
    "}"
   ]
  },
  {
   "cell_type": "code",
   "execution_count": 17,
   "metadata": {
    "collapsed": true
   },
   "outputs": [],
   "source": [
    "import json\n",
    "def write_json_to_file(json_dict, filename, mode='w'):\n",
    "    with open(filename, mode) as outfile:\n",
    "        json.dump(json_dict, outfile, indent=4, sort_keys=True)\n",
    "        outfile.write('\\n\\n')"
   ]
  },
  {
   "cell_type": "code",
   "execution_count": 18,
   "metadata": {
    "collapsed": true
   },
   "outputs": [],
   "source": [
    "write_json_to_file(app_template, 'az-dl.json')"
   ]
  },
  {
   "cell_type": "code",
   "execution_count": 19,
   "metadata": {
    "collapsed": true
   },
   "outputs": [],
   "source": [
    "write_json_to_file(service_temp, 'az-dl.json', mode='a')"
   ]
  },
  {
   "cell_type": "markdown",
   "metadata": {},
   "source": [
    "Let's check the manifest created."
   ]
  },
  {
   "cell_type": "code",
   "execution_count": 20,
   "metadata": {},
   "outputs": [
    {
     "name": "stdout",
     "output_type": "stream",
     "text": [
      "{\r\n",
      "    \"apiVersion\": \"apps/v1beta1\",\r\n",
      "    \"kind\": \"Deployment\",\r\n",
      "    \"metadata\": {\r\n",
      "        \"name\": \"azure-dl\"\r\n",
      "    },\r\n",
      "    \"spec\": {\r\n",
      "        \"replicas\": 1,\r\n",
      "        \"template\": {\r\n",
      "            \"metadata\": {\r\n",
      "                \"labels\": {\r\n",
      "                    \"app\": \"azure-dl\"\r\n",
      "                }\r\n",
      "            },\r\n",
      "            \"spec\": {\r\n",
      "                \"containers\": [\r\n",
      "                    {\r\n",
      "                        \"env\": [\r\n",
      "                            {\r\n",
      "                                \"name\": \"LD_LIBRARY_PATH\",\r\n",
      "                                \"value\": \"$LD_LIBRARY_PATH:/usr/local/nvidia/lib64:/opt/conda/envs/py3.5/lib\"\r\n",
      "                            }\r\n",
      "                        ],\r\n",
      "                        \"image\": \"fboylu/kerastf-gpu\",\r\n",
      "                        \"name\": \"azure-dl\",\r\n",
      "                        \"ports\": [\r\n",
      "                            {\r\n",
      "                                \"containerPort\": 80,\r\n",
      "                                \"name\": \"model\"\r\n",
      "                            }\r\n",
      "                        ],\r\n",
      "                        \"resources\": {\r\n",
      "                            \"limits\": {\r\n",
      "                                \"alpha.kubernetes.io/nvidia-gpu\": 1\r\n",
      "                            },\r\n",
      "                            \"requests\": {\r\n",
      "                                \"alpha.kubernetes.io/nvidia-gpu\": 1\r\n",
      "                            }\r\n",
      "                        },\r\n",
      "                        \"volumeMounts\": [\r\n",
      "                            {\r\n",
      "                                \"mountPath\": \"/usr/local/nvidia/bin\",\r\n",
      "                                \"name\": \"bin\"\r\n",
      "                            },\r\n",
      "                            {\r\n",
      "                                \"mountPath\": \"/usr/local/nvidia/lib64\",\r\n",
      "                                \"name\": \"lib\"\r\n",
      "                            },\r\n",
      "                            {\r\n",
      "                                \"mountPath\": \"/usr/lib/x86_64-linux-gnu/libcuda.so.1\",\r\n",
      "                                \"name\": \"libcuda\"\r\n",
      "                            }\r\n",
      "                        ]\r\n",
      "                    }\r\n",
      "                ],\r\n",
      "                \"volumes\": [\r\n",
      "                    {\r\n",
      "                        \"hostPath\": {\r\n",
      "                            \"path\": \"/usr/lib/nvidia-384/bin\"\r\n",
      "                        },\r\n",
      "                        \"name\": \"bin\"\r\n",
      "                    },\r\n",
      "                    {\r\n",
      "                        \"hostPath\": {\r\n",
      "                            \"path\": \"/usr/lib/nvidia-384\"\r\n",
      "                        },\r\n",
      "                        \"name\": \"lib\"\r\n",
      "                    },\r\n",
      "                    {\r\n",
      "                        \"hostPath\": {\r\n",
      "                            \"path\": \"/usr/lib/x86_64-linux-gnu/libcuda.so.1\"\r\n",
      "                        },\r\n",
      "                        \"name\": \"libcuda\"\r\n",
      "                    }\r\n",
      "                ]\r\n",
      "            }\r\n",
      "        }\r\n",
      "    }\r\n",
      "}\r\n",
      "\r\n",
      "{\r\n",
      "    \"apiVersion\": \"v1\",\r\n",
      "    \"kind\": \"Service\",\r\n",
      "    \"metadata\": {\r\n",
      "        \"name\": \"azure-dl\"\r\n",
      "    },\r\n",
      "    \"spec\": {\r\n",
      "        \"ports\": [\r\n",
      "            {\r\n",
      "                \"port\": 80\r\n",
      "            }\r\n",
      "        ],\r\n",
      "        \"selector\": {\r\n",
      "            \"app\": \"azure-dl\"\r\n",
      "        },\r\n",
      "        \"type\": \"LoadBalancer\"\r\n",
      "    }\r\n",
      "}\r\n",
      "\r\n"
     ]
    }
   ],
   "source": [
    "!cat az-dl.json"
   ]
  },
  {
   "cell_type": "markdown",
   "metadata": {},
   "source": [
    "Next, we will use kubectl create command to deploy our application."
   ]
  },
  {
   "cell_type": "code",
   "execution_count": 21,
   "metadata": {},
   "outputs": [
    {
     "name": "stdout",
     "output_type": "stream",
     "text": [
      "deployment \"azure-dl\" created\n",
      "service \"azure-dl\" created\n"
     ]
    }
   ],
   "source": [
    "!kubectl create -f az-dl.json"
   ]
  },
  {
   "cell_type": "markdown",
   "metadata": {},
   "source": [
    "Let's check if the pod is deployed."
   ]
  },
  {
   "cell_type": "code",
   "execution_count": 22,
   "metadata": {},
   "outputs": [
    {
     "name": "stdout",
     "output_type": "stream",
     "text": [
      "NAMESPACE     NAME                                    READY     STATUS              RESTARTS   AGE\r\n",
      "default       azure-dl-1885859937-8vrkv               0/1       ContainerCreating   0          40s\r\n",
      "kube-system   heapster-2574232661-dz21t               2/2       Running             0          17m\r\n",
      "kube-system   kube-dns-v20-2253765213-6z48m           3/3       Running             0          18m\r\n",
      "kube-system   kube-dns-v20-2253765213-htqfl           3/3       Running             0          18m\r\n",
      "kube-system   kube-proxy-50n4d                        1/1       Running             0          18m\r\n",
      "kube-system   kube-svc-redirect-lz97p                 1/1       Running             0          18m\r\n",
      "kube-system   kubernetes-dashboard-2898242510-g0rlq   1/1       Running             0          18m\r\n",
      "kube-system   tunnelfront-3141404306-34mj0            1/1       Running             0          18m\r\n"
     ]
    }
   ],
   "source": [
    "!kubectl get pods --all-namespaces"
   ]
  },
  {
   "cell_type": "markdown",
   "metadata": {},
   "source": [
    "If anything goes wrong you can use the commands below to observe the events on the node as well as review the logs."
   ]
  },
  {
   "cell_type": "code",
   "execution_count": 23,
   "metadata": {},
   "outputs": [
    {
     "name": "stdout",
     "output_type": "stream",
     "text": [
      "LAST SEEN   FIRST SEEN   COUNT     NAME                                         KIND         SUBOBJECT                   TYPE      REASON                             SOURCE                                 MESSAGE\r\n",
      "19m         24m          7         aks-nodepool1-28016997-0.152241072750679b    Node                                     Normal    NodeHasSufficientDisk              kubelet, aks-nodepool1-28016997-0      Node aks-nodepool1-28016997-0 status is now: NodeHasSufficientDisk\r\n",
      "19m         24m          7         aks-nodepool1-28016997-0.152241072750d04b    Node                                     Normal    NodeHasSufficientMemory            kubelet, aks-nodepool1-28016997-0      Node aks-nodepool1-28016997-0 status is now: NodeHasSufficientMemory\r\n",
      "19m         24m          7         aks-nodepool1-28016997-0.152241072750f823    Node                                     Normal    NodeHasNoDiskPressure              kubelet, aks-nodepool1-28016997-0      Node aks-nodepool1-28016997-0 status is now: NodeHasNoDiskPressure\r\n",
      "18s         24m          25        aks-nodepool1-28016997-0.15224107276aae85    Node                                     Warning   FailedNodeAllocatableEnforcement   kubelet, aks-nodepool1-28016997-0      Failed to update Node Allocatable Limits \"\": failed to set supported cgroup subsystems for cgroup : Failed to set config for supported subsystems : failed to write 59076296704 to memory.limit_in_bytes: write /var/lib/docker/overlay2/4070e9a54f4f4a87849606914ee89de08c93e79ce54ee3531a9b6c3709d42ae4/merged/sys/fs/cgroup/memory/memory.limit_in_bytes: invalid argument\r\n",
      "19m         19m          1         aks-nodepool1-28016997-0.1522414beca18a13    Node                                     Normal    RegisteredNode                     controllermanager                      Node aks-nodepool1-28016997-0 event: Registered Node aks-nodepool1-28016997-0 in NodeController\r\n",
      "19m         19m          1         aks-nodepool1-28016997-0.1522414c5efa4db5    Node                                     Normal    Starting                           kube-proxy, aks-nodepool1-28016997-0   Starting kube-proxy.\r\n",
      "19m         19m          1         aks-nodepool1-28016997-0.152241509d336387    Node                                     Normal    NodeReady                          kubelet, aks-nodepool1-28016997-0      Node aks-nodepool1-28016997-0 status is now: NodeReady\r\n",
      "1m          1m           1         azure-dl-1885859937-8vrkv.1522424350d2a97e   Pod                                      Normal    Scheduled                          default-scheduler                      Successfully assigned azure-dl-1885859937-8vrkv to aks-nodepool1-28016997-0\r\n",
      "1m          1m           1         azure-dl-1885859937-8vrkv.1522424360b50d57   Pod                                      Normal    SuccessfulMountVolume              kubelet, aks-nodepool1-28016997-0      MountVolume.SetUp succeeded for volume \"libcuda\" \r\n",
      "1m          1m           1         azure-dl-1885859937-8vrkv.1522424360b57283   Pod                                      Normal    SuccessfulMountVolume              kubelet, aks-nodepool1-28016997-0      MountVolume.SetUp succeeded for volume \"lib\" \r\n",
      "1m          1m           1         azure-dl-1885859937-8vrkv.1522424360d1d3ad   Pod                                      Normal    SuccessfulMountVolume              kubelet, aks-nodepool1-28016997-0      MountVolume.SetUp succeeded for volume \"bin\" \r\n",
      "1m          1m           1         azure-dl-1885859937-8vrkv.152242436145e3e8   Pod                                      Normal    SuccessfulMountVolume              kubelet, aks-nodepool1-28016997-0      MountVolume.SetUp succeeded for volume \"default-token-jjmz3\" \r\n",
      "1m          1m           1         azure-dl-1885859937-8vrkv.152242438780c811   Pod          spec.containers{azure-dl}   Normal    Pulling                            kubelet, aks-nodepool1-28016997-0      pulling image \"fboylu/kerastf-gpu\"\r\n",
      "1m          1m           1         azure-dl-1885859937.152242434ff604d9         ReplicaSet                               Normal    SuccessfulCreate                   replicaset-controller                  Created pod: azure-dl-1885859937-8vrkv\r\n",
      "1m          1m           1         azure-dl.152242434d86dc7a                    Deployment                               Normal    ScalingReplicaSet                  deployment-controller                  Scaled up replica set azure-dl-1885859937 to 1\r\n",
      "1m          1m           1         azure-dl.1522424351ea960b                    Service                                  Normal    CreatingLoadBalancer               service-controller                     Creating load balancer\r\n"
     ]
    }
   ],
   "source": [
    "!kubectl get events"
   ]
  },
  {
   "cell_type": "markdown",
   "metadata": {},
   "source": [
    "Check the logs for the application pod."
   ]
  },
  {
   "cell_type": "code",
   "execution_count": 24,
   "metadata": {
    "collapsed": true
   },
   "outputs": [],
   "source": [
    "pod_json = !kubectl get pods -o json\n",
    "pod_dict = json.loads(''.join(pod_json))"
   ]
  },
  {
   "cell_type": "code",
   "execution_count": 27,
   "metadata": {},
   "outputs": [
    {
     "name": "stdout",
     "output_type": "stream",
     "text": [
      "2018-04-04 14:37:42,384 CRIT Supervisor running as root (no user in config file)\r\n",
      "2018-04-04 14:37:42,386 INFO supervisord started with pid 8\r\n",
      "2018-04-04 14:37:43,388 INFO spawned: 'program_exit' with pid 18\r\n",
      "2018-04-04 14:37:43,389 INFO spawned: 'nginx' with pid 19\r\n",
      "2018-04-04 14:37:43,391 INFO spawned: 'gunicorn' with pid 20\r\n",
      "2018-04-04 14:37:44,435 INFO success: program_exit entered RUNNING state, process has stayed up for > than 1 seconds (startsecs)\r\n",
      "2018-04-04 14:37:44.880056: I tensorflow/core/platform/cpu_feature_guard.cc:137] Your CPU supports instructions that this TensorFlow binary was not compiled to use: SSE4.1 SSE4.2 AVX AVX2 FMA\r\n",
      "2018-04-04 14:37:48,887 INFO success: nginx entered RUNNING state, process has stayed up for > than 5 seconds (startsecs)\r\n",
      "2018-04-04 14:37:54.419320: I tensorflow/core/common_runtime/gpu/gpu_device.cc:1030] Found device 0 with properties: \r\n",
      "name: Tesla K80 major: 3 minor: 7 memoryClockRate(GHz): 0.8235\r\n",
      "pciBusID: f542:00:00.0\r\n",
      "totalMemory: 11.17GiB freeMemory: 11.10GiB\r\n",
      "2018-04-04 14:37:54.419396: I tensorflow/core/common_runtime/gpu/gpu_device.cc:1120] Creating TensorFlow device (/device:GPU:0) -> (device: 0, name: Tesla K80, pci bus id: f542:00:00.0, compute capability: 3.7)\r\n",
      "2018-04-04 14:38:03,427 INFO success: gunicorn entered RUNNING state, process has stayed up for > than 20 seconds (startsecs)\r\n",
      "Executing create_scoring_func() method...\r\n",
      "Downloading data from https://github.com/adamcasson/resnet152/releases/download/v0.1/resnet152_weights_tf.h5\r\n",
      "\r\n",
      "     8192/243179624 [..............................] - ETA: 1:08\r\n",
      "  1556480/243179624 [..............................] - ETA: 8s  \r\n",
      "  4546560/243179624 [..............................] - ETA: 5s\r\n",
      "  9314304/243179624 [>.............................] - ETA: 3s\r\n",
      " 14360576/243179624 [>.............................] - ETA: 3s\r\n",
      " 19898368/243179624 [=>............................] - ETA: 2s\r\n",
      " 23560192/243179624 [=>............................] - ETA: 2s\r\n",
      " 30400512/243179624 [==>...........................] - ETA: 2s\r\n",
      " 39231488/243179624 [===>..........................] - ETA: 2s\r\n",
      " 48078848/243179624 [====>.........................] - ETA: 1s\r\n",
      " 53477376/243179624 [=====>........................] - ETA: 1s\r\n",
      " 62218240/243179624 [======>.......................] - ETA: 1s\r\n",
      " 69214208/243179624 [=======>......................] - ETA: 3s\r\n",
      " 73629696/243179624 [========>.....................] - ETA: 3s\r\n",
      " 81166336/243179624 [=========>....................] - ETA: 3s\r\n",
      " 86802432/243179624 [=========>....................] - ETA: 3s\r\n",
      " 90177536/243179624 [==========>...................] - ETA: 2s\r\n",
      " 94543872/243179624 [==========>...................] - ETA: 2s\r\n",
      "102400000/243179624 [===========>..................] - ETA: 2s\r\n",
      "107134976/243179624 [============>.................] - ETA: 2s\r\n",
      "112795648/243179624 [============>.................] - ETA: 2s\r\n",
      "118505472/243179624 [=============>................] - ETA: 2s\r\n",
      "124223488/243179624 [==============>...............] - ETA: 1s\r\n",
      "130670592/243179624 [===============>..............] - ETA: 1s\r\n",
      "136347648/243179624 [===============>..............] - ETA: 1s\r\n",
      "140025856/243179624 [================>.............] - ETA: 1s\r\n",
      "148250624/243179624 [=================>............] - ETA: 1s\r\n",
      "157220864/243179624 [==================>...........] - ETA: 1s\r\n",
      "166453248/243179624 [===================>..........] - ETA: 1s\r\n",
      "173039616/243179624 [====================>.........] - ETA: 0s\r\n",
      "178798592/243179624 [=====================>........] - ETA: 0s\r\n",
      "187072512/243179624 [======================>.......] - ETA: 0s\r\n",
      "193331200/243179624 [======================>.......] - ETA: 0s\r\n",
      "198623232/243179624 [=======================>......] - ETA: 0s\r\n",
      "201015296/243179624 [=======================>......] - ETA: 0s\r\n",
      "203390976/243179624 [========================>.....] - ETA: 0s\r\n",
      "211050496/243179624 [=========================>....] - ETA: 0s\r\n",
      "215146496/243179624 [=========================>....] - ETA: 0s\r\n",
      "222715904/243179624 [==========================>...] - ETA: 0s\r\n",
      "231104512/243179624 [===========================>..] - ETA: 0s\r\n",
      "239443968/243179624 [============================>.] - ETA: 0s\r\n",
      "243187712/243179624 [==============================] - 3s 0us/step\r\n"
     ]
    }
   ],
   "source": [
    "!kubectl logs {pod_dict['items'][0]['metadata']['name']}"
   ]
  },
  {
   "cell_type": "code",
   "execution_count": 28,
   "metadata": {},
   "outputs": [
    {
     "name": "stdout",
     "output_type": "stream",
     "text": [
      "NAME       DESIRED   CURRENT   UP-TO-DATE   AVAILABLE   AGE\r\n",
      "azure-dl   1         1         1            1           28m\r\n"
     ]
    }
   ],
   "source": [
    "!kubectl get deployment"
   ]
  },
  {
   "cell_type": "markdown",
   "metadata": {},
   "source": [
    "It can take a few minutes for the service to populate the EXTERNAL-IP field below. This will be the IP you use to call the service. You can also specify an IP to use, please see the AKS documentation for further details."
   ]
  },
  {
   "cell_type": "code",
   "execution_count": 29,
   "metadata": {},
   "outputs": [
    {
     "name": "stdout",
     "output_type": "stream",
     "text": [
      "NAME       TYPE           CLUSTER-IP     EXTERNAL-IP      PORT(S)        AGE\r\n",
      "azure-dl   LoadBalancer   10.0.107.160   52.224.106.118   80:31114/TCP   28m\r\n"
     ]
    }
   ],
   "source": [
    "!kubectl get service azure-dl"
   ]
  },
  {
   "cell_type": "markdown",
   "metadata": {},
   "source": [
    "# Tear it all down"
   ]
  },
  {
   "cell_type": "markdown",
   "metadata": {},
   "source": [
    "Once you are done with your cluster you can use the following two commands to destroy it all."
   ]
  },
  {
   "cell_type": "code",
   "execution_count": 4,
   "metadata": {},
   "outputs": [
    {
     "name": "stdout",
     "output_type": "stream",
     "text": [
      "deployment \"azure-dl\" deleted\n",
      "service \"azure-dl\" deleted\n"
     ]
    }
   ],
   "source": [
    "!kubectl delete -f az-dl.json"
   ]
  },
  {
   "cell_type": "code",
   "execution_count": 5,
   "metadata": {},
   "outputs": [
    {
     "name": "stdout",
     "output_type": "stream",
     "text": [
      "\u001b[K\u001b[31mDeployment failed. Correlation ID: 4535be5c-80cf-4c58-a2fa-7feef2577a42. Unexpected response trying to delete control plane\u001b[0m\n",
      "\u001b[0m"
     ]
    }
   ],
   "source": [
    "!az aks delete -n $aks_name -g $resource_group -y"
   ]
  },
  {
   "cell_type": "code",
   "execution_count": 6,
   "metadata": {},
   "outputs": [
    {
     "name": "stdout",
     "output_type": "stream",
     "text": [
      "\u001b[K\u001b[0minished .."
     ]
    }
   ],
   "source": [
    "!az group delete --name $resource_group -y"
   ]
  },
  {
   "cell_type": "markdown",
   "metadata": {},
   "source": [
    "Next, we will [test our web application deployed on AKS](05_TestWebApp.ipynb)."
   ]
  }
 ],
 "metadata": {
  "kernelspec": {
   "display_name": "Python [conda env:py35]",
   "language": "python",
   "name": "conda-env-py35-py"
  },
  "language_info": {
   "codemirror_mode": {
    "name": "ipython",
    "version": 3
   },
   "file_extension": ".py",
   "mimetype": "text/x-python",
   "name": "python",
   "nbconvert_exporter": "python",
   "pygments_lexer": "ipython3",
   "version": "3.5.2"
  }
 },
 "nbformat": 4,
 "nbformat_minor": 2
}
